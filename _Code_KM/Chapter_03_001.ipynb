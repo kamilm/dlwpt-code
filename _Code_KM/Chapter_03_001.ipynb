{
 "cells": [
  {
   "cell_type": "markdown",
   "id": "d9eef395-20dc-4899-b88d-d0ccf48e6d92",
   "metadata": {},
   "source": [
    "# Chapter 3"
   ]
  },
  {
   "cell_type": "markdown",
   "id": "01ae9494-beae-4e48-ae81-7ef9e7887827",
   "metadata": {},
   "source": [
    "work/examples from the chapter"
   ]
  },
  {
   "cell_type": "code",
   "execution_count": 1,
   "id": "92f6fa43-7998-4f61-9a87-74189743d31a",
   "metadata": {},
   "outputs": [],
   "source": [
    "import torch"
   ]
  },
  {
   "cell_type": "code",
   "execution_count": 2,
   "id": "880c063e-5e5b-4dda-8005-a966566eb947",
   "metadata": {},
   "outputs": [],
   "source": [
    "a = [1., 2., 3.]"
   ]
  },
  {
   "cell_type": "code",
   "execution_count": 3,
   "id": "bf560487-ff41-4059-ab44-d00f0ca11cd9",
   "metadata": {},
   "outputs": [
    {
     "data": {
      "text/plain": [
       "list"
      ]
     },
     "execution_count": 3,
     "metadata": {},
     "output_type": "execute_result"
    }
   ],
   "source": [
    "type(a)"
   ]
  },
  {
   "cell_type": "code",
   "execution_count": 4,
   "id": "b75fdce5-87cb-478f-98ce-0bceb3eca77c",
   "metadata": {},
   "outputs": [
    {
     "data": {
      "text/plain": [
       "tensor([1., 1., 1.])"
      ]
     },
     "execution_count": 4,
     "metadata": {},
     "output_type": "execute_result"
    }
   ],
   "source": [
    "a = torch.ones(3)\n",
    "a"
   ]
  },
  {
   "cell_type": "code",
   "execution_count": 5,
   "id": "8230bc0b-4fa9-497e-a8f8-cd19f208a85c",
   "metadata": {},
   "outputs": [
    {
     "data": {
      "text/plain": [
       "tensor(1.)"
      ]
     },
     "execution_count": 5,
     "metadata": {},
     "output_type": "execute_result"
    }
   ],
   "source": [
    "a[1]"
   ]
  },
  {
   "cell_type": "code",
   "execution_count": 6,
   "id": "fc508f46-1d54-4d42-bdbf-e211b98b41e7",
   "metadata": {},
   "outputs": [],
   "source": [
    "a[2] = 2."
   ]
  },
  {
   "cell_type": "code",
   "execution_count": 7,
   "id": "6e8ebd4b-f7fa-474d-ab3c-17eb42e961a8",
   "metadata": {},
   "outputs": [
    {
     "data": {
      "text/plain": [
       "tensor([1., 1., 2.])"
      ]
     },
     "execution_count": 7,
     "metadata": {},
     "output_type": "execute_result"
    }
   ],
   "source": [
    "a"
   ]
  },
  {
   "cell_type": "markdown",
   "id": "34bacc6c-b2d2-47c7-a4c8-e560fd9ece89",
   "metadata": {},
   "source": [
    "suppose we want to store coordinates, (4,1), (5,3), and (2,1) we can do this in python or torch"
   ]
  },
  {
   "cell_type": "code",
   "execution_count": 8,
   "id": "ab6d17b6-9464-49f7-bbb7-efca771dce7d",
   "metadata": {},
   "outputs": [
    {
     "data": {
      "text/plain": [
       "tensor([4., 1., 5., 3., 2., 1.])"
      ]
     },
     "execution_count": 8,
     "metadata": {},
     "output_type": "execute_result"
    }
   ],
   "source": [
    "points = torch.tensor([4.,1,5,3,2,1])\n",
    "points"
   ]
  },
  {
   "cell_type": "markdown",
   "id": "9b54d17d-206c-4eff-90d1-99591aa4158b",
   "metadata": {},
   "source": [
    "we can also build a 2d tensor:"
   ]
  },
  {
   "cell_type": "code",
   "execution_count": 9,
   "id": "30acf6f0-c3e9-4478-b375-3d842deeadc4",
   "metadata": {},
   "outputs": [
    {
     "data": {
      "text/plain": [
       "tensor([[4., 1.],\n",
       "        [5., 3.],\n",
       "        [2., 1.]])"
      ]
     },
     "execution_count": 9,
     "metadata": {},
     "output_type": "execute_result"
    }
   ],
   "source": [
    "points = torch.tensor([[4.,1], [5,3], [2,1]])\n",
    "points"
   ]
  },
  {
   "cell_type": "code",
   "execution_count": 10,
   "id": "e09780d4-b624-4af8-a048-33d372b71f2f",
   "metadata": {},
   "outputs": [
    {
     "data": {
      "text/plain": [
       "torch.Size([3, 2])"
      ]
     },
     "execution_count": 10,
     "metadata": {},
     "output_type": "execute_result"
    }
   ],
   "source": [
    "points.shape"
   ]
  },
  {
   "cell_type": "markdown",
   "id": "46cb305b-ca6d-4a4e-b2bd-0ef63fe51812",
   "metadata": {},
   "source": [
    "we can perform slicing as before"
   ]
  },
  {
   "cell_type": "code",
   "execution_count": 11,
   "id": "be9f2382-a63e-4f58-b9d3-f770cd2015e6",
   "metadata": {},
   "outputs": [
    {
     "data": {
      "text/plain": [
       "tensor([4., 1.])"
      ]
     },
     "execution_count": 11,
     "metadata": {},
     "output_type": "execute_result"
    }
   ],
   "source": [
    "# get first row\n",
    "points[0]"
   ]
  },
  {
   "cell_type": "code",
   "execution_count": 12,
   "id": "133ea918-845b-45d6-bacf-65f97f8dc458",
   "metadata": {},
   "outputs": [
    {
     "data": {
      "text/plain": [
       "tensor([4., 5., 2.])"
      ]
     },
     "execution_count": 12,
     "metadata": {},
     "output_type": "execute_result"
    }
   ],
   "source": [
    "# get first column\n",
    "points[:,0]"
   ]
  },
  {
   "cell_type": "code",
   "execution_count": 13,
   "id": "5bc06082-c4dc-4798-8c21-8999ff2e2cb9",
   "metadata": {},
   "outputs": [
    {
     "data": {
      "text/plain": [
       "tensor(3.)"
      ]
     },
     "execution_count": 13,
     "metadata": {},
     "output_type": "execute_result"
    }
   ],
   "source": [
    "# get 3. from the array\n",
    "points[1,1]"
   ]
  },
  {
   "cell_type": "code",
   "execution_count": 14,
   "id": "35f772f3-e790-4fc3-8fa1-a45dfd4477b3",
   "metadata": {},
   "outputs": [
    {
     "data": {
      "text/plain": [
       "tensor(2.)"
      ]
     },
     "execution_count": 14,
     "metadata": {},
     "output_type": "execute_result"
    }
   ],
   "source": [
    "# get 2. from array\n",
    "points[2,0]"
   ]
  },
  {
   "cell_type": "code",
   "execution_count": 15,
   "id": "6e299ad6-a92d-48b3-840c-07881b796926",
   "metadata": {},
   "outputs": [
    {
     "data": {
      "text/plain": [
       "tensor([[[4., 1.],\n",
       "         [5., 3.],\n",
       "         [2., 1.]]])"
      ]
     },
     "execution_count": 15,
     "metadata": {},
     "output_type": "execute_result"
    }
   ],
   "source": [
    "points[None]"
   ]
  },
  {
   "cell_type": "code",
   "execution_count": 17,
   "id": "6b0b2e20-ae15-4b48-b86b-a7fc60265273",
   "metadata": {},
   "outputs": [
    {
     "data": {
      "text/plain": [
       "(torch.Size([3, 2]), torch.Size([1, 3, 2]))"
      ]
     },
     "execution_count": 17,
     "metadata": {},
     "output_type": "execute_result"
    }
   ],
   "source": [
    "points.shape, points[None].shape"
   ]
  },
  {
   "cell_type": "code",
   "execution_count": 18,
   "id": "83dbfe2e-3f8b-40c7-8a18-80caf7975635",
   "metadata": {},
   "outputs": [],
   "source": [
    "img_t = torch.randn(3,5,5)\n",
    "weights = torch.tensor([0.216, 0.715, 0.072])\n",
    "batch_t = torch.randn(2,3,5,5)"
   ]
  },
  {
   "cell_type": "code",
   "execution_count": 20,
   "id": "8f123880-ef4c-4ac8-b314-19a4dcaeb572",
   "metadata": {},
   "outputs": [
    {
     "data": {
      "text/plain": [
       "(torch.Size([5, 5]), torch.Size([2, 5, 5]))"
      ]
     },
     "execution_count": 20,
     "metadata": {},
     "output_type": "execute_result"
    }
   ],
   "source": [
    "# compute simple mean\n",
    "img_gray_naive = img_t.mean(-3)\n",
    "batch_gray_naive = batch_t.mean(-3)\n",
    "\n",
    "img_gray_naive.shape, batch_gray_naive.shape"
   ]
  },
  {
   "cell_type": "code",
   "execution_count": 21,
   "id": "706bcdaf-b8d1-482b-b4ab-076f5305f912",
   "metadata": {},
   "outputs": [
    {
     "data": {
      "text/plain": [
       "(torch.Size([3, 1, 1]),\n",
       " tensor([[[0.2160]],\n",
       " \n",
       "         [[0.7150]],\n",
       " \n",
       "         [[0.0720]]]))"
      ]
     },
     "execution_count": 21,
     "metadata": {},
     "output_type": "execute_result"
    }
   ],
   "source": [
    "unsqueezed_weights = weights.unsqueeze(-1).unsqueeze_(-1)\n",
    "unsqueezed_weights.shape, unsqueezed_weights"
   ]
  },
  {
   "cell_type": "code",
   "execution_count": 24,
   "id": "e003b759-00dd-4aab-bbc4-ad53389f394b",
   "metadata": {},
   "outputs": [
    {
     "data": {
      "text/plain": [
       "\u001b[0;31mDocstring:\u001b[0m\n",
       "unsqueeze_(dim) -> Tensor\n",
       "\n",
       "In-place version of :meth:`~Tensor.unsqueeze`\n",
       "\u001b[0;31mType:\u001b[0m      builtin_function_or_method\n"
      ]
     },
     "metadata": {},
     "output_type": "display_data"
    }
   ],
   "source": [
    "weights.unsqueeze_?"
   ]
  },
  {
   "cell_type": "code",
   "execution_count": 25,
   "id": "904a2a16-03e1-4bfa-998c-7435cd31e508",
   "metadata": {},
   "outputs": [],
   "source": [
    "img_weights = img_t * unsqueezed_weights\n",
    "batch_weights = batch_t * unsqueezed_weights"
   ]
  },
  {
   "cell_type": "code",
   "execution_count": 26,
   "id": "c9fed77f-6b1d-4615-a2a3-d0218b72b7b0",
   "metadata": {},
   "outputs": [
    {
     "data": {
      "text/plain": [
       "(torch.Size([2, 3, 5, 5]), torch.Size([2, 3, 5, 5]))"
      ]
     },
     "execution_count": 26,
     "metadata": {},
     "output_type": "execute_result"
    }
   ],
   "source": [
    "batch_weights.shape, batch_t.shape"
   ]
  },
  {
   "cell_type": "code",
   "execution_count": 27,
   "id": "8e0afd79-b5fd-4273-bba7-e1b9086f17f3",
   "metadata": {},
   "outputs": [],
   "source": [
    "img_gray_weighted = img_weights.sum(-3)\n",
    "batch_gray_weighted = batch_weights.sum(-3)"
   ]
  },
  {
   "cell_type": "markdown",
   "id": "734d2b32-0830-4386-abfa-6a364aaa36d0",
   "metadata": {},
   "source": [
    "Named Tensors"
   ]
  },
  {
   "cell_type": "code",
   "execution_count": 28,
   "id": "87c118d8-cb9d-4146-85c4-a42cc57db55f",
   "metadata": {},
   "outputs": [
    {
     "name": "stderr",
     "output_type": "stream",
     "text": [
      "/opt/conda/conda-bld/pytorch_1587428270644/work/c10/core/TensorImpl.h:806: UserWarning: Named tensors and all their associated APIs are an experimental feature and subject to change. Please do not use them for anything important until they are released as stable.\n"
     ]
    },
    {
     "data": {
      "text/plain": [
       "tensor([[[-0.8987, -0.2165,  0.6534,  0.1293, -0.0560],\n",
       "         [-1.9278,  0.0305, -0.4811, -2.0761, -0.5845],\n",
       "         [ 0.4023, -1.3414,  1.5949,  0.6018, -0.2240],\n",
       "         [-0.8657, -1.8551, -1.2617, -0.7341,  0.8487],\n",
       "         [-3.2817, -0.6576, -0.4142, -0.0515, -0.3089]],\n",
       "\n",
       "        [[-0.5991, -1.1810,  0.4190,  1.4225,  0.7963],\n",
       "         [ 0.8161, -1.1719,  1.2742, -0.2548,  0.3081],\n",
       "         [-0.1859, -0.8101, -0.5885, -0.6740, -0.9959],\n",
       "         [ 1.8563, -1.9160,  0.9693, -1.8966, -0.1133],\n",
       "         [-0.8112, -0.5262, -0.1251,  0.1150, -1.2068]],\n",
       "\n",
       "        [[-0.2835, -1.2424,  0.1029, -0.2563,  1.4648],\n",
       "         [ 0.8653,  0.5513,  0.2436, -0.3286,  1.7678],\n",
       "         [ 0.4358, -0.8752, -0.0037,  2.1723,  0.1546],\n",
       "         [-1.0752,  0.0195,  1.3972, -0.4637, -0.4750],\n",
       "         [ 0.4274,  0.8484,  0.2325,  0.2194,  0.0511]]],\n",
       "       names=('channels', 'rows', 'columns'))"
      ]
     },
     "execution_count": 28,
     "metadata": {},
     "output_type": "execute_result"
    }
   ],
   "source": [
    "img_named = img_t.refine_names(...,'channels', 'rows', 'columns')\n",
    "img_named"
   ]
  },
  {
   "cell_type": "code",
   "execution_count": 30,
   "id": "cf08af90-76f6-4b2b-b2a0-b7df7f625edf",
   "metadata": {},
   "outputs": [
    {
     "data": {
      "text/plain": [
       "tensor([[[[-2.0707, -0.4983,  1.0842, -1.0241,  0.6168],\n",
       "          [ 0.0318, -0.5902,  0.3892,  0.2965,  0.5705],\n",
       "          [-0.9010,  0.4486, -1.1571, -0.4534, -1.6583],\n",
       "          [ 0.2295,  1.5762,  1.8695,  0.4109, -0.4839],\n",
       "          [ 1.0048, -1.1989,  0.7378,  1.0575, -1.3614]],\n",
       "\n",
       "         [[ 0.3529,  1.0490,  0.8558, -0.0681, -0.2465],\n",
       "          [ 1.4298,  0.1088,  0.2936, -0.3939,  2.3839],\n",
       "          [-0.5454,  1.0236, -0.7513,  1.9965, -0.4507],\n",
       "          [ 0.4266, -1.5037,  1.1497,  1.2056,  0.2309],\n",
       "          [ 0.4313, -0.4163,  1.1136,  0.0442, -1.0819]],\n",
       "\n",
       "         [[ 0.0318,  1.9646, -0.1475,  0.2850, -0.4969],\n",
       "          [-0.5147,  1.0956,  0.7914,  1.2931,  1.2901],\n",
       "          [ 0.5463, -0.4259, -0.7810,  0.6408,  0.0798],\n",
       "          [ 0.7977,  0.3035, -1.5389, -1.4599, -0.6217],\n",
       "          [-0.2767, -0.3982, -0.6701,  0.5319,  0.1443]]],\n",
       "\n",
       "\n",
       "        [[[ 0.6420, -0.2329,  0.0031,  1.9364, -0.4262],\n",
       "          [ 0.6301, -1.3914,  0.8555, -0.2027, -0.0368],\n",
       "          [-0.3757, -0.0338, -1.1907, -0.5768, -0.4434],\n",
       "          [ 0.0175, -0.1593,  0.8648,  1.2065,  0.5347],\n",
       "          [ 0.3868, -1.0208, -0.1930, -1.8227, -1.5650]],\n",
       "\n",
       "         [[ 0.0739, -1.4925,  0.4851, -0.4883,  1.1814],\n",
       "          [-0.6469, -1.5560,  0.1824,  0.4958,  0.7941],\n",
       "          [-2.7450, -1.7436, -0.8796,  2.2764,  0.0629],\n",
       "          [-0.1984, -1.1549, -0.1342, -0.7341,  0.6669],\n",
       "          [-0.9183,  0.4157, -0.7963,  2.0554, -0.4287]],\n",
       "\n",
       "         [[-1.5294,  0.6172,  0.8796,  0.2607, -1.2904],\n",
       "          [-0.9865, -2.9790, -0.5921,  1.1165, -0.8042],\n",
       "          [-0.8525, -0.8668,  0.7335, -0.7064, -1.5294],\n",
       "          [-0.7939,  0.9423, -0.9788, -1.2936,  1.3027],\n",
       "          [-1.0733,  1.3197, -0.1039, -0.3946,  0.7389]]]],\n",
       "       names=(None, 'channels', 'rows', 'columns'))"
      ]
     },
     "execution_count": 30,
     "metadata": {},
     "output_type": "execute_result"
    }
   ],
   "source": [
    "batch_named = batch_t.refine_names(...,'channels', 'rows', 'columns')\n",
    "batch_named"
   ]
  },
  {
   "cell_type": "code",
   "execution_count": 32,
   "id": "587b17a3-e594-4576-810e-75e4453447f9",
   "metadata": {},
   "outputs": [
    {
     "data": {
      "text/plain": [
       "tensor([[[0.2160]],\n",
       "\n",
       "        [[0.7150]],\n",
       "\n",
       "        [[0.0720]]], names=('channels', 'rows', 'columns'))"
      ]
     },
     "execution_count": 32,
     "metadata": {},
     "output_type": "execute_result"
    }
   ],
   "source": [
    "weights_named = weights.refine_names('channels')\n",
    "weights_aligned = weights_named.align_as(img_named)\n",
    "weights_aligned"
   ]
  },
  {
   "cell_type": "code",
   "execution_count": 33,
   "id": "2951e941-e85c-409e-a626-0d81aa76b4e9",
   "metadata": {},
   "outputs": [
    {
     "data": {
      "text/plain": [
       "tensor([[[0.2160]],\n",
       "\n",
       "        [[0.7150]],\n",
       "\n",
       "        [[0.0720]]])"
      ]
     },
     "execution_count": 33,
     "metadata": {},
     "output_type": "execute_result"
    }
   ],
   "source": [
    "weights_aligned.rename(None)"
   ]
  },
  {
   "cell_type": "markdown",
   "id": "da6fff04-6e43-4e2f-9dd6-2d5ed8b4f48c",
   "metadata": {},
   "source": [
    "Manipulations via `storage()`"
   ]
  },
  {
   "cell_type": "code",
   "execution_count": 35,
   "id": "788bbad4-a033-4d9a-8015-43c6a20f8992",
   "metadata": {},
   "outputs": [
    {
     "data": {
      "text/plain": [
       "tensor([[1, 2],\n",
       "        [3, 4]])"
      ]
     },
     "execution_count": 35,
     "metadata": {},
     "output_type": "execute_result"
    }
   ],
   "source": [
    "points = torch.tensor([[1,2], [3,4]])\n",
    "points"
   ]
  },
  {
   "cell_type": "code",
   "execution_count": 36,
   "id": "02dabfaf-483d-4771-b980-e086cd7d477b",
   "metadata": {},
   "outputs": [
    {
     "data": {
      "text/plain": [
       " 1\n",
       " 2\n",
       " 3\n",
       " 4\n",
       "[torch.LongStorage of size 4]"
      ]
     },
     "execution_count": 36,
     "metadata": {},
     "output_type": "execute_result"
    }
   ],
   "source": [
    "points.storage()"
   ]
  },
  {
   "cell_type": "code",
   "execution_count": 37,
   "id": "3bd498cd-427d-4db7-87c7-35b3f778194a",
   "metadata": {},
   "outputs": [],
   "source": [
    "points.storage()[2] = 88"
   ]
  },
  {
   "cell_type": "code",
   "execution_count": 38,
   "id": "a6e66d97-fc98-48bf-8292-6cff229c7d48",
   "metadata": {},
   "outputs": [
    {
     "data": {
      "text/plain": [
       " 1\n",
       " 2\n",
       " 88\n",
       " 4\n",
       "[torch.LongStorage of size 4]"
      ]
     },
     "execution_count": 38,
     "metadata": {},
     "output_type": "execute_result"
    }
   ],
   "source": [
    "points.storage()"
   ]
  },
  {
   "cell_type": "code",
   "execution_count": 39,
   "id": "a4799b3d-2996-4ab0-8139-5ee35977684e",
   "metadata": {},
   "outputs": [
    {
     "data": {
      "text/plain": [
       "tensor([[ 1,  2],\n",
       "        [88,  4]])"
      ]
     },
     "execution_count": 39,
     "metadata": {},
     "output_type": "execute_result"
    }
   ],
   "source": [
    "points"
   ]
  },
  {
   "cell_type": "markdown",
   "id": "fb8c5810-8c6d-4a30-b6fc-24c6751110af",
   "metadata": {},
   "source": [
    "In place manipulations"
   ]
  },
  {
   "cell_type": "code",
   "execution_count": 40,
   "id": "6f70b6ed-6055-45d5-b3ce-a8aafb16d3f4",
   "metadata": {},
   "outputs": [
    {
     "data": {
      "text/plain": [
       "tensor([[1, 2],\n",
       "        [3, 4]])"
      ]
     },
     "execution_count": 40,
     "metadata": {},
     "output_type": "execute_result"
    }
   ],
   "source": [
    "points = torch.tensor([[1,2],[3,4]])\n",
    "points"
   ]
  },
  {
   "cell_type": "code",
   "execution_count": 41,
   "id": "ee7b05f5-0074-4a86-a26e-dad8180772e5",
   "metadata": {},
   "outputs": [
    {
     "data": {
      "text/plain": [
       "tensor([[0, 0],\n",
       "        [0, 0]])"
      ]
     },
     "execution_count": 41,
     "metadata": {},
     "output_type": "execute_result"
    }
   ],
   "source": [
    "points.zero_()"
   ]
  },
  {
   "cell_type": "code",
   "execution_count": 42,
   "id": "6b39ace2-40cd-4d28-9db3-f4bea543e2f7",
   "metadata": {},
   "outputs": [
    {
     "data": {
      "text/plain": [
       "tensor([[0, 0],\n",
       "        [0, 0]])"
      ]
     },
     "execution_count": 42,
     "metadata": {},
     "output_type": "execute_result"
    }
   ],
   "source": [
    "points"
   ]
  },
  {
   "cell_type": "markdown",
   "id": "5e42efe6-04d9-4b19-a20a-f62dfe6bf9c0",
   "metadata": {},
   "source": [
    "Size, Offset and Stride"
   ]
  },
  {
   "cell_type": "code",
   "execution_count": 44,
   "id": "5e6245fa-1dd9-40ba-ba2d-958be66af402",
   "metadata": {},
   "outputs": [
    {
     "data": {
      "text/plain": [
       "tensor([[4, 0],\n",
       "        [5, 3],\n",
       "        [2, 1]])"
      ]
     },
     "execution_count": 44,
     "metadata": {},
     "output_type": "execute_result"
    }
   ],
   "source": [
    "points = torch.tensor([ [4,0], [5,3], [2,1]])\n",
    "points"
   ]
  },
  {
   "cell_type": "code",
   "execution_count": 45,
   "id": "dcc16ff4-c30f-440c-8f15-7bdf63f302c0",
   "metadata": {},
   "outputs": [
    {
     "data": {
      "text/plain": [
       "tensor([2, 1])"
      ]
     },
     "execution_count": 45,
     "metadata": {},
     "output_type": "execute_result"
    }
   ],
   "source": [
    "item = points[2]\n",
    "item"
   ]
  },
  {
   "cell_type": "code",
   "execution_count": 46,
   "id": "b416ca1c-b776-4360-9033-23bb1d4dfb1e",
   "metadata": {},
   "outputs": [
    {
     "data": {
      "text/plain": [
       "4"
      ]
     },
     "execution_count": 46,
     "metadata": {},
     "output_type": "execute_result"
    }
   ],
   "source": [
    "item.storage_offset()"
   ]
  },
  {
   "cell_type": "code",
   "execution_count": 47,
   "id": "c5ffc92e-5983-4959-8e6c-0b5e728a6c84",
   "metadata": {},
   "outputs": [
    {
     "data": {
      "text/plain": [
       "(2, 1)"
      ]
     },
     "execution_count": 47,
     "metadata": {},
     "output_type": "execute_result"
    }
   ],
   "source": [
    "points.stride()"
   ]
  },
  {
   "cell_type": "markdown",
   "id": "daab6c17-fc30-4cc2-843d-71eac6f34479",
   "metadata": {},
   "source": [
    "clones "
   ]
  },
  {
   "cell_type": "code",
   "execution_count": 48,
   "id": "8f2b4f5b-91fa-4cdc-8d59-e4fe03d956e7",
   "metadata": {},
   "outputs": [
    {
     "data": {
      "text/plain": [
       "tensor([[4, 0],\n",
       "        [5, 3],\n",
       "        [2, 1]])"
      ]
     },
     "execution_count": 48,
     "metadata": {},
     "output_type": "execute_result"
    }
   ],
   "source": [
    "points "
   ]
  },
  {
   "cell_type": "code",
   "execution_count": 49,
   "id": "509dc030-dbdb-4620-ad4f-1b6f7b2c0b3c",
   "metadata": {},
   "outputs": [
    {
     "data": {
      "text/plain": [
       "tensor([5, 3])"
      ]
     },
     "execution_count": 49,
     "metadata": {},
     "output_type": "execute_result"
    }
   ],
   "source": [
    "sec_point_clone = points[1].clone()\n",
    "sec_point_clone"
   ]
  },
  {
   "cell_type": "code",
   "execution_count": 50,
   "id": "267a351c-48ed-472b-a47a-20b695d88041",
   "metadata": {},
   "outputs": [
    {
     "data": {
      "text/plain": [
       "tensor([88,  3])"
      ]
     },
     "execution_count": 50,
     "metadata": {},
     "output_type": "execute_result"
    }
   ],
   "source": [
    "sec_point_clone[0] = 88\n",
    "sec_point_clone"
   ]
  },
  {
   "cell_type": "code",
   "execution_count": 51,
   "id": "128b1674-2caa-4726-9eae-dece92e2d84a",
   "metadata": {},
   "outputs": [
    {
     "data": {
      "text/plain": [
       "tensor([[4, 0],\n",
       "        [5, 3],\n",
       "        [2, 1]])"
      ]
     },
     "execution_count": 51,
     "metadata": {},
     "output_type": "execute_result"
    }
   ],
   "source": [
    "points"
   ]
  },
  {
   "cell_type": "code",
   "execution_count": 52,
   "id": "1ac9ee7b-9f6a-445a-b992-839c77a845ec",
   "metadata": {},
   "outputs": [],
   "source": [
    "# without clone"
   ]
  },
  {
   "cell_type": "code",
   "execution_count": 53,
   "id": "6310d2ed-3d5c-4c87-954f-40054ae97cb7",
   "metadata": {},
   "outputs": [
    {
     "data": {
      "text/plain": [
       "tensor([5, 3])"
      ]
     },
     "execution_count": 53,
     "metadata": {},
     "output_type": "execute_result"
    }
   ],
   "source": [
    "sec_point = points[1]\n",
    "sec_point"
   ]
  },
  {
   "cell_type": "code",
   "execution_count": 54,
   "id": "e1d637d6-2d44-4c0a-a607-f971dfdaae34",
   "metadata": {},
   "outputs": [
    {
     "data": {
      "text/plain": [
       "tensor([88,  3])"
      ]
     },
     "execution_count": 54,
     "metadata": {},
     "output_type": "execute_result"
    }
   ],
   "source": [
    "sec_point[0] = 88\n",
    "sec_point"
   ]
  },
  {
   "cell_type": "code",
   "execution_count": 55,
   "id": "8c8cca50-2354-496a-b53a-18123c3db8d8",
   "metadata": {},
   "outputs": [
    {
     "data": {
      "text/plain": [
       "tensor([[ 4,  0],\n",
       "        [88,  3],\n",
       "        [ 2,  1]])"
      ]
     },
     "execution_count": 55,
     "metadata": {},
     "output_type": "execute_result"
    }
   ],
   "source": [
    "points"
   ]
  },
  {
   "cell_type": "code",
   "execution_count": null,
   "id": "06d3b5da-da65-4d51-b44f-0fc1ec247537",
   "metadata": {},
   "outputs": [],
   "source": []
  }
 ],
 "metadata": {
  "kernelspec": {
   "display_name": "k_dlwpt",
   "language": "python",
   "name": "conda-env-k_dlwpt-py"
  },
  "language_info": {
   "codemirror_mode": {
    "name": "ipython",
    "version": 3
   },
   "file_extension": ".py",
   "mimetype": "text/x-python",
   "name": "python",
   "nbconvert_exporter": "python",
   "pygments_lexer": "ipython3",
   "version": "3.6.8"
  }
 },
 "nbformat": 4,
 "nbformat_minor": 5
}

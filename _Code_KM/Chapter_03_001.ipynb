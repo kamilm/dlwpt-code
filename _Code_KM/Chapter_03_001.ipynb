{
 "cells": [
  {
   "cell_type": "markdown",
   "id": "d9eef395-20dc-4899-b88d-d0ccf48e6d92",
   "metadata": {},
   "source": [
    "# Chapter 3"
   ]
  },
  {
   "cell_type": "markdown",
   "id": "01ae9494-beae-4e48-ae81-7ef9e7887827",
   "metadata": {},
   "source": [
    "work/examples from the chapter"
   ]
  },
  {
   "cell_type": "code",
   "execution_count": 1,
   "id": "92f6fa43-7998-4f61-9a87-74189743d31a",
   "metadata": {},
   "outputs": [],
   "source": [
    "import torch"
   ]
  },
  {
   "cell_type": "code",
   "execution_count": 2,
   "id": "880c063e-5e5b-4dda-8005-a966566eb947",
   "metadata": {},
   "outputs": [],
   "source": [
    "a = [1., 2., 3.]"
   ]
  },
  {
   "cell_type": "code",
   "execution_count": 3,
   "id": "bf560487-ff41-4059-ab44-d00f0ca11cd9",
   "metadata": {},
   "outputs": [
    {
     "data": {
      "text/plain": [
       "list"
      ]
     },
     "execution_count": 3,
     "metadata": {},
     "output_type": "execute_result"
    }
   ],
   "source": [
    "type(a)"
   ]
  },
  {
   "cell_type": "code",
   "execution_count": 4,
   "id": "b75fdce5-87cb-478f-98ce-0bceb3eca77c",
   "metadata": {},
   "outputs": [
    {
     "data": {
      "text/plain": [
       "tensor([1., 1., 1.])"
      ]
     },
     "execution_count": 4,
     "metadata": {},
     "output_type": "execute_result"
    }
   ],
   "source": [
    "a = torch.ones(3)\n",
    "a"
   ]
  },
  {
   "cell_type": "code",
   "execution_count": 5,
   "id": "8230bc0b-4fa9-497e-a8f8-cd19f208a85c",
   "metadata": {},
   "outputs": [
    {
     "data": {
      "text/plain": [
       "tensor(1.)"
      ]
     },
     "execution_count": 5,
     "metadata": {},
     "output_type": "execute_result"
    }
   ],
   "source": [
    "a[1]"
   ]
  },
  {
   "cell_type": "code",
   "execution_count": 6,
   "id": "fc508f46-1d54-4d42-bdbf-e211b98b41e7",
   "metadata": {},
   "outputs": [],
   "source": [
    "a[2] = 2."
   ]
  },
  {
   "cell_type": "code",
   "execution_count": 7,
   "id": "6e8ebd4b-f7fa-474d-ab3c-17eb42e961a8",
   "metadata": {},
   "outputs": [
    {
     "data": {
      "text/plain": [
       "tensor([1., 1., 2.])"
      ]
     },
     "execution_count": 7,
     "metadata": {},
     "output_type": "execute_result"
    }
   ],
   "source": [
    "a"
   ]
  },
  {
   "cell_type": "markdown",
   "id": "34bacc6c-b2d2-47c7-a4c8-e560fd9ece89",
   "metadata": {},
   "source": [
    "suppose we want to store coordinates, (4,1), (5,3), and (2,1) we can do this in python or torch"
   ]
  },
  {
   "cell_type": "code",
   "execution_count": 8,
   "id": "ab6d17b6-9464-49f7-bbb7-efca771dce7d",
   "metadata": {},
   "outputs": [
    {
     "data": {
      "text/plain": [
       "tensor([4., 1., 5., 3., 2., 1.])"
      ]
     },
     "execution_count": 8,
     "metadata": {},
     "output_type": "execute_result"
    }
   ],
   "source": [
    "points = torch.tensor([4.,1,5,3,2,1])\n",
    "points"
   ]
  },
  {
   "cell_type": "markdown",
   "id": "9b54d17d-206c-4eff-90d1-99591aa4158b",
   "metadata": {},
   "source": [
    "we can also build a 2d tensor:"
   ]
  },
  {
   "cell_type": "code",
   "execution_count": 9,
   "id": "30acf6f0-c3e9-4478-b375-3d842deeadc4",
   "metadata": {},
   "outputs": [
    {
     "data": {
      "text/plain": [
       "tensor([[4., 1.],\n",
       "        [5., 3.],\n",
       "        [2., 1.]])"
      ]
     },
     "execution_count": 9,
     "metadata": {},
     "output_type": "execute_result"
    }
   ],
   "source": [
    "points = torch.tensor([[4.,1], [5,3], [2,1]])\n",
    "points"
   ]
  },
  {
   "cell_type": "code",
   "execution_count": 10,
   "id": "e09780d4-b624-4af8-a048-33d372b71f2f",
   "metadata": {},
   "outputs": [
    {
     "data": {
      "text/plain": [
       "torch.Size([3, 2])"
      ]
     },
     "execution_count": 10,
     "metadata": {},
     "output_type": "execute_result"
    }
   ],
   "source": [
    "points.shape"
   ]
  },
  {
   "cell_type": "markdown",
   "id": "46cb305b-ca6d-4a4e-b2bd-0ef63fe51812",
   "metadata": {},
   "source": [
    "we can perform slicing as before"
   ]
  },
  {
   "cell_type": "code",
   "execution_count": 11,
   "id": "be9f2382-a63e-4f58-b9d3-f770cd2015e6",
   "metadata": {},
   "outputs": [
    {
     "data": {
      "text/plain": [
       "tensor([4., 1.])"
      ]
     },
     "execution_count": 11,
     "metadata": {},
     "output_type": "execute_result"
    }
   ],
   "source": [
    "# get first row\n",
    "points[0]"
   ]
  },
  {
   "cell_type": "code",
   "execution_count": 12,
   "id": "133ea918-845b-45d6-bacf-65f97f8dc458",
   "metadata": {},
   "outputs": [
    {
     "data": {
      "text/plain": [
       "tensor([4., 5., 2.])"
      ]
     },
     "execution_count": 12,
     "metadata": {},
     "output_type": "execute_result"
    }
   ],
   "source": [
    "# get first column\n",
    "points[:,0]"
   ]
  },
  {
   "cell_type": "code",
   "execution_count": 13,
   "id": "5bc06082-c4dc-4798-8c21-8999ff2e2cb9",
   "metadata": {},
   "outputs": [
    {
     "data": {
      "text/plain": [
       "tensor(3.)"
      ]
     },
     "execution_count": 13,
     "metadata": {},
     "output_type": "execute_result"
    }
   ],
   "source": [
    "# get 3. from the array\n",
    "points[1,1]"
   ]
  },
  {
   "cell_type": "code",
   "execution_count": 14,
   "id": "35f772f3-e790-4fc3-8fa1-a45dfd4477b3",
   "metadata": {},
   "outputs": [
    {
     "data": {
      "text/plain": [
       "tensor(2.)"
      ]
     },
     "execution_count": 14,
     "metadata": {},
     "output_type": "execute_result"
    }
   ],
   "source": [
    "# get 2. from array\n",
    "points[2,0]"
   ]
  },
  {
   "cell_type": "code",
   "execution_count": 15,
   "id": "6e299ad6-a92d-48b3-840c-07881b796926",
   "metadata": {},
   "outputs": [
    {
     "data": {
      "text/plain": [
       "tensor([[[4., 1.],\n",
       "         [5., 3.],\n",
       "         [2., 1.]]])"
      ]
     },
     "execution_count": 15,
     "metadata": {},
     "output_type": "execute_result"
    }
   ],
   "source": [
    "points[None]"
   ]
  },
  {
   "cell_type": "code",
   "execution_count": 16,
   "id": "6b0b2e20-ae15-4b48-b86b-a7fc60265273",
   "metadata": {},
   "outputs": [
    {
     "data": {
      "text/plain": [
       "(torch.Size([3, 2]), torch.Size([1, 3, 2]))"
      ]
     },
     "execution_count": 16,
     "metadata": {},
     "output_type": "execute_result"
    }
   ],
   "source": [
    "points.shape, points[None].shape"
   ]
  },
  {
   "cell_type": "code",
   "execution_count": 17,
   "id": "83dbfe2e-3f8b-40c7-8a18-80caf7975635",
   "metadata": {},
   "outputs": [],
   "source": [
    "img_t = torch.randn(3,5,5)\n",
    "weights = torch.tensor([0.216, 0.715, 0.072])\n",
    "batch_t = torch.randn(2,3,5,5)"
   ]
  },
  {
   "cell_type": "code",
   "execution_count": 18,
   "id": "8f123880-ef4c-4ac8-b314-19a4dcaeb572",
   "metadata": {},
   "outputs": [
    {
     "data": {
      "text/plain": [
       "(torch.Size([5, 5]), torch.Size([2, 5, 5]))"
      ]
     },
     "execution_count": 18,
     "metadata": {},
     "output_type": "execute_result"
    }
   ],
   "source": [
    "# compute simple mean\n",
    "img_gray_naive = img_t.mean(-3)\n",
    "batch_gray_naive = batch_t.mean(-3)\n",
    "\n",
    "img_gray_naive.shape, batch_gray_naive.shape"
   ]
  },
  {
   "cell_type": "code",
   "execution_count": 19,
   "id": "706bcdaf-b8d1-482b-b4ab-076f5305f912",
   "metadata": {},
   "outputs": [
    {
     "data": {
      "text/plain": [
       "(torch.Size([3, 1, 1]),\n",
       " tensor([[[0.2160]],\n",
       " \n",
       "         [[0.7150]],\n",
       " \n",
       "         [[0.0720]]]))"
      ]
     },
     "execution_count": 19,
     "metadata": {},
     "output_type": "execute_result"
    }
   ],
   "source": [
    "unsqueezed_weights = weights.unsqueeze(-1).unsqueeze_(-1)\n",
    "unsqueezed_weights.shape, unsqueezed_weights"
   ]
  },
  {
   "cell_type": "code",
   "execution_count": 20,
   "id": "e003b759-00dd-4aab-bbc4-ad53389f394b",
   "metadata": {},
   "outputs": [
    {
     "data": {
      "text/plain": [
       "\u001b[0;31mDocstring:\u001b[0m\n",
       "unsqueeze_(dim) -> Tensor\n",
       "\n",
       "In-place version of :meth:`~Tensor.unsqueeze`\n",
       "\u001b[0;31mType:\u001b[0m      builtin_function_or_method\n"
      ]
     },
     "metadata": {},
     "output_type": "display_data"
    }
   ],
   "source": [
    "weights.unsqueeze_?"
   ]
  },
  {
   "cell_type": "code",
   "execution_count": 21,
   "id": "904a2a16-03e1-4bfa-998c-7435cd31e508",
   "metadata": {},
   "outputs": [],
   "source": [
    "img_weights = img_t * unsqueezed_weights\n",
    "batch_weights = batch_t * unsqueezed_weights"
   ]
  },
  {
   "cell_type": "code",
   "execution_count": 22,
   "id": "c9fed77f-6b1d-4615-a2a3-d0218b72b7b0",
   "metadata": {},
   "outputs": [
    {
     "data": {
      "text/plain": [
       "(torch.Size([2, 3, 5, 5]), torch.Size([2, 3, 5, 5]))"
      ]
     },
     "execution_count": 22,
     "metadata": {},
     "output_type": "execute_result"
    }
   ],
   "source": [
    "batch_weights.shape, batch_t.shape"
   ]
  },
  {
   "cell_type": "code",
   "execution_count": 23,
   "id": "8e0afd79-b5fd-4273-bba7-e1b9086f17f3",
   "metadata": {},
   "outputs": [],
   "source": [
    "img_gray_weighted = img_weights.sum(-3)\n",
    "batch_gray_weighted = batch_weights.sum(-3)"
   ]
  },
  {
   "cell_type": "markdown",
   "id": "734d2b32-0830-4386-abfa-6a364aaa36d0",
   "metadata": {},
   "source": [
    "Named Tensors"
   ]
  },
  {
   "cell_type": "code",
   "execution_count": 24,
   "id": "87c118d8-cb9d-4146-85c4-a42cc57db55f",
   "metadata": {},
   "outputs": [
    {
     "name": "stderr",
     "output_type": "stream",
     "text": [
      "/opt/conda/conda-bld/pytorch_1587428270644/work/c10/core/TensorImpl.h:806: UserWarning: Named tensors and all their associated APIs are an experimental feature and subject to change. Please do not use them for anything important until they are released as stable.\n"
     ]
    },
    {
     "data": {
      "text/plain": [
       "tensor([[[-0.2846, -1.2952, -1.4959,  1.6658, -1.2912],\n",
       "         [ 0.2557, -0.1378,  0.2523, -0.4455,  0.0164],\n",
       "         [-0.9158, -0.5512,  0.5588,  0.3612,  0.9303],\n",
       "         [ 1.7731,  0.3456,  1.6754,  1.6764, -1.5007],\n",
       "         [ 0.3761, -0.0971,  0.7862, -1.1254,  0.6666]],\n",
       "\n",
       "        [[-0.8219, -0.2256,  0.4927,  2.1102, -0.6781],\n",
       "         [-2.1942, -0.8367,  0.1410,  0.5888, -0.4120],\n",
       "         [ 2.1856, -0.4421, -1.0460,  0.3201,  0.9168],\n",
       "         [-1.2884,  1.1170,  0.9986, -0.3776,  2.2567],\n",
       "         [ 0.6026,  0.7155, -1.2588, -0.5918,  1.0024]],\n",
       "\n",
       "        [[-0.3773,  2.0649, -1.2724,  1.4562,  1.2798],\n",
       "         [-1.3310, -1.1846, -0.4225,  0.1238,  1.3361],\n",
       "         [ 0.3078, -1.2521, -1.3050, -0.2004,  0.5333],\n",
       "         [-0.7146, -0.3555, -0.2238, -0.8089, -0.7092],\n",
       "         [-1.9019, -1.0573,  0.4394, -0.0899,  1.7376]]],\n",
       "       names=('channels', 'rows', 'columns'))"
      ]
     },
     "execution_count": 24,
     "metadata": {},
     "output_type": "execute_result"
    }
   ],
   "source": [
    "img_named = img_t.refine_names(...,'channels', 'rows', 'columns')\n",
    "img_named"
   ]
  },
  {
   "cell_type": "code",
   "execution_count": 25,
   "id": "cf08af90-76f6-4b2b-b2a0-b7df7f625edf",
   "metadata": {},
   "outputs": [
    {
     "data": {
      "text/plain": [
       "tensor([[[[ 0.8001,  0.0513, -0.9721,  0.7298,  0.2797],\n",
       "          [-0.3929,  1.3461,  1.4042, -0.9119,  0.8370],\n",
       "          [ 0.0533,  1.7662, -0.9958, -0.7703,  1.1738],\n",
       "          [ 0.9868, -1.4104,  1.0098,  1.2114, -0.3012],\n",
       "          [ 0.2239,  1.1221, -1.8171, -1.2050,  0.4747]],\n",
       "\n",
       "         [[ 1.1207, -0.3936,  0.6243,  0.6665,  0.9496],\n",
       "          [ 1.6454,  0.1681, -2.4620,  0.7102, -0.8682],\n",
       "          [-0.7439, -1.9291, -0.7747, -0.2245,  0.7474],\n",
       "          [ 1.3345,  2.3048,  1.5906, -0.5342, -1.3575],\n",
       "          [ 0.1298, -1.0554, -0.4913, -0.4917, -1.4534]],\n",
       "\n",
       "         [[-0.4681,  0.3846,  0.1608,  0.4336,  1.0346],\n",
       "          [ 0.7394, -0.3887, -0.4017, -0.6675,  0.3742],\n",
       "          [ 0.7889, -0.2046,  0.0865,  0.9933, -0.8694],\n",
       "          [-0.2359,  0.8463, -1.0780, -0.4920,  1.5773],\n",
       "          [ 1.9852, -1.3368,  0.0799, -0.5317,  1.6674]]],\n",
       "\n",
       "\n",
       "        [[[-0.7882, -1.6934, -0.4245,  0.0134,  0.1043],\n",
       "          [ 0.9158,  0.0688, -0.4454,  0.3229,  1.0229],\n",
       "          [-1.1905, -0.5497,  0.4184,  0.1394,  0.1007],\n",
       "          [-2.3532,  1.0664,  1.3715,  0.9549,  0.7807],\n",
       "          [ 0.4833,  2.2530, -1.7689, -0.5689,  1.9310]],\n",
       "\n",
       "         [[-0.7093, -2.2590,  2.3485,  0.7246,  0.3544],\n",
       "          [ 2.1221,  0.1668, -1.2906,  1.1452,  0.3458],\n",
       "          [-0.0975,  0.5216,  1.6763, -0.4261, -1.0158],\n",
       "          [ 0.6490, -1.5499, -1.5661, -0.6546, -1.4981],\n",
       "          [ 1.2147,  0.5294, -1.4659, -0.1005, -1.2680]],\n",
       "\n",
       "         [[-0.5890, -0.1544, -1.9058, -0.5141, -2.1690],\n",
       "          [-0.9168,  0.4237,  1.1801, -0.0321, -1.3956],\n",
       "          [ 1.3189,  0.4184,  0.5389,  0.3382, -0.3482],\n",
       "          [-0.5362, -0.0162, -0.5800, -1.1772, -1.3008],\n",
       "          [ 0.3649,  1.4492, -0.9170,  2.0333, -0.0905]]]],\n",
       "       names=(None, 'channels', 'rows', 'columns'))"
      ]
     },
     "execution_count": 25,
     "metadata": {},
     "output_type": "execute_result"
    }
   ],
   "source": [
    "batch_named = batch_t.refine_names(...,'channels', 'rows', 'columns')\n",
    "batch_named"
   ]
  },
  {
   "cell_type": "code",
   "execution_count": 26,
   "id": "587b17a3-e594-4576-810e-75e4453447f9",
   "metadata": {},
   "outputs": [
    {
     "data": {
      "text/plain": [
       "tensor([[[0.2160]],\n",
       "\n",
       "        [[0.7150]],\n",
       "\n",
       "        [[0.0720]]], names=('channels', 'rows', 'columns'))"
      ]
     },
     "execution_count": 26,
     "metadata": {},
     "output_type": "execute_result"
    }
   ],
   "source": [
    "weights_named = weights.refine_names('channels')\n",
    "weights_aligned = weights_named.align_as(img_named)\n",
    "weights_aligned"
   ]
  },
  {
   "cell_type": "code",
   "execution_count": 27,
   "id": "2951e941-e85c-409e-a626-0d81aa76b4e9",
   "metadata": {},
   "outputs": [
    {
     "data": {
      "text/plain": [
       "tensor([[[0.2160]],\n",
       "\n",
       "        [[0.7150]],\n",
       "\n",
       "        [[0.0720]]])"
      ]
     },
     "execution_count": 27,
     "metadata": {},
     "output_type": "execute_result"
    }
   ],
   "source": [
    "weights_aligned.rename(None)"
   ]
  },
  {
   "cell_type": "markdown",
   "id": "da6fff04-6e43-4e2f-9dd6-2d5ed8b4f48c",
   "metadata": {},
   "source": [
    "Manipulations via `storage()`"
   ]
  },
  {
   "cell_type": "code",
   "execution_count": 28,
   "id": "788bbad4-a033-4d9a-8015-43c6a20f8992",
   "metadata": {},
   "outputs": [
    {
     "data": {
      "text/plain": [
       "tensor([[1, 2],\n",
       "        [3, 4]])"
      ]
     },
     "execution_count": 28,
     "metadata": {},
     "output_type": "execute_result"
    }
   ],
   "source": [
    "points = torch.tensor([[1,2], [3,4]])\n",
    "points"
   ]
  },
  {
   "cell_type": "code",
   "execution_count": 29,
   "id": "02dabfaf-483d-4771-b980-e086cd7d477b",
   "metadata": {},
   "outputs": [
    {
     "data": {
      "text/plain": [
       " 1\n",
       " 2\n",
       " 3\n",
       " 4\n",
       "[torch.LongStorage of size 4]"
      ]
     },
     "execution_count": 29,
     "metadata": {},
     "output_type": "execute_result"
    }
   ],
   "source": [
    "points.storage()"
   ]
  },
  {
   "cell_type": "code",
   "execution_count": 30,
   "id": "3bd498cd-427d-4db7-87c7-35b3f778194a",
   "metadata": {},
   "outputs": [],
   "source": [
    "points.storage()[2] = 88"
   ]
  },
  {
   "cell_type": "code",
   "execution_count": 31,
   "id": "a6e66d97-fc98-48bf-8292-6cff229c7d48",
   "metadata": {},
   "outputs": [
    {
     "data": {
      "text/plain": [
       " 1\n",
       " 2\n",
       " 88\n",
       " 4\n",
       "[torch.LongStorage of size 4]"
      ]
     },
     "execution_count": 31,
     "metadata": {},
     "output_type": "execute_result"
    }
   ],
   "source": [
    "points.storage()"
   ]
  },
  {
   "cell_type": "code",
   "execution_count": 32,
   "id": "a4799b3d-2996-4ab0-8139-5ee35977684e",
   "metadata": {},
   "outputs": [
    {
     "data": {
      "text/plain": [
       "tensor([[ 1,  2],\n",
       "        [88,  4]])"
      ]
     },
     "execution_count": 32,
     "metadata": {},
     "output_type": "execute_result"
    }
   ],
   "source": [
    "points"
   ]
  },
  {
   "cell_type": "markdown",
   "id": "fb8c5810-8c6d-4a30-b6fc-24c6751110af",
   "metadata": {},
   "source": [
    "In place manipulations"
   ]
  },
  {
   "cell_type": "code",
   "execution_count": 33,
   "id": "6f70b6ed-6055-45d5-b3ce-a8aafb16d3f4",
   "metadata": {},
   "outputs": [
    {
     "data": {
      "text/plain": [
       "tensor([[1, 2],\n",
       "        [3, 4]])"
      ]
     },
     "execution_count": 33,
     "metadata": {},
     "output_type": "execute_result"
    }
   ],
   "source": [
    "points = torch.tensor([[1,2],[3,4]])\n",
    "points"
   ]
  },
  {
   "cell_type": "code",
   "execution_count": 34,
   "id": "ee7b05f5-0074-4a86-a26e-dad8180772e5",
   "metadata": {},
   "outputs": [
    {
     "data": {
      "text/plain": [
       "tensor([[0, 0],\n",
       "        [0, 0]])"
      ]
     },
     "execution_count": 34,
     "metadata": {},
     "output_type": "execute_result"
    }
   ],
   "source": [
    "points.zero_()"
   ]
  },
  {
   "cell_type": "code",
   "execution_count": 35,
   "id": "6b39ace2-40cd-4d28-9db3-f4bea543e2f7",
   "metadata": {},
   "outputs": [
    {
     "data": {
      "text/plain": [
       "tensor([[0, 0],\n",
       "        [0, 0]])"
      ]
     },
     "execution_count": 35,
     "metadata": {},
     "output_type": "execute_result"
    }
   ],
   "source": [
    "points"
   ]
  },
  {
   "cell_type": "markdown",
   "id": "5e42efe6-04d9-4b19-a20a-f62dfe6bf9c0",
   "metadata": {},
   "source": [
    "Size, Offset and Stride"
   ]
  },
  {
   "cell_type": "code",
   "execution_count": 36,
   "id": "5e6245fa-1dd9-40ba-ba2d-958be66af402",
   "metadata": {},
   "outputs": [
    {
     "data": {
      "text/plain": [
       "tensor([[4, 0],\n",
       "        [5, 3],\n",
       "        [2, 1]])"
      ]
     },
     "execution_count": 36,
     "metadata": {},
     "output_type": "execute_result"
    }
   ],
   "source": [
    "points = torch.tensor([ [4,0], [5,3], [2,1]])\n",
    "points"
   ]
  },
  {
   "cell_type": "code",
   "execution_count": 37,
   "id": "dcc16ff4-c30f-440c-8f15-7bdf63f302c0",
   "metadata": {},
   "outputs": [
    {
     "data": {
      "text/plain": [
       "tensor([2, 1])"
      ]
     },
     "execution_count": 37,
     "metadata": {},
     "output_type": "execute_result"
    }
   ],
   "source": [
    "item = points[2]\n",
    "item"
   ]
  },
  {
   "cell_type": "code",
   "execution_count": 38,
   "id": "b416ca1c-b776-4360-9033-23bb1d4dfb1e",
   "metadata": {},
   "outputs": [
    {
     "data": {
      "text/plain": [
       "4"
      ]
     },
     "execution_count": 38,
     "metadata": {},
     "output_type": "execute_result"
    }
   ],
   "source": [
    "item.storage_offset()"
   ]
  },
  {
   "cell_type": "code",
   "execution_count": 39,
   "id": "c5ffc92e-5983-4959-8e6c-0b5e728a6c84",
   "metadata": {},
   "outputs": [
    {
     "data": {
      "text/plain": [
       "(2, 1)"
      ]
     },
     "execution_count": 39,
     "metadata": {},
     "output_type": "execute_result"
    }
   ],
   "source": [
    "points.stride()"
   ]
  },
  {
   "cell_type": "markdown",
   "id": "daab6c17-fc30-4cc2-843d-71eac6f34479",
   "metadata": {},
   "source": [
    "clones "
   ]
  },
  {
   "cell_type": "code",
   "execution_count": 40,
   "id": "8f2b4f5b-91fa-4cdc-8d59-e4fe03d956e7",
   "metadata": {},
   "outputs": [
    {
     "data": {
      "text/plain": [
       "tensor([[4, 0],\n",
       "        [5, 3],\n",
       "        [2, 1]])"
      ]
     },
     "execution_count": 40,
     "metadata": {},
     "output_type": "execute_result"
    }
   ],
   "source": [
    "points "
   ]
  },
  {
   "cell_type": "code",
   "execution_count": 41,
   "id": "509dc030-dbdb-4620-ad4f-1b6f7b2c0b3c",
   "metadata": {},
   "outputs": [
    {
     "data": {
      "text/plain": [
       "tensor([5, 3])"
      ]
     },
     "execution_count": 41,
     "metadata": {},
     "output_type": "execute_result"
    }
   ],
   "source": [
    "sec_point_clone = points[1].clone()\n",
    "sec_point_clone"
   ]
  },
  {
   "cell_type": "code",
   "execution_count": 42,
   "id": "267a351c-48ed-472b-a47a-20b695d88041",
   "metadata": {},
   "outputs": [
    {
     "data": {
      "text/plain": [
       "tensor([88,  3])"
      ]
     },
     "execution_count": 42,
     "metadata": {},
     "output_type": "execute_result"
    }
   ],
   "source": [
    "sec_point_clone[0] = 88\n",
    "sec_point_clone"
   ]
  },
  {
   "cell_type": "code",
   "execution_count": 43,
   "id": "128b1674-2caa-4726-9eae-dece92e2d84a",
   "metadata": {},
   "outputs": [
    {
     "data": {
      "text/plain": [
       "tensor([[4, 0],\n",
       "        [5, 3],\n",
       "        [2, 1]])"
      ]
     },
     "execution_count": 43,
     "metadata": {},
     "output_type": "execute_result"
    }
   ],
   "source": [
    "points"
   ]
  },
  {
   "cell_type": "code",
   "execution_count": 44,
   "id": "1ac9ee7b-9f6a-445a-b992-839c77a845ec",
   "metadata": {},
   "outputs": [],
   "source": [
    "# without clone"
   ]
  },
  {
   "cell_type": "code",
   "execution_count": 45,
   "id": "6310d2ed-3d5c-4c87-954f-40054ae97cb7",
   "metadata": {},
   "outputs": [
    {
     "data": {
      "text/plain": [
       "tensor([5, 3])"
      ]
     },
     "execution_count": 45,
     "metadata": {},
     "output_type": "execute_result"
    }
   ],
   "source": [
    "sec_point = points[1]\n",
    "sec_point"
   ]
  },
  {
   "cell_type": "code",
   "execution_count": 46,
   "id": "e1d637d6-2d44-4c0a-a607-f971dfdaae34",
   "metadata": {},
   "outputs": [
    {
     "data": {
      "text/plain": [
       "tensor([88,  3])"
      ]
     },
     "execution_count": 46,
     "metadata": {},
     "output_type": "execute_result"
    }
   ],
   "source": [
    "sec_point[0] = 88\n",
    "sec_point"
   ]
  },
  {
   "cell_type": "code",
   "execution_count": 47,
   "id": "8c8cca50-2354-496a-b53a-18123c3db8d8",
   "metadata": {},
   "outputs": [
    {
     "data": {
      "text/plain": [
       "tensor([[ 4,  0],\n",
       "        [88,  3],\n",
       "        [ 2,  1]])"
      ]
     },
     "execution_count": 47,
     "metadata": {},
     "output_type": "execute_result"
    }
   ],
   "source": [
    "points"
   ]
  },
  {
   "cell_type": "markdown",
   "id": "cd0fe613-1f41-40cf-b587-3f86ea71556e",
   "metadata": {},
   "source": [
    "Contiguous in memory"
   ]
  },
  {
   "cell_type": "code",
   "execution_count": 48,
   "id": "13a517ab-46d9-4794-9ff4-5a25cabaff74",
   "metadata": {},
   "outputs": [
    {
     "data": {
      "text/plain": [
       "tensor([[ 4,  0],\n",
       "        [88,  3],\n",
       "        [ 2,  1]])"
      ]
     },
     "execution_count": 48,
     "metadata": {},
     "output_type": "execute_result"
    }
   ],
   "source": [
    "points"
   ]
  },
  {
   "cell_type": "code",
   "execution_count": 49,
   "id": "8fba605f-45d9-4965-9a05-9ff1d01a196b",
   "metadata": {},
   "outputs": [
    {
     "data": {
      "text/plain": [
       "True"
      ]
     },
     "execution_count": 49,
     "metadata": {},
     "output_type": "execute_result"
    }
   ],
   "source": [
    "points.is_contiguous()"
   ]
  },
  {
   "cell_type": "code",
   "execution_count": 51,
   "id": "1b2b19c3-0353-4730-874b-f5e0fd9777c0",
   "metadata": {},
   "outputs": [
    {
     "data": {
      "text/plain": [
       "tensor([[ 4, 88,  2],\n",
       "        [ 0,  3,  1]])"
      ]
     },
     "execution_count": 51,
     "metadata": {},
     "output_type": "execute_result"
    }
   ],
   "source": [
    "points.t_()"
   ]
  },
  {
   "cell_type": "code",
   "execution_count": 52,
   "id": "cf1217f1-bd42-4038-83ae-aff9b8388f59",
   "metadata": {},
   "outputs": [
    {
     "data": {
      "text/plain": [
       "tensor([[ 4, 88,  2],\n",
       "        [ 0,  3,  1]])"
      ]
     },
     "execution_count": 52,
     "metadata": {},
     "output_type": "execute_result"
    }
   ],
   "source": [
    "points"
   ]
  },
  {
   "cell_type": "code",
   "execution_count": 53,
   "id": "0789d999-a774-4ced-965e-524b9efc2769",
   "metadata": {},
   "outputs": [
    {
     "data": {
      "text/plain": [
       "False"
      ]
     },
     "execution_count": 53,
     "metadata": {},
     "output_type": "execute_result"
    }
   ],
   "source": [
    "points.is_contiguous()"
   ]
  },
  {
   "cell_type": "code",
   "execution_count": 56,
   "id": "51b8e7e8-2b18-46ad-827f-96438ee56740",
   "metadata": {},
   "outputs": [],
   "source": [
    "points = points.contiguous()"
   ]
  },
  {
   "cell_type": "code",
   "execution_count": 57,
   "id": "c872f2db-a1cf-481d-86ff-09098780fe6b",
   "metadata": {},
   "outputs": [
    {
     "data": {
      "text/plain": [
       "True"
      ]
     },
     "execution_count": 57,
     "metadata": {},
     "output_type": "execute_result"
    }
   ],
   "source": [
    "points.is_contiguous()"
   ]
  },
  {
   "cell_type": "markdown",
   "id": "697198c9-48b6-4c50-b974-f2ca61f7fd50",
   "metadata": {},
   "source": [
    "Assignment to GPUs"
   ]
  },
  {
   "cell_type": "code",
   "execution_count": 59,
   "id": "28a65fa6-386b-44e3-aaa6-66ac1a3c5d91",
   "metadata": {},
   "outputs": [
    {
     "name": "stdout",
     "output_type": "stream",
     "text": [
      "Thu May 27 19:24:39 2021       \n",
      "+-----------------------------------------------------------------------------+\n",
      "| NVIDIA-SMI 440.100      Driver Version: 440.100      CUDA Version: 10.2     |\n",
      "|-------------------------------+----------------------+----------------------+\n",
      "| GPU  Name        Persistence-M| Bus-Id        Disp.A | Volatile Uncorr. ECC |\n",
      "| Fan  Temp  Perf  Pwr:Usage/Cap|         Memory-Usage | GPU-Util  Compute M. |\n",
      "|===============================+======================+======================|\n",
      "|   0  GeForce RTX 208...  Off  | 00000000:01:00.0 Off |                  N/A |\n",
      "|  0%   36C    P0    64W / 250W |      0MiB / 11019MiB |      0%      Default |\n",
      "+-------------------------------+----------------------+----------------------+\n",
      "|   1  GeForce RTX 208...  Off  | 00000000:02:00.0 Off |                  N/A |\n",
      "|  0%   34C    P0    39W / 260W |      0MiB / 11019MiB |      0%      Default |\n",
      "+-------------------------------+----------------------+----------------------+\n",
      "                                                                               \n",
      "+-----------------------------------------------------------------------------+\n",
      "| Processes:                                                       GPU Memory |\n",
      "|  GPU       PID   Type   Process name                             Usage      |\n",
      "|=============================================================================|\n",
      "|  No running processes found                                                 |\n",
      "+-----------------------------------------------------------------------------+\n"
     ]
    }
   ],
   "source": [
    "!nvidia-smi"
   ]
  },
  {
   "cell_type": "markdown",
   "id": "99451fa2-5f73-4a82-b84e-b95b4dab1971",
   "metadata": {},
   "source": [
    "nothing!"
   ]
  },
  {
   "cell_type": "code",
   "execution_count": 60,
   "id": "2ea2295e-104e-4927-a67b-2f300193eadb",
   "metadata": {},
   "outputs": [
    {
     "data": {
      "text/plain": [
       "tensor([[ 4, 88,  2],\n",
       "        [ 0,  3,  1]])"
      ]
     },
     "execution_count": 60,
     "metadata": {},
     "output_type": "execute_result"
    }
   ],
   "source": [
    "points"
   ]
  },
  {
   "cell_type": "code",
   "execution_count": 61,
   "id": "6db79b6f-2e7c-437b-9c0a-08c2a440af00",
   "metadata": {},
   "outputs": [],
   "source": [
    "points = points.to(device='cuda')"
   ]
  },
  {
   "cell_type": "code",
   "execution_count": 62,
   "id": "a7e32a40-eaa9-49ae-8fb4-f7915b41f38d",
   "metadata": {},
   "outputs": [
    {
     "name": "stdout",
     "output_type": "stream",
     "text": [
      "Thu May 27 19:25:10 2021       \n",
      "+-----------------------------------------------------------------------------+\n",
      "| NVIDIA-SMI 440.100      Driver Version: 440.100      CUDA Version: 10.2     |\n",
      "|-------------------------------+----------------------+----------------------+\n",
      "| GPU  Name        Persistence-M| Bus-Id        Disp.A | Volatile Uncorr. ECC |\n",
      "| Fan  Temp  Perf  Pwr:Usage/Cap|         Memory-Usage | GPU-Util  Compute M. |\n",
      "|===============================+======================+======================|\n",
      "|   0  GeForce RTX 208...  Off  | 00000000:01:00.0 Off |                  N/A |\n",
      "|  0%   36C    P2    64W / 250W |    722MiB / 11019MiB |      0%      Default |\n",
      "+-------------------------------+----------------------+----------------------+\n",
      "|   1  GeForce RTX 208...  Off  | 00000000:02:00.0 Off |                  N/A |\n",
      "|  0%   35C    P0    62W / 260W |     11MiB / 11019MiB |      0%      Default |\n",
      "+-------------------------------+----------------------+----------------------+\n",
      "                                                                               \n",
      "+-----------------------------------------------------------------------------+\n",
      "| Processes:                                                       GPU Memory |\n",
      "|  GPU       PID   Type   Process name                             Usage      |\n",
      "|=============================================================================|\n",
      "|    0      1821      C   /opt/miniconda3/envs/k_dlwpt/bin/python      711MiB |\n",
      "+-----------------------------------------------------------------------------+\n"
     ]
    }
   ],
   "source": [
    "!nvidia-smi"
   ]
  },
  {
   "cell_type": "code",
   "execution_count": 63,
   "id": "0e37680c-c4a2-49c6-bb7f-782e64b8196c",
   "metadata": {},
   "outputs": [],
   "source": [
    "points2 = points.clone()"
   ]
  },
  {
   "cell_type": "code",
   "execution_count": 64,
   "id": "09918f06-54d2-42b7-9366-4d12e80993f3",
   "metadata": {},
   "outputs": [],
   "source": [
    "points2 = points2.to(device='cuda:1')"
   ]
  },
  {
   "cell_type": "code",
   "execution_count": 65,
   "id": "f84536fc-a4e4-4ced-af7d-70a71d0f7901",
   "metadata": {},
   "outputs": [
    {
     "name": "stdout",
     "output_type": "stream",
     "text": [
      "Thu May 27 19:25:56 2021       \n",
      "+-----------------------------------------------------------------------------+\n",
      "| NVIDIA-SMI 440.100      Driver Version: 440.100      CUDA Version: 10.2     |\n",
      "|-------------------------------+----------------------+----------------------+\n",
      "| GPU  Name        Persistence-M| Bus-Id        Disp.A | Volatile Uncorr. ECC |\n",
      "| Fan  Temp  Perf  Pwr:Usage/Cap|         Memory-Usage | GPU-Util  Compute M. |\n",
      "|===============================+======================+======================|\n",
      "|   0  GeForce RTX 208...  Off  | 00000000:01:00.0 Off |                  N/A |\n",
      "|  0%   36C    P2    64W / 250W |    722MiB / 11019MiB |      0%      Default |\n",
      "+-------------------------------+----------------------+----------------------+\n",
      "|   1  GeForce RTX 208...  Off  | 00000000:02:00.0 Off |                  N/A |\n",
      "|  0%   34C    P2    62W / 260W |    722MiB / 11019MiB |      0%      Default |\n",
      "+-------------------------------+----------------------+----------------------+\n",
      "                                                                               \n",
      "+-----------------------------------------------------------------------------+\n",
      "| Processes:                                                       GPU Memory |\n",
      "|  GPU       PID   Type   Process name                             Usage      |\n",
      "|=============================================================================|\n",
      "|    0      1821      C   /opt/miniconda3/envs/k_dlwpt/bin/python      711MiB |\n",
      "|    1      1821      C   /opt/miniconda3/envs/k_dlwpt/bin/python      711MiB |\n",
      "+-----------------------------------------------------------------------------+\n"
     ]
    }
   ],
   "source": [
    "!nvidia-smi"
   ]
  },
  {
   "cell_type": "markdown",
   "id": "a5a200c0-db7f-4e28-a947-7aa737e031ce",
   "metadata": {},
   "source": [
    ":)"
   ]
  },
  {
   "cell_type": "code",
   "execution_count": 66,
   "id": "fec500cb-9337-4b96-a259-3685d855f79b",
   "metadata": {},
   "outputs": [
    {
     "data": {
      "text/plain": [
       "tensor([[1., 2.],\n",
       "        [3., 4.],\n",
       "        [5., 6.]])"
      ]
     },
     "execution_count": 66,
     "metadata": {},
     "output_type": "execute_result"
    }
   ],
   "source": [
    "points_cpu = torch.tensor([[1.,2],[3,4],[5,6]])\n",
    "points_cpu"
   ]
  },
  {
   "cell_type": "code",
   "execution_count": 67,
   "id": "4f95b6ab-a1ae-49e8-83cb-8bdc16009bd4",
   "metadata": {},
   "outputs": [],
   "source": [
    "points_gpu1 = points_cpu.clone().cuda(0)"
   ]
  },
  {
   "cell_type": "code",
   "execution_count": 68,
   "id": "48147455-adec-495a-9df1-644119c44223",
   "metadata": {},
   "outputs": [
    {
     "name": "stdout",
     "output_type": "stream",
     "text": [
      "Thu May 27 19:27:45 2021       \n",
      "+-----------------------------------------------------------------------------+\n",
      "| NVIDIA-SMI 440.100      Driver Version: 440.100      CUDA Version: 10.2     |\n",
      "|-------------------------------+----------------------+----------------------+\n",
      "| GPU  Name        Persistence-M| Bus-Id        Disp.A | Volatile Uncorr. ECC |\n",
      "| Fan  Temp  Perf  Pwr:Usage/Cap|         Memory-Usage | GPU-Util  Compute M. |\n",
      "|===============================+======================+======================|\n",
      "|   0  GeForce RTX 208...  Off  | 00000000:01:00.0 Off |                  N/A |\n",
      "|  0%   35C    P2    64W / 250W |    722MiB / 11019MiB |      0%      Default |\n",
      "+-------------------------------+----------------------+----------------------+\n",
      "|   1  GeForce RTX 208...  Off  | 00000000:02:00.0 Off |                  N/A |\n",
      "|  0%   33C    P8    25W / 260W |    722MiB / 11019MiB |      0%      Default |\n",
      "+-------------------------------+----------------------+----------------------+\n",
      "                                                                               \n",
      "+-----------------------------------------------------------------------------+\n",
      "| Processes:                                                       GPU Memory |\n",
      "|  GPU       PID   Type   Process name                             Usage      |\n",
      "|=============================================================================|\n",
      "|    0      1821      C   /opt/miniconda3/envs/k_dlwpt/bin/python      711MiB |\n",
      "|    1      1821      C   /opt/miniconda3/envs/k_dlwpt/bin/python      711MiB |\n",
      "+-----------------------------------------------------------------------------+\n"
     ]
    }
   ],
   "source": [
    "!nvidia-smi"
   ]
  },
  {
   "cell_type": "code",
   "execution_count": 69,
   "id": "0623d357-6326-48e3-921e-9f6af170ef77",
   "metadata": {},
   "outputs": [],
   "source": [
    "points_gpu2 = points_cpu.clone().cuda(1)"
   ]
  },
  {
   "cell_type": "markdown",
   "id": "f1df5f6a-7dc9-441a-8fb6-4035a8a38e08",
   "metadata": {},
   "source": [
    "Clearing GPU memory?!?"
   ]
  },
  {
   "cell_type": "code",
   "execution_count": 70,
   "id": "684ed2fc-e14f-4bfa-a49a-193536ef7644",
   "metadata": {},
   "outputs": [],
   "source": [
    "del points_gpu1\n",
    "del points_gpu2\n",
    "del points\n",
    "del points2"
   ]
  },
  {
   "cell_type": "code",
   "execution_count": 71,
   "id": "89a1e0ef-bcae-43d4-8650-30a8f2afdda9",
   "metadata": {},
   "outputs": [
    {
     "name": "stdout",
     "output_type": "stream",
     "text": [
      "Thu May 27 19:29:40 2021       \n",
      "+-----------------------------------------------------------------------------+\n",
      "| NVIDIA-SMI 440.100      Driver Version: 440.100      CUDA Version: 10.2     |\n",
      "|-------------------------------+----------------------+----------------------+\n",
      "| GPU  Name        Persistence-M| Bus-Id        Disp.A | Volatile Uncorr. ECC |\n",
      "| Fan  Temp  Perf  Pwr:Usage/Cap|         Memory-Usage | GPU-Util  Compute M. |\n",
      "|===============================+======================+======================|\n",
      "|   0  GeForce RTX 208...  Off  | 00000000:01:00.0 Off |                  N/A |\n",
      "|  0%   33C    P8    19W / 250W |    722MiB / 11019MiB |      0%      Default |\n",
      "+-------------------------------+----------------------+----------------------+\n",
      "|   1  GeForce RTX 208...  Off  | 00000000:02:00.0 Off |                  N/A |\n",
      "|  0%   33C    P8    25W / 260W |    722MiB / 11019MiB |      0%      Default |\n",
      "+-------------------------------+----------------------+----------------------+\n",
      "                                                                               \n",
      "+-----------------------------------------------------------------------------+\n",
      "| Processes:                                                       GPU Memory |\n",
      "|  GPU       PID   Type   Process name                             Usage      |\n",
      "|=============================================================================|\n",
      "|    0      1821      C   /opt/miniconda3/envs/k_dlwpt/bin/python      711MiB |\n",
      "|    1      1821      C   /opt/miniconda3/envs/k_dlwpt/bin/python      711MiB |\n",
      "+-----------------------------------------------------------------------------+\n"
     ]
    }
   ],
   "source": [
    "!nvidia-smi"
   ]
  },
  {
   "cell_type": "code",
   "execution_count": 72,
   "id": "7f3c25bc-bf3a-49d3-872a-495e6799a467",
   "metadata": {},
   "outputs": [],
   "source": [
    "torch.cuda.empty_cache()"
   ]
  },
  {
   "cell_type": "code",
   "execution_count": 74,
   "id": "fd1b5d3a-3831-4caa-b0db-78a279b68cd3",
   "metadata": {},
   "outputs": [
    {
     "name": "stdout",
     "output_type": "stream",
     "text": [
      "Thu May 27 19:31:31 2021       \n",
      "+-----------------------------------------------------------------------------+\n",
      "| NVIDIA-SMI 440.100      Driver Version: 440.100      CUDA Version: 10.2     |\n",
      "|-------------------------------+----------------------+----------------------+\n",
      "| GPU  Name        Persistence-M| Bus-Id        Disp.A | Volatile Uncorr. ECC |\n",
      "| Fan  Temp  Perf  Pwr:Usage/Cap|         Memory-Usage | GPU-Util  Compute M. |\n",
      "|===============================+======================+======================|\n",
      "|   0  GeForce RTX 208...  Off  | 00000000:01:00.0 Off |                  N/A |\n",
      "|  0%   33C    P8    20W / 250W |    722MiB / 11019MiB |      0%      Default |\n",
      "+-------------------------------+----------------------+----------------------+\n",
      "|   1  GeForce RTX 208...  Off  | 00000000:02:00.0 Off |                  N/A |\n",
      "|  0%   32C    P8    24W / 260W |    722MiB / 11019MiB |      0%      Default |\n",
      "+-------------------------------+----------------------+----------------------+\n",
      "                                                                               \n",
      "+-----------------------------------------------------------------------------+\n",
      "| Processes:                                                       GPU Memory |\n",
      "|  GPU       PID   Type   Process name                             Usage      |\n",
      "|=============================================================================|\n",
      "|    0      1821      C   /opt/miniconda3/envs/k_dlwpt/bin/python      711MiB |\n",
      "|    1      1821      C   /opt/miniconda3/envs/k_dlwpt/bin/python      711MiB |\n",
      "+-----------------------------------------------------------------------------+\n"
     ]
    }
   ],
   "source": [
    "!nvidia-smi"
   ]
  },
  {
   "cell_type": "markdown",
   "id": "3997f7d2-0bf3-4e00-ac34-fe3b63e57a5b",
   "metadata": {},
   "source": [
    "hmmm... "
   ]
  },
  {
   "cell_type": "markdown",
   "id": "707656b5-a7ca-4b09-a73c-8d0ee2916943",
   "metadata": {},
   "source": [
    "kill kernel here, and try again..."
   ]
  },
  {
   "cell_type": "code",
   "execution_count": 1,
   "id": "dc957b77-d439-46f4-8cfe-e319a61b43d1",
   "metadata": {},
   "outputs": [
    {
     "name": "stdout",
     "output_type": "stream",
     "text": [
      "Thu May 27 19:32:13 2021       \n",
      "+-----------------------------------------------------------------------------+\n",
      "| NVIDIA-SMI 440.100      Driver Version: 440.100      CUDA Version: 10.2     |\n",
      "|-------------------------------+----------------------+----------------------+\n",
      "| GPU  Name        Persistence-M| Bus-Id        Disp.A | Volatile Uncorr. ECC |\n",
      "| Fan  Temp  Perf  Pwr:Usage/Cap|         Memory-Usage | GPU-Util  Compute M. |\n",
      "|===============================+======================+======================|\n",
      "|   0  GeForce RTX 208...  Off  | 00000000:01:00.0 Off |                  N/A |\n",
      "|  0%   35C    P0    64W / 250W |      0MiB / 11019MiB |      0%      Default |\n",
      "+-------------------------------+----------------------+----------------------+\n",
      "|   1  GeForce RTX 208...  Off  | 00000000:02:00.0 Off |                  N/A |\n",
      "|  0%   33C    P0    39W / 260W |      0MiB / 11019MiB |      0%      Default |\n",
      "+-------------------------------+----------------------+----------------------+\n",
      "                                                                               \n",
      "+-----------------------------------------------------------------------------+\n",
      "| Processes:                                                       GPU Memory |\n",
      "|  GPU       PID   Type   Process name                             Usage      |\n",
      "|=============================================================================|\n",
      "|  No running processes found                                                 |\n",
      "+-----------------------------------------------------------------------------+\n"
     ]
    }
   ],
   "source": [
    "!nvidia-smi"
   ]
  },
  {
   "cell_type": "code",
   "execution_count": 2,
   "id": "285cdd25-b527-481c-a16a-2899a729b742",
   "metadata": {},
   "outputs": [],
   "source": [
    "import torch"
   ]
  },
  {
   "cell_type": "code",
   "execution_count": 3,
   "id": "cb13ff44-5cce-4f8d-94c2-c4448bfae2c0",
   "metadata": {},
   "outputs": [],
   "source": [
    "points = torch.tensor([[1,2], [3,4], [5,6]], device='cuda:0')"
   ]
  },
  {
   "cell_type": "code",
   "execution_count": 4,
   "id": "9b929aab-377c-4fb7-8a06-2745e79532a0",
   "metadata": {},
   "outputs": [
    {
     "name": "stdout",
     "output_type": "stream",
     "text": [
      "Thu May 27 19:32:59 2021       \n",
      "+-----------------------------------------------------------------------------+\n",
      "| NVIDIA-SMI 440.100      Driver Version: 440.100      CUDA Version: 10.2     |\n",
      "|-------------------------------+----------------------+----------------------+\n",
      "| GPU  Name        Persistence-M| Bus-Id        Disp.A | Volatile Uncorr. ECC |\n",
      "| Fan  Temp  Perf  Pwr:Usage/Cap|         Memory-Usage | GPU-Util  Compute M. |\n",
      "|===============================+======================+======================|\n",
      "|   0  GeForce RTX 208...  Off  | 00000000:01:00.0 Off |                  N/A |\n",
      "|  0%   36C    P2    64W / 250W |    722MiB / 11019MiB |      0%      Default |\n",
      "+-------------------------------+----------------------+----------------------+\n",
      "|   1  GeForce RTX 208...  Off  | 00000000:02:00.0 Off |                  N/A |\n",
      "|  0%   34C    P0    62W / 260W |     11MiB / 11019MiB |      0%      Default |\n",
      "+-------------------------------+----------------------+----------------------+\n",
      "                                                                               \n",
      "+-----------------------------------------------------------------------------+\n",
      "| Processes:                                                       GPU Memory |\n",
      "|  GPU       PID   Type   Process name                             Usage      |\n",
      "|=============================================================================|\n",
      "|    0      9072      C   /opt/miniconda3/envs/k_dlwpt/bin/python      711MiB |\n",
      "+-----------------------------------------------------------------------------+\n"
     ]
    }
   ],
   "source": [
    "!nvidia-smi"
   ]
  },
  {
   "cell_type": "code",
   "execution_count": 5,
   "id": "bd71ec67-a19c-478b-bbd2-1d4f70544a1b",
   "metadata": {},
   "outputs": [],
   "source": [
    "del points"
   ]
  },
  {
   "cell_type": "code",
   "execution_count": 6,
   "id": "d68353e4-5087-4913-a462-392eb44886ea",
   "metadata": {},
   "outputs": [
    {
     "name": "stdout",
     "output_type": "stream",
     "text": [
      "Thu May 27 19:33:09 2021       \n",
      "+-----------------------------------------------------------------------------+\n",
      "| NVIDIA-SMI 440.100      Driver Version: 440.100      CUDA Version: 10.2     |\n",
      "|-------------------------------+----------------------+----------------------+\n",
      "| GPU  Name        Persistence-M| Bus-Id        Disp.A | Volatile Uncorr. ECC |\n",
      "| Fan  Temp  Perf  Pwr:Usage/Cap|         Memory-Usage | GPU-Util  Compute M. |\n",
      "|===============================+======================+======================|\n",
      "|   0  GeForce RTX 208...  Off  | 00000000:01:00.0 Off |                  N/A |\n",
      "|  0%   36C    P2    64W / 250W |    722MiB / 11019MiB |      0%      Default |\n",
      "+-------------------------------+----------------------+----------------------+\n",
      "|   1  GeForce RTX 208...  Off  | 00000000:02:00.0 Off |                  N/A |\n",
      "|  0%   33C    P8    24W / 260W |     11MiB / 11019MiB |      0%      Default |\n",
      "+-------------------------------+----------------------+----------------------+\n",
      "                                                                               \n",
      "+-----------------------------------------------------------------------------+\n",
      "| Processes:                                                       GPU Memory |\n",
      "|  GPU       PID   Type   Process name                             Usage      |\n",
      "|=============================================================================|\n",
      "|    0      9072      C   /opt/miniconda3/envs/k_dlwpt/bin/python      711MiB |\n",
      "+-----------------------------------------------------------------------------+\n"
     ]
    }
   ],
   "source": [
    "!nvidia-smi"
   ]
  },
  {
   "cell_type": "code",
   "execution_count": 7,
   "id": "d287dda0-d29d-46a5-b2f5-531024e36d3f",
   "metadata": {},
   "outputs": [],
   "source": [
    "torch.cuda.empty_cache()"
   ]
  },
  {
   "cell_type": "code",
   "execution_count": 8,
   "id": "8ae7725c-b5d1-4d28-8cca-f345d1440aa8",
   "metadata": {},
   "outputs": [
    {
     "name": "stdout",
     "output_type": "stream",
     "text": [
      "Thu May 27 19:33:44 2021       \n",
      "+-----------------------------------------------------------------------------+\n",
      "| NVIDIA-SMI 440.100      Driver Version: 440.100      CUDA Version: 10.2     |\n",
      "|-------------------------------+----------------------+----------------------+\n",
      "| GPU  Name        Persistence-M| Bus-Id        Disp.A | Volatile Uncorr. ECC |\n",
      "| Fan  Temp  Perf  Pwr:Usage/Cap|         Memory-Usage | GPU-Util  Compute M. |\n",
      "|===============================+======================+======================|\n",
      "|   0  GeForce RTX 208...  Off  | 00000000:01:00.0 Off |                  N/A |\n",
      "|  0%   34C    P8    20W / 250W |    720MiB / 11019MiB |      0%      Default |\n",
      "+-------------------------------+----------------------+----------------------+\n",
      "|   1  GeForce RTX 208...  Off  | 00000000:02:00.0 Off |                  N/A |\n",
      "|  0%   33C    P8    24W / 260W |     11MiB / 11019MiB |      0%      Default |\n",
      "+-------------------------------+----------------------+----------------------+\n",
      "                                                                               \n",
      "+-----------------------------------------------------------------------------+\n",
      "| Processes:                                                       GPU Memory |\n",
      "|  GPU       PID   Type   Process name                             Usage      |\n",
      "|=============================================================================|\n",
      "|    0      9072      C   /opt/miniconda3/envs/k_dlwpt/bin/python      709MiB |\n",
      "+-----------------------------------------------------------------------------+\n"
     ]
    }
   ],
   "source": [
    "!nvidia-smi"
   ]
  },
  {
   "cell_type": "markdown",
   "id": "4a8767da-17ca-44fc-9300-37be304348d0",
   "metadata": {},
   "source": [
    "**note** Memory usage did go down from 711mb to 709mb. Guess that is something. "
   ]
  },
  {
   "cell_type": "code",
   "execution_count": null,
   "id": "863cc6a5-e283-42e8-a867-12282819e9c5",
   "metadata": {},
   "outputs": [],
   "source": []
  }
 ],
 "metadata": {
  "kernelspec": {
   "display_name": "k_dlwpt",
   "language": "python",
   "name": "conda-env-k_dlwpt-py"
  },
  "language_info": {
   "codemirror_mode": {
    "name": "ipython",
    "version": 3
   },
   "file_extension": ".py",
   "mimetype": "text/x-python",
   "name": "python",
   "nbconvert_exporter": "python",
   "pygments_lexer": "ipython3",
   "version": "3.6.8"
  }
 },
 "nbformat": 4,
 "nbformat_minor": 5
}

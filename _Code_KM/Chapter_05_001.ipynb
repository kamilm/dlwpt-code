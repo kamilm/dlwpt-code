{
 "cells": [
  {
   "cell_type": "markdown",
   "id": "66854781-5eb5-48d1-a058-86348f5d2c49",
   "metadata": {},
   "source": [
    "# Chapter 5: In-Chapter Code"
   ]
  },
  {
   "cell_type": "markdown",
   "id": "ef71a815-8018-46e3-9593-60e3a8774d85",
   "metadata": {},
   "source": [
    "#### section 5.2"
   ]
  },
  {
   "cell_type": "markdown",
   "id": "bdeb3921-3c62-41e3-a95e-0a6e0233f916",
   "metadata": {},
   "source": [
    "##### 5.2.1"
   ]
  },
  {
   "cell_type": "code",
   "execution_count": 1,
   "id": "18f03b53-5a22-4343-bcc0-61acbd6fe971",
   "metadata": {},
   "outputs": [],
   "source": [
    "import torch\n",
    "import numpy as np"
   ]
  },
  {
   "cell_type": "code",
   "execution_count": 2,
   "id": "81c93e7e-3a22-45c0-bb7c-cfbea69b782e",
   "metadata": {},
   "outputs": [],
   "source": [
    "t_c = [0.5,  14.0, 15.0, 28.0, 11.0,  8.0,  3.0, -4.0,  6.0, 13.0, 21.0]\n",
    "t_u = [35.7, 55.9, 58.2, 81.9, 56.3, 48.9, 33.9, 21.8, 48.4, 60.4, 68.4]\n",
    "t_c = torch.tensor(t_c)\n",
    "t_u = torch.tensor(t_u)"
   ]
  },
  {
   "cell_type": "code",
   "execution_count": 3,
   "id": "0970bd77-5428-49b7-bd5c-6915b15c4500",
   "metadata": {},
   "outputs": [],
   "source": [
    "import matplotlib.pyplot as plt"
   ]
  },
  {
   "cell_type": "code",
   "execution_count": 4,
   "id": "0f1429c8-4a35-448a-b2c9-b1cf4b8aefd7",
   "metadata": {},
   "outputs": [
    {
     "data": {
      "text/plain": [
       "<matplotlib.collections.PathCollection at 0x7f31fb909710>"
      ]
     },
     "execution_count": 4,
     "metadata": {},
     "output_type": "execute_result"
    },
    {
     "data": {
      "image/png": "[encoded data removed]",
      "text/plain": [
       "<Figure size 432x288 with 1 Axes>"
      ]
     },
     "metadata": {
      "needs_background": "light"
     },
     "output_type": "display_data"
    }
   ],
   "source": [
    "plt.scatter(x=t_u,y=t_c)"
   ]
  },
  {
   "cell_type": "code",
   "execution_count": 5,
   "id": "5e160f3c-4fa9-4cc9-90f2-62144cfbc1da",
   "metadata": {},
   "outputs": [],
   "source": [
    "def model(t_u, w, b):\n",
    "    return w * t_u + b"
   ]
  },
  {
   "cell_type": "code",
   "execution_count": 6,
   "id": "f314b32e-1052-45b1-aa3c-1fec23c2bcc2",
   "metadata": {},
   "outputs": [],
   "source": [
    "def loss_fn(t_p, t_c):\n",
    "    \"\"\"\n",
    "    take the mean of all the squared difference, i.e. mean squared error\n",
    "    \n",
    "    t_p = prediction\n",
    "    t_c = target / ground truth\n",
    "    \"\"\"\n",
    "    squared_diffs = (t_p - t_c)**2\n",
    "    return squared_diffs.mean()"
   ]
  },
  {
   "cell_type": "code",
   "execution_count": 7,
   "id": "e1aee230-83ab-43f3-8803-99cbe30056d5",
   "metadata": {},
   "outputs": [],
   "source": [
    "# one simple instance\n",
    "w = torch.ones(()) # these are both scalars, i.e. zero dimesion tensors\n",
    "b = torch.zeros(()) #"
   ]
  },
  {
   "cell_type": "code",
   "execution_count": 8,
   "id": "0742965a-4327-4de2-a2f8-ea72c122c75e",
   "metadata": {},
   "outputs": [
    {
     "data": {
      "text/plain": [
       "tensor(1.)"
      ]
     },
     "execution_count": 8,
     "metadata": {},
     "output_type": "execute_result"
    }
   ],
   "source": [
    "w"
   ]
  },
  {
   "cell_type": "code",
   "execution_count": 9,
   "id": "382cdf36-c6c4-4e58-a61a-9c54b4b3b511",
   "metadata": {},
   "outputs": [
    {
     "data": {
      "text/plain": [
       "torch.Size([])"
      ]
     },
     "execution_count": 9,
     "metadata": {},
     "output_type": "execute_result"
    }
   ],
   "source": [
    "w.shape"
   ]
  },
  {
   "cell_type": "code",
   "execution_count": 10,
   "id": "97f06bdb-d2a9-4e49-a0b2-21572f7bcc30",
   "metadata": {},
   "outputs": [
    {
     "data": {
      "text/plain": [
       "tensor([35.7000, 55.9000, 58.2000, 81.9000, 56.3000, 48.9000, 33.9000, 21.8000,\n",
       "        48.4000, 60.4000, 68.4000])"
      ]
     },
     "execution_count": 10,
     "metadata": {},
     "output_type": "execute_result"
    }
   ],
   "source": [
    "# make a prediction\n",
    "t_p = model(t_u, w, b)\n",
    "t_p"
   ]
  },
  {
   "cell_type": "code",
   "execution_count": 11,
   "id": "a54a69eb-12fd-4e7a-a94d-0cdb6c33d4f1",
   "metadata": {},
   "outputs": [
    {
     "data": {
      "text/plain": [
       "tensor(1763.8846)"
      ]
     },
     "execution_count": 11,
     "metadata": {},
     "output_type": "execute_result"
    }
   ],
   "source": [
    "loss = loss_fn(t_p, t_c)\n",
    "loss"
   ]
  },
  {
   "cell_type": "code",
   "execution_count": 12,
   "id": "23123a04-b59a-49e6-8ea9-23e374cb8de3",
   "metadata": {},
   "outputs": [
    {
     "data": {
      "text/plain": [
       "<matplotlib.collections.PathCollection at 0x7f31fb84eb00>"
      ]
     },
     "execution_count": 12,
     "metadata": {},
     "output_type": "execute_result"
    },
    {
     "data": {
      "image/png": "[encoded data removed]",
      "text/plain": [
       "<Figure size 432x288 with 1 Axes>"
      ]
     },
     "metadata": {
      "needs_background": "light"
     },
     "output_type": "display_data"
    }
   ],
   "source": [
    "plt.scatter(x=t_u, y=t_c)\n",
    "plt.scatter(x=t_u, y=t_p)"
   ]
  },
  {
   "cell_type": "code",
   "execution_count": 13,
   "id": "b403ab13-f887-4515-9fb9-1472c2506317",
   "metadata": {},
   "outputs": [
    {
     "data": {
      "text/plain": [
       "tensor(4517.2979)"
      ]
     },
     "execution_count": 13,
     "metadata": {},
     "output_type": "execute_result"
    }
   ],
   "source": [
    "# calculate rate of change\n",
    "\n",
    "delta = 0.1\n",
    "\n",
    "# loss change in w\n",
    "loss_rate_of_change_w = \\\n",
    " (loss_fn(model(t_u, w+delta, b), t_c) - \n",
    "  loss_fn(model(t_u, w-delta, b), t_c)) / (2.0 * delta)\n",
    "loss_rate_of_change_w"
   ]
  },
  {
   "cell_type": "code",
   "execution_count": 14,
   "id": "1bc59a8e-694a-41f6-a3e5-2add75982b1d",
   "metadata": {},
   "outputs": [],
   "source": [
    "learning_rate = 1e-2"
   ]
  },
  {
   "cell_type": "code",
   "execution_count": 15,
   "id": "f7afb1e1-641c-4829-9482-57d62bdfc564",
   "metadata": {},
   "outputs": [
    {
     "data": {
      "text/plain": [
       "tensor(-44.1730)"
      ]
     },
     "execution_count": 15,
     "metadata": {},
     "output_type": "execute_result"
    }
   ],
   "source": [
    "# update our w, which is changed by a scaled version of the loss in w\n",
    "w = w - learning_rate * loss_rate_of_change_w\n",
    "w"
   ]
  },
  {
   "cell_type": "code",
   "execution_count": 16,
   "id": "e6b6101e-c2d8-4a57-9e13-db2d22ab8e22",
   "metadata": {},
   "outputs": [
    {
     "data": {
      "text/plain": [
       "tensor(-4602.5000)"
      ]
     },
     "execution_count": 16,
     "metadata": {},
     "output_type": "execute_result"
    }
   ],
   "source": [
    "# do the same for b\n",
    "loss_rate_of_chnage_b = \\\n",
    " (loss_fn(model(t_u, w, b + delta), t_c) - \n",
    " loss_fn(model(t_u, w, b - delta), t_c)) / (2.0* delta)\n",
    "loss_rate_of_chnage_b"
   ]
  },
  {
   "cell_type": "code",
   "execution_count": 17,
   "id": "6a61f0b0-4259-47ec-ba0d-b4d2e3367f8c",
   "metadata": {},
   "outputs": [
    {
     "data": {
      "text/plain": [
       "tensor(46.0250)"
      ]
     },
     "execution_count": 17,
     "metadata": {},
     "output_type": "execute_result"
    }
   ],
   "source": [
    "b = b - learning_rate * loss_rate_of_chnage_b\n",
    "b"
   ]
  },
  {
   "cell_type": "code",
   "execution_count": 18,
   "id": "e500b283-8b0b-40e1-932c-5c5d8a057636",
   "metadata": {},
   "outputs": [
    {
     "data": {
      "text/plain": [
       "<matplotlib.collections.PathCollection at 0x7f31fb8c4f98>"
      ]
     },
     "execution_count": 18,
     "metadata": {},
     "output_type": "execute_result"
    },
    {
     "data": {
      "image/png": "[encoded data removed]",
      "text/plain": [
       "<Figure size 432x288 with 1 Axes>"
      ]
     },
     "metadata": {
      "needs_background": "light"
     },
     "output_type": "display_data"
    }
   ],
   "source": [
    "plt.scatter(x=t_u, y=t_c)\n",
    "plt.scatter(x=t_u, y=model(t_u, w, b))"
   ]
  },
  {
   "cell_type": "code",
   "execution_count": 19,
   "id": "73d5ddc3-90a7-4495-ac1f-182986511d78",
   "metadata": {},
   "outputs": [],
   "source": [
    "# need a function for the gradient\n",
    "def dloss_fn(t_p, t_c):\n",
    "    dsq_diffs = 2 * (t_p - t_c) / t_p.size(0)\n",
    "    return dsq_diffs"
   ]
  },
  {
   "cell_type": "code",
   "execution_count": 20,
   "id": "de22f383-0a3e-4ad7-8380-b51af9cf134f",
   "metadata": {},
   "outputs": [],
   "source": [
    "# model derivative by w\n",
    "def dmodel_dw(t_u, w, b):\n",
    "    return t_u\n",
    "\n",
    "# model derivative by b\n",
    "def dmodel_db(t_u, w, b):\n",
    "    return 1.0"
   ]
  },
  {
   "cell_type": "code",
   "execution_count": 21,
   "id": "77e8f8bb-36ba-4fad-88dd-a42a56d21b21",
   "metadata": {},
   "outputs": [],
   "source": [
    "# the gradient: \n",
    "def grad_fn(t_u, t_p, w, b):\n",
    "    dloss_dtp = dloss_fn(t_p, t_c)\n",
    "    dloss_dw = dloss_dtp * dmodel_dw(t_u, w, b)\n",
    "    dloss_db = dloss_dtp * dmodel_db(t_u, w, b)\n",
    "    return torch.stack([dloss_dw.sum(), dloss_db.sum()]) # by taking the sum we are reducing the error to a single value each of w and b"
   ]
  },
  {
   "cell_type": "code",
   "execution_count": 22,
   "id": "234adb71-c55f-42d6-8087-ee2953833e2e",
   "metadata": {},
   "outputs": [],
   "source": [
    "def training_loop(n_epochs, learning_rate, params, t_u, t_c):\n",
    "    for epoch in range(n_epochs+1):\n",
    "        w, b = params # unpack\n",
    "        t_p = model(t_u, w, b) # get prediction\n",
    "        # get loss\n",
    "        loss = loss_fn(t_p, t_c)\n",
    "        # get updates via gradient\n",
    "        grad = grad_fn(t_u, t_p, w, b)\n",
    "        # update w,b \n",
    "        params = params - learning_rate*grad\n",
    "        print('epoch %d, loss %f' % (epoch, float(loss)))\n",
    "    return params"
   ]
  },
  {
   "cell_type": "code",
   "execution_count": 23,
   "id": "902e07a8-49c9-409d-8a02-b9e37e830b63",
   "metadata": {},
   "outputs": [],
   "source": [
    "t_c = [0.5,  14.0, 15.0, 28.0, 11.0,  8.0,  3.0, -4.0,  6.0, 13.0, 21.0]\n",
    "t_u = [35.7, 55.9, 58.2, 81.9, 56.3, 48.9, 33.9, 21.8, 48.4, 60.4, 68.4]\n",
    "t_c = torch.tensor(t_c)\n",
    "t_u = torch.tensor(t_u)"
   ]
  },
  {
   "cell_type": "code",
   "execution_count": 24,
   "id": "99262141-4d46-4557-8040-f4c16a0676b7",
   "metadata": {},
   "outputs": [
    {
     "name": "stdout",
     "output_type": "stream",
     "text": [
      "epoch 0, loss 1763.884644\n",
      "epoch 1, loss 5802485.500000\n",
      "epoch 2, loss 19408035840.000000\n",
      "epoch 3, loss 64915909902336.000000\n",
      "epoch 4, loss 217130559820791808.000000\n",
      "epoch 5, loss 726257583152928129024.000000\n",
      "epoch 6, loss 2429183992928415200051200.000000\n",
      "epoch 7, loss 8125126681682403942989824000.000000\n",
      "epoch 8, loss 27176891792249147543971428302848.000000\n",
      "epoch 9, loss 90901154706620645225508955521810432.000000\n",
      "epoch 10, loss inf\n"
     ]
    },
    {
     "data": {
      "text/plain": [
       "tensor([-1.8590e+19, -3.2746e+17])"
      ]
     },
     "execution_count": 24,
     "metadata": {},
     "output_type": "execute_result"
    }
   ],
   "source": [
    "training_loop( n_epochs=10, learning_rate=1e-2, params=torch.tensor([1.0, 0.0]), t_u = t_u, t_c=t_c)"
   ]
  },
  {
   "cell_type": "code",
   "execution_count": 25,
   "id": "f6b5b79c-3041-4aca-8133-790814a8999e",
   "metadata": {},
   "outputs": [],
   "source": [
    "# whoa! that did not converge!"
   ]
  },
  {
   "cell_type": "code",
   "execution_count": 26,
   "id": "4077a1be-2fc5-4f58-b04f-5dd614fdaec4",
   "metadata": {},
   "outputs": [
    {
     "name": "stdout",
     "output_type": "stream",
     "text": [
      "epoch 0, loss 1763.884644\n",
      "epoch 1, loss 323.090546\n",
      "epoch 2, loss 78.929634\n",
      "epoch 3, loss 37.552845\n",
      "epoch 4, loss 30.540285\n",
      "epoch 5, loss 29.351152\n",
      "epoch 6, loss 29.148882\n",
      "epoch 7, loss 29.113848\n",
      "epoch 8, loss 29.107145\n",
      "epoch 9, loss 29.105242\n",
      "epoch 10, loss 29.104168\n"
     ]
    },
    {
     "data": {
      "text/plain": [
       "tensor([ 0.2323, -0.0169])"
      ]
     },
     "execution_count": 26,
     "metadata": {},
     "output_type": "execute_result"
    }
   ],
   "source": [
    "training_loop( n_epochs=10, learning_rate=1e-4, params=torch.tensor([1.0, 0.0]), t_u = t_u, t_c=t_c)"
   ]
  },
  {
   "cell_type": "code",
   "execution_count": 27,
   "id": "1ae2573c-87f1-439e-a2f5-5e1bf5e91b19",
   "metadata": {},
   "outputs": [],
   "source": [
    "# great! that is trending downwards"
   ]
  },
  {
   "cell_type": "code",
   "execution_count": 28,
   "id": "80da1c7d-f416-4773-aa0d-70ff58ec94d9",
   "metadata": {},
   "outputs": [],
   "source": [
    "def training_loop_graph(n_epochs, learning_rate, params, t_u, t_c):\n",
    "    for epoch in range(n_epochs+1):\n",
    "        plt.scatter(x=t_u, y=t_c,color='red',label='truth')\n",
    "        w, b = params # unpack\n",
    "        t_p = model(t_u, w, b) # get prediction\n",
    "        # get loss\n",
    "        loss = loss_fn(t_p, t_c)\n",
    "        # get updates via gradient\n",
    "        grad = grad_fn(t_u, t_p, w, b)\n",
    "        # update w,b \n",
    "        params = params - learning_rate*grad\n",
    "        print('epoch %d, loss %f' % (epoch, float(loss)))\n",
    "        plt.scatter(x=t_u, y=t_p, color='blue', label='prediction')\n",
    "\n",
    "        if n_epochs % 5:\n",
    "            display(plt.show())\n",
    "    return params"
   ]
  },
  {
   "cell_type": "code",
   "execution_count": 29,
   "id": "0a8bc281-db68-4e47-a81d-35f3b5829de2",
   "metadata": {},
   "outputs": [
    {
     "name": "stdout",
     "output_type": "stream",
     "text": [
      "epoch 0, loss 1763.884644\n",
      "epoch 1, loss 323.090546\n",
      "epoch 2, loss 78.929634\n",
      "epoch 3, loss 37.552845\n",
      "epoch 4, loss 30.540285\n",
      "epoch 5, loss 29.351152\n",
      "epoch 6, loss 29.148882\n",
      "epoch 7, loss 29.113848\n",
      "epoch 8, loss 29.107145\n",
      "epoch 9, loss 29.105242\n",
      "epoch 10, loss 29.104168\n",
      "epoch 11, loss 29.103222\n",
      "epoch 12, loss 29.102297\n",
      "epoch 13, loss 29.101379\n",
      "epoch 14, loss 29.100470\n",
      "epoch 15, loss 29.099548\n",
      "epoch 16, loss 29.098631\n",
      "epoch 17, loss 29.097715\n",
      "epoch 18, loss 29.096796\n",
      "epoch 19, loss 29.095884\n",
      "epoch 20, loss 29.094959\n",
      "epoch 21, loss 29.094049\n",
      "epoch 22, loss 29.093134\n",
      "epoch 23, loss 29.092213\n",
      "epoch 24, loss 29.091297\n",
      "epoch 25, loss 29.090382\n",
      "epoch 26, loss 29.089460\n",
      "epoch 27, loss 29.088549\n",
      "epoch 28, loss 29.087635\n",
      "epoch 29, loss 29.086718\n",
      "epoch 30, loss 29.085808\n",
      "epoch 31, loss 29.084888\n",
      "epoch 32, loss 29.083965\n",
      "epoch 33, loss 29.083057\n",
      "epoch 34, loss 29.082142\n",
      "epoch 35, loss 29.081219\n",
      "epoch 36, loss 29.080309\n",
      "epoch 37, loss 29.079393\n",
      "epoch 38, loss 29.078474\n",
      "epoch 39, loss 29.077559\n",
      "epoch 40, loss 29.076653\n",
      "epoch 41, loss 29.075731\n",
      "epoch 42, loss 29.074812\n",
      "epoch 43, loss 29.073896\n",
      "epoch 44, loss 29.072985\n",
      "epoch 45, loss 29.072069\n",
      "epoch 46, loss 29.071148\n",
      "epoch 47, loss 29.070234\n",
      "epoch 48, loss 29.069323\n",
      "epoch 49, loss 29.068401\n",
      "epoch 50, loss 29.067486\n",
      "epoch 51, loss 29.066570\n",
      "epoch 52, loss 29.065655\n",
      "epoch 53, loss 29.064739\n",
      "epoch 54, loss 29.063829\n",
      "epoch 55, loss 29.062910\n",
      "epoch 56, loss 29.061989\n",
      "epoch 57, loss 29.061079\n",
      "epoch 58, loss 29.060169\n",
      "epoch 59, loss 29.059252\n",
      "epoch 60, loss 29.058332\n",
      "epoch 61, loss 29.057417\n",
      "epoch 62, loss 29.056507\n",
      "epoch 63, loss 29.055586\n",
      "epoch 64, loss 29.054670\n",
      "epoch 65, loss 29.053761\n",
      "epoch 66, loss 29.052843\n",
      "epoch 67, loss 29.051929\n",
      "epoch 68, loss 29.051014\n",
      "epoch 69, loss 29.050098\n",
      "epoch 70, loss 29.049183\n",
      "epoch 71, loss 29.048271\n",
      "epoch 72, loss 29.047346\n",
      "epoch 73, loss 29.046442\n",
      "epoch 74, loss 29.045530\n",
      "epoch 75, loss 29.044611\n",
      "epoch 76, loss 29.043699\n",
      "epoch 77, loss 29.042780\n",
      "epoch 78, loss 29.041870\n",
      "epoch 79, loss 29.040955\n",
      "epoch 80, loss 29.040039\n",
      "epoch 81, loss 29.039122\n",
      "epoch 82, loss 29.038214\n",
      "epoch 83, loss 29.037292\n",
      "epoch 84, loss 29.036379\n",
      "epoch 85, loss 29.035463\n",
      "epoch 86, loss 29.034557\n",
      "epoch 87, loss 29.033636\n",
      "epoch 88, loss 29.032721\n",
      "epoch 89, loss 29.031805\n",
      "epoch 90, loss 29.030895\n",
      "epoch 91, loss 29.029976\n",
      "epoch 92, loss 29.029066\n",
      "epoch 93, loss 29.028151\n",
      "epoch 94, loss 29.027235\n",
      "epoch 95, loss 29.026323\n",
      "epoch 96, loss 29.025410\n",
      "epoch 97, loss 29.024494\n",
      "epoch 98, loss 29.023582\n",
      "epoch 99, loss 29.022669\n",
      "epoch 100, loss 29.021753\n"
     ]
    },
    {
     "data": {
      "text/plain": [
       "tensor([ 0.2327, -0.0441])"
      ]
     },
     "execution_count": 29,
     "metadata": {},
     "output_type": "execute_result"
    },
    {
     "data": {
      "image/png": "[encoded data removed]",
      "text/plain": [
       "<Figure size 432x288 with 1 Axes>"
      ]
     },
     "metadata": {
      "needs_background": "light"
     },
     "output_type": "display_data"
    }
   ],
   "source": [
    "training_loop_graph( n_epochs=100, learning_rate=1e-4, params=torch.tensor([1.0, 0.0]), t_u = t_u, t_c=t_c)"
   ]
  },
  {
   "cell_type": "code",
   "execution_count": 30,
   "id": "546af2df-8e85-4d32-be01-eee8c0ecef33",
   "metadata": {},
   "outputs": [],
   "source": [
    "# the slope is changing quicker than the bias term, this is leading to the fit being off\n",
    "# this is due to the weights and bias terms being improperly scaled "
   ]
  },
  {
   "cell_type": "code",
   "execution_count": 31,
   "id": "59a6da28-b918-43ec-86f9-b8fe5e938e71",
   "metadata": {},
   "outputs": [],
   "source": [
    "# let's make the range on the inputs live in -1.0 to 1.0"
   ]
  },
  {
   "cell_type": "code",
   "execution_count": 32,
   "id": "c6094a32-03d3-4fe7-a4ad-d22acef5d931",
   "metadata": {},
   "outputs": [
    {
     "data": {
      "text/plain": [
       "tensor([ 0.5000, 14.0000, 15.0000, 28.0000, 11.0000,  8.0000,  3.0000, -4.0000,\n",
       "         6.0000, 13.0000, 21.0000])"
      ]
     },
     "execution_count": 32,
     "metadata": {},
     "output_type": "execute_result"
    }
   ],
   "source": [
    "t_c"
   ]
  },
  {
   "cell_type": "code",
   "execution_count": 33,
   "id": "28ddb4d5-d837-41bf-81cc-a16aa74498f5",
   "metadata": {},
   "outputs": [
    {
     "data": {
      "text/plain": [
       "tensor([35.7000, 55.9000, 58.2000, 81.9000, 56.3000, 48.9000, 33.9000, 21.8000,\n",
       "        48.4000, 60.4000, 68.4000])"
      ]
     },
     "execution_count": 33,
     "metadata": {},
     "output_type": "execute_result"
    }
   ],
   "source": [
    "t_u"
   ]
  },
  {
   "cell_type": "code",
   "execution_count": 34,
   "id": "c16849bf-c6fd-4cff-be4b-421d9f672ce2",
   "metadata": {},
   "outputs": [
    {
     "data": {
      "text/plain": [
       "tensor([3.5700, 5.5900, 5.8200, 8.1900, 5.6300, 4.8900, 3.3900, 2.1800, 4.8400,\n",
       "        6.0400, 6.8400])"
      ]
     },
     "execution_count": 34,
     "metadata": {},
     "output_type": "execute_result"
    }
   ],
   "source": [
    "t_unorm = t_u * 0.1\n",
    "t_unorm"
   ]
  },
  {
   "cell_type": "code",
   "execution_count": 35,
   "id": "34d422da-d990-4ab2-b243-a207c6daec33",
   "metadata": {},
   "outputs": [],
   "source": [
    "# now they t_c and t_u(norm) are comparable "
   ]
  },
  {
   "cell_type": "code",
   "execution_count": 36,
   "id": "1707f0ae-d86f-4c6a-9871-6bbb7cab6df0",
   "metadata": {},
   "outputs": [
    {
     "name": "stdout",
     "output_type": "stream",
     "text": [
      "epoch 0, loss 80.364342\n",
      "epoch 1, loss 37.574917\n",
      "epoch 2, loss 30.871077\n",
      "epoch 3, loss 29.756193\n",
      "epoch 4, loss 29.507149\n",
      "epoch 5, loss 29.392458\n",
      "epoch 6, loss 29.298828\n",
      "epoch 7, loss 29.208717\n",
      "epoch 8, loss 29.119417\n",
      "epoch 9, loss 29.030487\n",
      "epoch 10, loss 28.941875\n",
      "epoch 11, loss 28.853565\n",
      "epoch 12, loss 28.765556\n",
      "epoch 13, loss 28.677851\n",
      "epoch 14, loss 28.590431\n",
      "epoch 15, loss 28.503321\n",
      "epoch 16, loss 28.416496\n",
      "epoch 17, loss 28.329975\n",
      "epoch 18, loss 28.243738\n",
      "epoch 19, loss 28.157801\n",
      "epoch 20, loss 28.072151\n",
      "epoch 21, loss 27.986799\n",
      "epoch 22, loss 27.901731\n",
      "epoch 23, loss 27.816954\n",
      "epoch 24, loss 27.732460\n",
      "epoch 25, loss 27.648256\n",
      "epoch 26, loss 27.564342\n",
      "epoch 27, loss 27.480711\n",
      "epoch 28, loss 27.397358\n",
      "epoch 29, loss 27.314295\n",
      "epoch 30, loss 27.231512\n",
      "epoch 31, loss 27.149006\n",
      "epoch 32, loss 27.066790\n",
      "epoch 33, loss 26.984844\n",
      "epoch 34, loss 26.903173\n",
      "epoch 35, loss 26.821791\n",
      "epoch 36, loss 26.740675\n",
      "epoch 37, loss 26.659838\n",
      "epoch 38, loss 26.579279\n",
      "epoch 39, loss 26.498987\n",
      "epoch 40, loss 26.418974\n",
      "epoch 41, loss 26.339228\n",
      "epoch 42, loss 26.259752\n",
      "epoch 43, loss 26.180548\n",
      "epoch 44, loss 26.101616\n",
      "epoch 45, loss 26.022949\n",
      "epoch 46, loss 25.944542\n",
      "epoch 47, loss 25.866417\n",
      "epoch 48, loss 25.788546\n",
      "epoch 49, loss 25.710936\n",
      "epoch 50, loss 25.633600\n",
      "epoch 51, loss 25.556524\n",
      "epoch 52, loss 25.479700\n",
      "epoch 53, loss 25.403149\n",
      "epoch 54, loss 25.326851\n",
      "epoch 55, loss 25.250811\n",
      "epoch 56, loss 25.175035\n",
      "epoch 57, loss 25.099510\n",
      "epoch 58, loss 25.024248\n",
      "epoch 59, loss 24.949238\n",
      "epoch 60, loss 24.874483\n",
      "epoch 61, loss 24.799980\n",
      "epoch 62, loss 24.725737\n",
      "epoch 63, loss 24.651735\n",
      "epoch 64, loss 24.577986\n",
      "epoch 65, loss 24.504494\n",
      "epoch 66, loss 24.431250\n",
      "epoch 67, loss 24.358257\n",
      "epoch 68, loss 24.285505\n",
      "epoch 69, loss 24.212996\n",
      "epoch 70, loss 24.140741\n",
      "epoch 71, loss 24.068733\n",
      "epoch 72, loss 23.996967\n",
      "epoch 73, loss 23.925446\n",
      "epoch 74, loss 23.854168\n",
      "epoch 75, loss 23.783125\n",
      "epoch 76, loss 23.712328\n",
      "epoch 77, loss 23.641771\n",
      "epoch 78, loss 23.571455\n",
      "epoch 79, loss 23.501379\n",
      "epoch 80, loss 23.431538\n",
      "epoch 81, loss 23.361938\n",
      "epoch 82, loss 23.292570\n",
      "epoch 83, loss 23.223436\n",
      "epoch 84, loss 23.154539\n",
      "epoch 85, loss 23.085882\n",
      "epoch 86, loss 23.017447\n",
      "epoch 87, loss 22.949251\n",
      "epoch 88, loss 22.881283\n",
      "epoch 89, loss 22.813547\n",
      "epoch 90, loss 22.746044\n",
      "epoch 91, loss 22.678770\n",
      "epoch 92, loss 22.611717\n",
      "epoch 93, loss 22.544899\n",
      "epoch 94, loss 22.478304\n",
      "epoch 95, loss 22.411938\n",
      "epoch 96, loss 22.345795\n",
      "epoch 97, loss 22.279875\n",
      "epoch 98, loss 22.214186\n",
      "epoch 99, loss 22.148710\n",
      "epoch 100, loss 22.083464\n"
     ]
    },
    {
     "data": {
      "text/plain": [
       "tensor([ 2.7597, -2.5413])"
      ]
     },
     "execution_count": 36,
     "metadata": {},
     "output_type": "execute_result"
    },
    {
     "data": {
      "image/png": "[encoded data removed]",
      "text/plain": [
       "<Figure size 432x288 with 1 Axes>"
      ]
     },
     "metadata": {
      "needs_background": "light"
     },
     "output_type": "display_data"
    }
   ],
   "source": [
    "training_loop_graph( n_epochs=100, learning_rate=1e-2, params=torch.tensor([1.0, 0.0]), t_u = t_unorm, t_c=t_c) # we have set the learning rate back to 1e-2 and it was fine!"
   ]
  },
  {
   "cell_type": "code",
   "execution_count": 37,
   "id": "94993317-9127-4543-be69-c56cc134baa0",
   "metadata": {},
   "outputs": [],
   "source": [
    "def training_loop(n_epochs, learning_rate, params, t_u, t_c, print_params=True):\n",
    "    for epoch in range(n_epochs+1):\n",
    "        w, b = params # unpack\n",
    "        t_p = model(t_u, w, b) # get prediction\n",
    "        # get loss\n",
    "        loss = loss_fn(t_p, t_c)\n",
    "        # get updates via gradient\n",
    "        grad = grad_fn(t_u, t_p, w, b)\n",
    "        # update w,b \n",
    "        params = params - learning_rate*grad\n",
    "        if print_params:\n",
    "            print('epoch %d, loss %f' % (epoch, float(loss)))\n",
    "    return params"
   ]
  },
  {
   "cell_type": "code",
   "execution_count": 38,
   "id": "69041275-e13a-46f9-94e0-3a75f9d2ff5b",
   "metadata": {},
   "outputs": [],
   "source": [
    "params = training_loop(n_epochs=5000, learning_rate=1e-2, params=torch.tensor([1.0, 0.0]), t_u=t_unorm, t_c=t_c, print_params=False)"
   ]
  },
  {
   "cell_type": "code",
   "execution_count": 39,
   "id": "e301c04f-1055-4055-a62e-450859a290bf",
   "metadata": {},
   "outputs": [
    {
     "data": {
      "text/plain": [
       "tensor([  5.3671, -17.3012])"
      ]
     },
     "execution_count": 39,
     "metadata": {},
     "output_type": "execute_result"
    }
   ],
   "source": [
    "params"
   ]
  },
  {
   "cell_type": "code",
   "execution_count": 40,
   "id": "a8bcdbe7-08f9-40a9-b4f8-401918d8c601",
   "metadata": {},
   "outputs": [],
   "source": [
    "t_p = model(t_unorm, *params) # get prediction"
   ]
  },
  {
   "cell_type": "code",
   "execution_count": 41,
   "id": "838d1602-da67-4208-9e93-f58c745f1486",
   "metadata": {},
   "outputs": [
    {
     "data": {
      "text/plain": [
       "[<matplotlib.lines.Line2D at 0x7f31fb511d30>]"
      ]
     },
     "execution_count": 41,
     "metadata": {},
     "output_type": "execute_result"
    },
    {
     "data": {
      "image/png": "[encoded data removed]",
      "text/plain": [
       "<Figure size 432x288 with 1 Axes>"
      ]
     },
     "metadata": {
      "needs_background": "light"
     },
     "output_type": "display_data"
    }
   ],
   "source": [
    "plt.scatter(t_u, t_c, color='red')\n",
    "plt.plot(t_u, t_p, color='blue')"
   ]
  },
  {
   "cell_type": "markdown",
   "id": "747a846a-fcf7-468c-aed7-2ba9752fa5b7",
   "metadata": {},
   "source": [
    "##### 5.5 AUTOGRAD\n"
   ]
  },
  {
   "cell_type": "markdown",
   "id": "ac440351-5c5e-4936-b7f8-fdb6f6cae004",
   "metadata": {},
   "source": [
    "some house keeping, let's get all our basics here"
   ]
  },
  {
   "cell_type": "code",
   "execution_count": 42,
   "id": "1fc69599-5c2e-4d86-9867-5a72b68ecab1",
   "metadata": {},
   "outputs": [],
   "source": [
    "t_c = [0.5,  14.0, 15.0, 28.0, 11.0,  8.0,  3.0, -4.0,  6.0, 13.0, 21.0]\n",
    "t_u = [35.7, 55.9, 58.2, 81.9, 56.3, 48.9, 33.9, 21.8, 48.4, 60.4, 68.4]\n",
    "t_c = torch.tensor(t_c)\n",
    "t_u = torch.tensor(t_u)"
   ]
  },
  {
   "cell_type": "code",
   "execution_count": 43,
   "id": "64662f9f-77b2-47fe-b438-68206ba883ea",
   "metadata": {},
   "outputs": [
    {
     "data": {
      "text/plain": [
       "tensor([3.5700, 5.5900, 5.8200, 8.1900, 5.6300, 4.8900, 3.3900, 2.1800, 4.8400,\n",
       "        6.0400, 6.8400])"
      ]
     },
     "execution_count": 43,
     "metadata": {},
     "output_type": "execute_result"
    }
   ],
   "source": [
    "t_unorm = t_u * 0.1\n",
    "t_unorm"
   ]
  },
  {
   "cell_type": "code",
   "execution_count": 44,
   "id": "b02dcb77-bc54-436b-b9d8-82b144763da0",
   "metadata": {},
   "outputs": [],
   "source": [
    "def model(t_u, w, b):\n",
    "    return w * t_u + b"
   ]
  },
  {
   "cell_type": "code",
   "execution_count": 45,
   "id": "5cdd975f-287c-4227-8a5f-fc6c780b0a90",
   "metadata": {},
   "outputs": [],
   "source": [
    "def loss_fn(t_p, t_c):\n",
    "    \"\"\"\n",
    "    take the mean of all the squared difference, i.e. mean squared error\n",
    "    \n",
    "    t_p = prediction\n",
    "    t_c = target / ground truth\n",
    "    \"\"\"\n",
    "    squared_diffs = (t_p - t_c)**2\n",
    "    return squared_diffs.mean()"
   ]
  },
  {
   "cell_type": "code",
   "execution_count": 46,
   "id": "6d2d9c8b-e502-459f-806f-03f35d064ca6",
   "metadata": {},
   "outputs": [],
   "source": [
    "# w, b in a single tensor\n",
    "params = torch.tensor([1.0, 0.0], requires_grad=True) # update these using the autograd"
   ]
  },
  {
   "cell_type": "code",
   "execution_count": 47,
   "id": "1a63f74c-5d3c-435e-8262-91445dda6b2b",
   "metadata": {},
   "outputs": [
    {
     "data": {
      "text/plain": [
       "True"
      ]
     },
     "execution_count": 47,
     "metadata": {},
     "output_type": "execute_result"
    }
   ],
   "source": [
    "params.grad is None # if true that means that no operations have taken place in the tensors family tree"
   ]
  },
  {
   "cell_type": "code",
   "execution_count": 48,
   "id": "0d7ad1a2-a932-4e91-8698-aebd12d7373f",
   "metadata": {},
   "outputs": [
    {
     "data": {
      "text/plain": [
       "tensor(1763.8846, grad_fn=<MeanBackward0>)"
      ]
     },
     "execution_count": 48,
     "metadata": {},
     "output_type": "execute_result"
    }
   ],
   "source": [
    "loss = loss_fn(model(t_u, *params), t_c)\n",
    "loss"
   ]
  },
  {
   "cell_type": "code",
   "execution_count": 49,
   "id": "df5a45f6-1dc8-4797-805e-76d9fc1a1133",
   "metadata": {},
   "outputs": [],
   "source": [
    "params.grad"
   ]
  },
  {
   "cell_type": "code",
   "execution_count": 50,
   "id": "beca9ddc-cfd1-4a21-843f-0a75d19b5559",
   "metadata": {},
   "outputs": [],
   "source": [
    "loss.backward()"
   ]
  },
  {
   "cell_type": "code",
   "execution_count": 51,
   "id": "2c8b23c0-9125-4112-86af-c5cec6f60bcd",
   "metadata": {},
   "outputs": [
    {
     "data": {
      "text/plain": [
       "tensor([1., 0.], requires_grad=True)"
      ]
     },
     "execution_count": 51,
     "metadata": {},
     "output_type": "execute_result"
    }
   ],
   "source": [
    "params"
   ]
  },
  {
   "cell_type": "code",
   "execution_count": 52,
   "id": "1865bab7-cf57-49e7-835c-1708cfdc3a26",
   "metadata": {},
   "outputs": [
    {
     "data": {
      "text/plain": [
       "tensor([4517.2969,   82.6000])"
      ]
     },
     "execution_count": 52,
     "metadata": {},
     "output_type": "execute_result"
    }
   ],
   "source": [
    "params.grad"
   ]
  },
  {
   "cell_type": "code",
   "execution_count": 53,
   "id": "8d74211b-db1f-46c0-b983-0cada82190c1",
   "metadata": {},
   "outputs": [],
   "source": [
    "# now the grad attribute of params is populated"
   ]
  },
  {
   "cell_type": "code",
   "execution_count": 54,
   "id": "82272820-a20c-475b-b90d-26f6f33a2259",
   "metadata": {},
   "outputs": [],
   "source": [
    "# write the training loop\n",
    "# IMPORTANT: remember to zero the gradient after each training loop\n",
    "def training_ag(n_epochs, learning_rate, params, t_u, t_c, print_params=True):\n",
    "    \"\"\"\n",
    "    \"\"\"\n",
    "    for epoch in range(1, n_epochs+1):\n",
    "        # zero the gradient!\n",
    "        if params.grad is not None:\n",
    "            params.grad.zero_()\n",
    "        \n",
    "        # get values\n",
    "        t_p = model(t_u, *params)\n",
    "        loss = loss_fn(t_p, t_c)\n",
    "        \n",
    "        # get gradient via .backward()\n",
    "        loss.backward()\n",
    "        \n",
    "        # now params.grad has the gradients\n",
    "        # we will use the no_grad() context manager to \n",
    "        # avoid adding computational edges to the graph\n",
    "        with torch.no_grad():\n",
    "            params -= learning_rate * params.grad # Works! \n",
    "            #params = params.detach() - (learning_rate*params.grad) # Doesn't Work!\n",
    "        # print\n",
    "        if epoch % 500 == 0:\n",
    "            print('epoch %d, loss %f' % (epoch, float(loss)))\n",
    "        \n",
    "    return params"
   ]
  },
  {
   "cell_type": "code",
   "execution_count": 55,
   "id": "1aad15c1-73c4-416a-844b-92b5e097b3c9",
   "metadata": {},
   "outputs": [
    {
     "name": "stdout",
     "output_type": "stream",
     "text": [
      "epoch 500, loss 7.860116\n",
      "epoch 1000, loss 3.828538\n",
      "epoch 1500, loss 3.092191\n",
      "epoch 2000, loss 2.957697\n",
      "epoch 2500, loss 2.933134\n",
      "epoch 3000, loss 2.928648\n",
      "epoch 3500, loss 2.927830\n",
      "epoch 4000, loss 2.927679\n",
      "epoch 4500, loss 2.927652\n",
      "epoch 5000, loss 2.927647\n"
     ]
    },
    {
     "data": {
      "text/plain": [
       "tensor([  5.3671, -17.3012], requires_grad=True)"
      ]
     },
     "execution_count": 55,
     "metadata": {},
     "output_type": "execute_result"
    }
   ],
   "source": [
    "training_ag(5000, learning_rate=1e-2, params=torch.tensor([1.0, 0.0], requires_grad=True), t_u=t_unorm, t_c=t_c, print_params=True)"
   ]
  },
  {
   "cell_type": "markdown",
   "id": "575de1ea-9bd4-400f-8576-e5c00bfed755",
   "metadata": {},
   "source": [
    "##### 5.5.2 Optimizers"
   ]
  },
  {
   "cell_type": "code",
   "execution_count": 56,
   "id": "eb0a50e2-8a24-4cc7-ac85-169e8fbd7bd6",
   "metadata": {},
   "outputs": [],
   "source": [
    "import torch.optim as optim"
   ]
  },
  {
   "cell_type": "code",
   "execution_count": 57,
   "id": "4458462f-f390-4d95-b49e-589a896bdeb5",
   "metadata": {},
   "outputs": [],
   "source": [
    "params = torch.tensor([1.0, 0.0], requires_grad=True)"
   ]
  },
  {
   "cell_type": "code",
   "execution_count": 58,
   "id": "1bf74d64-c56b-4f79-aac6-3360e67f78a1",
   "metadata": {},
   "outputs": [],
   "source": [
    "learning_rate = 1e-5"
   ]
  },
  {
   "cell_type": "code",
   "execution_count": 59,
   "id": "f8fd3202-d231-4722-8cda-ad7aea3add25",
   "metadata": {},
   "outputs": [],
   "source": [
    "optimizer = optim.SGD([params], lr=learning_rate)"
   ]
  },
  {
   "cell_type": "code",
   "execution_count": 63,
   "id": "61d8cf06-5ba4-48b5-8f7b-0bf8df3c8056",
   "metadata": {},
   "outputs": [],
   "source": [
    "# update training with optimizer\n",
    "def training_optim(n_epochs, optimizer, params, t_u, t_c, print_params=True):\n",
    "    \"\"\"\n",
    "    \"\"\"\n",
    "    for epoch in range(1, n_epochs+1):\n",
    "        t_p = model(t_u, *params)\n",
    "        loss = loss_fn(t_p, t_c)\n",
    "        optimizer.zero_grad() # clear gradients\n",
    "        loss.backward() # calculate gradient and propogate through network\n",
    "        optimizer.step() # update all params\n",
    "        \n",
    "        if print_params==True and epoch % 500 == 0:\n",
    "            print('epoch %d, loss %f' % (epoch, float(loss)))\n",
    "    return params"
   ]
  },
  {
   "cell_type": "code",
   "execution_count": 64,
   "id": "b8095608-4adc-47e9-ae47-746fb38e754a",
   "metadata": {},
   "outputs": [],
   "source": [
    "params = torch.tensor([1.0, 0.0], requires_grad=True)\n",
    "learning_rate = 1e-1\n",
    "optimimzer = optim.Adam([params], lr=learning_rate)"
   ]
  },
  {
   "cell_type": "code",
   "execution_count": 66,
   "id": "3e26c8ae-86ea-421e-892a-f1022180a3b6",
   "metadata": {},
   "outputs": [
    {
     "name": "stdout",
     "output_type": "stream",
     "text": [
      "epoch 500, loss 2.962302\n",
      "epoch 1000, loss 2.927647\n",
      "epoch 1500, loss 2.927646\n",
      "epoch 2000, loss 2.927646\n"
     ]
    },
    {
     "data": {
      "text/plain": [
       "tensor([  5.3677, -17.3048], requires_grad=True)"
      ]
     },
     "execution_count": 66,
     "metadata": {},
     "output_type": "execute_result"
    }
   ],
   "source": [
    "training_optim(n_epochs = 2000, optimizer=optimimzer, params=params, t_u=t_unorm, t_c=t_c)"
   ]
  },
  {
   "cell_type": "markdown",
   "id": "f4a41d68-8685-4470-958e-28ef02485bae",
   "metadata": {},
   "source": [
    "##### 5.5.3 Shuffling Data"
   ]
  },
  {
   "cell_type": "code",
   "execution_count": 69,
   "id": "9736f8d1-e047-4921-910e-ddf0981acc7d",
   "metadata": {},
   "outputs": [
    {
     "data": {
      "text/plain": [
       "11"
      ]
     },
     "execution_count": 69,
     "metadata": {},
     "output_type": "execute_result"
    }
   ],
   "source": [
    "n_samples = t_u.shape[0]\n",
    "n_samples # total data points"
   ]
  },
  {
   "cell_type": "code",
   "execution_count": 70,
   "id": "c735386a-a54e-49c2-9f3e-d6b1505e6ce7",
   "metadata": {},
   "outputs": [
    {
     "data": {
      "text/plain": [
       "2"
      ]
     },
     "execution_count": 70,
     "metadata": {},
     "output_type": "execute_result"
    }
   ],
   "source": [
    "n_val = int(0.20 * n_samples)\n",
    "n_val # save 20% of them for validation"
   ]
  },
  {
   "cell_type": "code",
   "execution_count": 72,
   "id": "bdcb501f-a4c5-4f43-99ae-b45df9e052b1",
   "metadata": {},
   "outputs": [
    {
     "data": {
      "text/plain": [
       "tensor([ 0,  6,  2,  4,  8, 10,  9,  3,  1,  5,  7])"
      ]
     },
     "execution_count": 72,
     "metadata": {},
     "output_type": "execute_result"
    }
   ],
   "source": [
    "shuffled_indices = torch.randperm(n_samples)\n",
    "shuffled_indices # get a random list from 0 to n_samples"
   ]
  },
  {
   "cell_type": "code",
   "execution_count": 73,
   "id": "3cdbf80e-e416-426c-be18-229eef535d49",
   "metadata": {},
   "outputs": [
    {
     "data": {
      "text/plain": [
       "tensor([ 0,  6,  2,  4,  8, 10,  9,  3,  1])"
      ]
     },
     "execution_count": 73,
     "metadata": {},
     "output_type": "execute_result"
    }
   ],
   "source": [
    "train_indices = shuffled_indices[:-n_val]\n",
    "train_indices"
   ]
  },
  {
   "cell_type": "code",
   "execution_count": 74,
   "id": "4d082086-37ad-484d-8833-48547d58c714",
   "metadata": {},
   "outputs": [
    {
     "data": {
      "text/plain": [
       "tensor([5, 7])"
      ]
     },
     "execution_count": 74,
     "metadata": {},
     "output_type": "execute_result"
    }
   ],
   "source": [
    "valid_indices = shuffled_indices[-n_val:]\n",
    "valid_indices"
   ]
  },
  {
   "cell_type": "code",
   "execution_count": 75,
   "id": "a82b0e7d-dc56-4f4d-91b8-64eef20ff9d4",
   "metadata": {},
   "outputs": [],
   "source": [
    "train_t_u = t_unorm[train_indices]\n",
    "train_t_c = t_c[train_indices]\n",
    "\n",
    "valid_t_u = t_unorm[valid_indices]\n",
    "valid_t_c = t_c[valid_indices]"
   ]
  },
  {
   "cell_type": "code",
   "execution_count": 76,
   "id": "7bd2895d-2f43-408e-aeb2-cc5ce8125ea6",
   "metadata": {},
   "outputs": [],
   "source": [
    "# update the training loop so that we now have training and validation"
   ]
  },
  {
   "cell_type": "code",
   "execution_count": 90,
   "id": "f7ec5dce-0a43-49a3-8176-cc215e6fa95d",
   "metadata": {},
   "outputs": [],
   "source": [
    "# update training with optimizer\n",
    "def training_optim_train_val(n_epochs, optimizer, params, train_u, valid_u, train_c, valid_c, print_params=True):\n",
    "    \"\"\"\n",
    "    \"\"\"\n",
    "    for epoch in range(1, n_epochs+1):\n",
    "        train_p = model(train_u, *params)\n",
    "        train_loss = loss_fn(train_p, train_c)\n",
    "        \n",
    "        val_p = model(valid_u, *params)\n",
    "        val_loss = loss_fn(val_p, valid_c)\n",
    "        \n",
    "        optimizer.zero_grad() # clear gradients\n",
    "        train_loss.backward() # calculate gradient and propogate through network\n",
    "        optimizer.step() # update all params\n",
    "        \n",
    "        if print_params==True and epoch % 200 == 0:\n",
    "            print('epoch %d, training loss %f, validation loss %f' % (epoch, float(train_loss), float(val_loss)))\n",
    "    return params"
   ]
  },
  {
   "cell_type": "code",
   "execution_count": 95,
   "id": "83ffb593-4d1c-42a3-8a54-9d40c09bd5ac",
   "metadata": {},
   "outputs": [],
   "source": [
    "params = torch.tensor([1.0, 0.1], requires_grad=True)\n",
    "learning_rate = 1e-2\n",
    "optimimzer = optim.SGD([params], lr=learning_rate)"
   ]
  },
  {
   "cell_type": "code",
   "execution_count": 96,
   "id": "a711df54-be5f-4433-bbdf-de7146ab25df",
   "metadata": {},
   "outputs": [
    {
     "name": "stdout",
     "output_type": "stream",
     "text": [
      "epoch 200, training loss 17.066727, validation loss 29.676231\n",
      "epoch 400, training loss 11.755043, validation loss 15.983402\n",
      "epoch 600, training loss 8.455937, validation loss 8.281689\n",
      "epoch 800, training loss 6.406847, validation loss 4.130927\n",
      "epoch 1000, training loss 5.134153, validation loss 2.051599\n",
      "epoch 1200, training loss 4.343678, validation loss 1.153159\n",
      "epoch 1400, training loss 3.852707, validation loss 0.904889\n",
      "epoch 1600, training loss 3.547765, validation loss 0.994807\n",
      "epoch 1800, training loss 3.358363, validation loss 1.243049\n",
      "epoch 2000, training loss 3.240728, validation loss 1.548851\n",
      "epoch 2200, training loss 3.167664, validation loss 1.858282\n",
      "epoch 2400, training loss 3.122282, validation loss 2.144639\n",
      "epoch 2600, training loss 3.094094, validation loss 2.396723\n",
      "epoch 2800, training loss 3.076590, validation loss 2.611782\n",
      "epoch 3000, training loss 3.065715, validation loss 2.791453\n",
      "epoch 3200, training loss 3.058961, validation loss 2.939379\n",
      "epoch 3400, training loss 3.054769, validation loss 3.059881\n",
      "epoch 3600, training loss 3.052162, validation loss 3.157293\n",
      "epoch 3800, training loss 3.050544, validation loss 3.235574\n",
      "epoch 4000, training loss 3.049537, validation loss 3.298206\n",
      "epoch 4200, training loss 3.048915, validation loss 3.348158\n",
      "epoch 4400, training loss 3.048524, validation loss 3.387885\n",
      "epoch 4600, training loss 3.048285, validation loss 3.419422\n",
      "epoch 4800, training loss 3.048136, validation loss 3.444415\n",
      "epoch 5000, training loss 3.048042, validation loss 3.464187\n"
     ]
    },
    {
     "data": {
      "text/plain": [
       "tensor([  5.6240, -18.7964], requires_grad=True)"
      ]
     },
     "execution_count": 96,
     "metadata": {},
     "output_type": "execute_result"
    }
   ],
   "source": [
    "training_optim_train_val(5000, optimizer=optimimzer, params=params, train_u=train_t_u, valid_u=valid_t_u, train_c=train_t_c, valid_c=valid_t_c)"
   ]
  },
  {
   "cell_type": "code",
   "execution_count": 97,
   "id": "2f6eab71-d5f9-491d-b84c-f8190d639a19",
   "metadata": {},
   "outputs": [
    {
     "data": {
      "text/plain": [
       "tensor([ 1.2813, 12.6418, 13.9353, 27.2642, 12.8668,  8.7050,  0.2690, -6.5360,\n",
       "         8.4238, 15.1726, 19.6718], grad_fn=<AddBackward0>)"
      ]
     },
     "execution_count": 97,
     "metadata": {},
     "output_type": "execute_result"
    }
   ],
   "source": [
    "model(t_unorm, *params)"
   ]
  },
  {
   "cell_type": "code",
   "execution_count": 98,
   "id": "f5f67a29-144c-48fe-8b68-e4d7c9d60b0a",
   "metadata": {},
   "outputs": [
    {
     "data": {
      "text/plain": [
       "tensor([ 0.5000, 14.0000, 15.0000, 28.0000, 11.0000,  8.0000,  3.0000, -4.0000,\n",
       "         6.0000, 13.0000, 21.0000])"
      ]
     },
     "execution_count": 98,
     "metadata": {},
     "output_type": "execute_result"
    }
   ],
   "source": [
    "t_c"
   ]
  },
  {
   "cell_type": "code",
   "execution_count": null,
   "id": "f7c293c2-62f9-4224-a088-13dbc856ae75",
   "metadata": {},
   "outputs": [],
   "source": []
  }
 ],
 "metadata": {
  "kernelspec": {
   "display_name": "k_dlwpt",
   "language": "python",
   "name": "conda-env-k_dlwpt-py"
  },
  "language_info": {
   "codemirror_mode": {
    "name": "ipython",
    "version": 3
   },
   "file_extension": ".py",
   "mimetype": "text/x-python",
   "name": "python",
   "nbconvert_exporter": "python",
   "pygments_lexer": "ipython3",
   "version": "3.6.8"
  }
 },
 "nbformat": 4,
 "nbformat_minor": 5
}

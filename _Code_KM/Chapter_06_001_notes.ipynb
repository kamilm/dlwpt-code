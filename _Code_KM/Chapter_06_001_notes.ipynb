{
 "cells": [
  {
   "cell_type": "markdown",
   "id": "5d8544e0-178b-4eb2-9ec1-bcb8225b6d61",
   "metadata": {},
   "source": [
    "# Chapter 6"
   ]
  },
  {
   "cell_type": "code",
   "execution_count": 1,
   "id": "63d9bbc7-bec1-40a0-bd69-a19b3349e7da",
   "metadata": {},
   "outputs": [],
   "source": [
    "# copied from p1ch6/1_neural_networks"
   ]
  },
  {
   "cell_type": "code",
   "execution_count": 2,
   "id": "00768d82-30c1-4235-b1fb-3e8a5ad177b8",
   "metadata": {},
   "outputs": [],
   "source": [
    "%matplotlib inline\n",
    "import numpy as np\n",
    "import torch\n",
    "import torch.optim as optim\n",
    "\n",
    "torch.set_printoptions(edgeitems=2, linewidth=75)"
   ]
  },
  {
   "cell_type": "code",
   "execution_count": 3,
   "id": "1950ed54-3ecd-4962-8eea-e00ce3b8a1db",
   "metadata": {},
   "outputs": [
    {
     "data": {
      "text/plain": [
       "torch.Size([11, 1])"
      ]
     },
     "execution_count": 3,
     "metadata": {},
     "output_type": "execute_result"
    }
   ],
   "source": [
    "t_c = [0.5,  14.0, 15.0, 28.0, 11.0,  8.0,  3.0, -4.0,  6.0, 13.0, 21.0]\n",
    "t_u = [35.7, 55.9, 58.2, 81.9, 56.3, 48.9, 33.9, 21.8, 48.4, 60.4, 68.4]\n",
    "t_c = torch.tensor(t_c).unsqueeze(1) # <1>\n",
    "t_u = torch.tensor(t_u).unsqueeze(1) # <1>\n",
    "\n",
    "t_u.shape"
   ]
  },
  {
   "cell_type": "code",
   "execution_count": 4,
   "id": "1c93e465-f6d2-4388-b895-67d7f5089922",
   "metadata": {},
   "outputs": [
    {
     "data": {
      "text/plain": [
       "(tensor([ 4,  0, 10,  5,  2,  8,  3,  6,  1]), tensor([7, 9]))"
      ]
     },
     "execution_count": 4,
     "metadata": {},
     "output_type": "execute_result"
    }
   ],
   "source": [
    "n_samples = t_u.shape[0]\n",
    "n_val = int(0.2 * n_samples)\n",
    "\n",
    "shuffled_indices = torch.randperm(n_samples)\n",
    "\n",
    "train_indices = shuffled_indices[:-n_val]\n",
    "val_indices = shuffled_indices[-n_val:]\n",
    "\n",
    "train_indices, val_indices"
   ]
  },
  {
   "cell_type": "code",
   "execution_count": 5,
   "id": "1f1a1cda-ad5b-4c87-b019-7440b902248e",
   "metadata": {},
   "outputs": [],
   "source": [
    "t_u_train = t_u[train_indices]\n",
    "t_c_train = t_c[train_indices]\n",
    "\n",
    "t_u_val = t_u[val_indices]\n",
    "t_c_val = t_c[val_indices]\n",
    "\n",
    "t_un_train = 0.1 * t_u_train\n",
    "t_un_val = 0.1 * t_u_val"
   ]
  },
  {
   "cell_type": "code",
   "execution_count": 6,
   "id": "a2d2933d-f648-45a3-b08f-c121382ff75b",
   "metadata": {},
   "outputs": [],
   "source": [
    "import torch.nn as nn"
   ]
  },
  {
   "cell_type": "code",
   "execution_count": 7,
   "id": "9924a517-8ddf-4aa2-a2ee-78c343729cf5",
   "metadata": {},
   "outputs": [
    {
     "data": {
      "text/plain": [
       "\u001b[0;31mInit signature:\u001b[0m \u001b[0mnn\u001b[0m\u001b[0;34m.\u001b[0m\u001b[0mLinear\u001b[0m\u001b[0;34m(\u001b[0m\u001b[0min_features\u001b[0m\u001b[0;34m,\u001b[0m \u001b[0mout_features\u001b[0m\u001b[0;34m,\u001b[0m \u001b[0mbias\u001b[0m\u001b[0;34m=\u001b[0m\u001b[0;32mTrue\u001b[0m\u001b[0;34m)\u001b[0m\u001b[0;34m\u001b[0m\u001b[0;34m\u001b[0m\u001b[0m\n",
       "\u001b[0;31mDocstring:\u001b[0m     \n",
       "Applies a linear transformation to the incoming data: :math:`y = xA^T + b`\n",
       "\n",
       "Args:\n",
       "    in_features: size of each input sample\n",
       "    out_features: size of each output sample\n",
       "    bias: If set to ``False``, the layer will not learn an additive bias.\n",
       "        Default: ``True``\n",
       "\n",
       "Shape:\n",
       "    - Input: :math:`(N, *, H_{in})` where :math:`*` means any number of\n",
       "      additional dimensions and :math:`H_{in} = \\text{in\\_features}`\n",
       "    - Output: :math:`(N, *, H_{out})` where all but the last dimension\n",
       "      are the same shape as the input and :math:`H_{out} = \\text{out\\_features}`.\n",
       "\n",
       "Attributes:\n",
       "    weight: the learnable weights of the module of shape\n",
       "        :math:`(\\text{out\\_features}, \\text{in\\_features})`. The values are\n",
       "        initialized from :math:`\\mathcal{U}(-\\sqrt{k}, \\sqrt{k})`, where\n",
       "        :math:`k = \\frac{1}{\\text{in\\_features}}`\n",
       "    bias:   the learnable bias of the module of shape :math:`(\\text{out\\_features})`.\n",
       "            If :attr:`bias` is ``True``, the values are initialized from\n",
       "            :math:`\\mathcal{U}(-\\sqrt{k}, \\sqrt{k})` where\n",
       "            :math:`k = \\frac{1}{\\text{in\\_features}}`\n",
       "\n",
       "Examples::\n",
       "\n",
       "    >>> m = nn.Linear(20, 30)\n",
       "    >>> input = torch.randn(128, 20)\n",
       "    >>> output = m(input)\n",
       "    >>> print(output.size())\n",
       "    torch.Size([128, 30])\n",
       "\u001b[0;31mInit docstring:\u001b[0m Initializes internal Module state, shared by both nn.Module and ScriptModule.\n",
       "\u001b[0;31mFile:\u001b[0m           /opt/miniconda3/envs/k_dlwpt/lib/python3.6/site-packages/torch/nn/modules/linear.py\n",
       "\u001b[0;31mType:\u001b[0m           type\n",
       "\u001b[0;31mSubclasses:\u001b[0m     Linear\n"
      ]
     },
     "metadata": {},
     "output_type": "display_data"
    }
   ],
   "source": [
    "nn.Linear?"
   ]
  },
  {
   "cell_type": "code",
   "execution_count": 8,
   "id": "dfbe2d36-2d36-4cbc-983a-df1caccf5e67",
   "metadata": {},
   "outputs": [],
   "source": [
    "linear_model = nn.Linear(1,1) # 1 in and 1 out"
   ]
  },
  {
   "cell_type": "code",
   "execution_count": 10,
   "id": "6e2d1e40-9a85-4bf7-9f0c-e21382e03a3d",
   "metadata": {},
   "outputs": [
    {
     "data": {
      "text/plain": [
       "tensor([[2.5819],\n",
       "        [5.5309]], grad_fn=<AddmmBackward>)"
      ]
     },
     "execution_count": 10,
     "metadata": {},
     "output_type": "execute_result"
    }
   ],
   "source": [
    "linear_model(t_un_val) # this ends up calling .forward()"
   ]
  },
  {
   "cell_type": "code",
   "execution_count": 12,
   "id": "f9102bfe-4f9b-4b37-a3f5-485508569e55",
   "metadata": {},
   "outputs": [
    {
     "data": {
      "text/plain": [
       "tensor([[2.5819],\n",
       "        [5.5309]], grad_fn=<AddmmBackward>)"
      ]
     },
     "execution_count": 12,
     "metadata": {},
     "output_type": "execute_result"
    }
   ],
   "source": [
    "linear_model.forward(t_un_val) # this is technically correct but not recommended"
   ]
  },
  {
   "cell_type": "code",
   "execution_count": 13,
   "id": "7f517ab9-95a8-4a9c-845e-037758975f81",
   "metadata": {},
   "outputs": [
    {
     "data": {
      "text/plain": [
       "Parameter containing:\n",
       "tensor([[0.7640]], requires_grad=True)"
      ]
     },
     "execution_count": 13,
     "metadata": {},
     "output_type": "execute_result"
    }
   ],
   "source": [
    "linear_model.weight"
   ]
  },
  {
   "cell_type": "code",
   "execution_count": 14,
   "id": "460cbf34-514b-4655-b38f-8aa499a73e84",
   "metadata": {},
   "outputs": [
    {
     "data": {
      "text/plain": [
       "Parameter containing:\n",
       "tensor([0.9164], requires_grad=True)"
      ]
     },
     "execution_count": 14,
     "metadata": {},
     "output_type": "execute_result"
    }
   ],
   "source": [
    "linear_model.bias"
   ]
  },
  {
   "cell_type": "code",
   "execution_count": 15,
   "id": "bf039f2f-ee23-4b72-a9c0-299801d35cca",
   "metadata": {},
   "outputs": [
    {
     "data": {
      "text/plain": [
       "tensor([1.6804], grad_fn=<AddBackward0>)"
      ]
     },
     "execution_count": 15,
     "metadata": {},
     "output_type": "execute_result"
    }
   ],
   "source": [
    "x = torch.ones(1)\n",
    "linear_model(x)"
   ]
  },
  {
   "cell_type": "code",
   "execution_count": 16,
   "id": "43f99e95-c9f7-4225-bb15-7d2ca3dafc93",
   "metadata": {},
   "outputs": [],
   "source": [
    "x = torch.ones(10,1)"
   ]
  },
  {
   "cell_type": "code",
   "execution_count": 17,
   "id": "f1e4712a-7867-4818-86f5-c3041217a3db",
   "metadata": {},
   "outputs": [
    {
     "data": {
      "text/plain": [
       "tensor([[1.6804],\n",
       "        [1.6804],\n",
       "        [1.6804],\n",
       "        [1.6804],\n",
       "        [1.6804],\n",
       "        [1.6804],\n",
       "        [1.6804],\n",
       "        [1.6804],\n",
       "        [1.6804],\n",
       "        [1.6804]], grad_fn=<AddmmBackward>)"
      ]
     },
     "execution_count": 17,
     "metadata": {},
     "output_type": "execute_result"
    }
   ],
   "source": [
    "linear_model(x)"
   ]
  },
  {
   "cell_type": "code",
   "execution_count": 18,
   "id": "620dcecf-2420-4703-a0a6-371690501341",
   "metadata": {},
   "outputs": [],
   "source": [
    "linear_model = nn.Linear(1,1) \n",
    "optimizer = optim.SGD(linear_model.parameters(),\n",
    "                     lr=1e-2)"
   ]
  },
  {
   "cell_type": "code",
   "execution_count": 20,
   "id": "75be8a05-b307-46b3-b466-dde5f2e1a339",
   "metadata": {},
   "outputs": [
    {
     "data": {
      "text/plain": [
       "[Parameter containing:\n",
       " tensor([[-0.9901]], requires_grad=True),\n",
       " Parameter containing:\n",
       " tensor([0.3631], requires_grad=True)]"
      ]
     },
     "execution_count": 20,
     "metadata": {},
     "output_type": "execute_result"
    }
   ],
   "source": [
    "list(linear_model.parameters())"
   ]
  },
  {
   "cell_type": "code",
   "execution_count": 25,
   "id": "b07b0a50-bf1a-4849-b6ac-60ef58a4b7f2",
   "metadata": {},
   "outputs": [],
   "source": [
    "def training_loop(n_epochs, optimizer, model, loss_fn, t_u_train, t_u_val, t_c_train, t_c_val):\n",
    "    \"\"\"\n",
    "    \"\"\"\n",
    "    for epoch in range(1,n_epochs+1):\n",
    "        # get predictions and loss on training\n",
    "        t_p_train = model(t_u_train)\n",
    "        loss_train = loss_fn(t_p_train, t_u_train)\n",
    "        \n",
    "        # validation\n",
    "        t_p_val = model(t_u_val)\n",
    "        loss_val = loss_fn(t_p_val, t_u_val)\n",
    "        \n",
    "        # make updates\n",
    "        optimizer.zero_grad() # reset\n",
    "        loss_train.backward() # calculate grad\n",
    "        optimizer.step() # apply changes to parameters\n",
    "        \n",
    "        if epoch < 5 or epoch % 1000 == 0:\n",
    "            print(f\"Epoch {epoch}, Training loss {loss_train.item():.4f},\"\n",
    "                  f\" Validation loss {loss_val.item():.4f}\")\n",
    "    return"
   ]
  },
  {
   "cell_type": "code",
   "execution_count": 26,
   "id": "5a88040f-10a1-4068-8b52-bc8d1f8124e8",
   "metadata": {},
   "outputs": [
    {
     "data": {
      "text/plain": [
       "[None, None]"
      ]
     },
     "execution_count": 26,
     "metadata": {},
     "output_type": "execute_result"
    }
   ],
   "source": [
    "def blank():\n",
    "    ...\n",
    "\n",
    "def blank_return():\n",
    "    return\n",
    "[blank(), blank_return()]"
   ]
  },
  {
   "cell_type": "code",
   "execution_count": 27,
   "id": "744bb456-2f39-44cb-8182-763d01403cde",
   "metadata": {},
   "outputs": [],
   "source": [
    "assert blank() == blank_return()"
   ]
  },
  {
   "cell_type": "code",
   "execution_count": 41,
   "id": "024d3189-24ee-4a1e-8a8e-bb3e11b71d3e",
   "metadata": {},
   "outputs": [],
   "source": [
    "linear_model = nn.Linear(1,1)\n",
    "optimizer = optim.SGD(linear_model.parameters(), lr=1e-2)"
   ]
  },
  {
   "cell_type": "code",
   "execution_count": 42,
   "id": "bd1893da-fa13-4220-93d7-b6ef2ec99178",
   "metadata": {},
   "outputs": [
    {
     "name": "stdout",
     "output_type": "stream",
     "text": [
      "Epoch 1, Training loss 1.0957, Validation loss 0.7486\n",
      "Epoch 2, Training loss 0.1378, Validation loss 0.1000\n",
      "Epoch 3, Training loss 0.0178, Validation loss 0.0157\n",
      "Epoch 4, Training loss 0.0027, Validation loss 0.0041\n",
      "Epoch 1000, Training loss 0.0000, Validation loss 0.0001\n",
      "Epoch 2000, Training loss 0.0000, Validation loss 0.0000\n",
      "Epoch 3000, Training loss 0.0000, Validation loss 0.0000\n"
     ]
    }
   ],
   "source": [
    "training_loop(\n",
    "n_epochs=3000,\n",
    "optimizer=optimizer,\n",
    "model=linear_model,\n",
    "loss_fn=nn.MSELoss(),\n",
    "t_u_train=t_un_train,\n",
    "t_u_val=t_un_val,\n",
    "t_c_train=t_c_train,\n",
    "t_c_val=t_c_val)"
   ]
  },
  {
   "cell_type": "code",
   "execution_count": 43,
   "id": "fdec4948-dfc9-41ad-a1be-46652d0213d3",
   "metadata": {},
   "outputs": [
    {
     "data": {
      "text/plain": [
       "Parameter containing:\n",
       "tensor([[1.0004]], requires_grad=True)"
      ]
     },
     "execution_count": 43,
     "metadata": {},
     "output_type": "execute_result"
    }
   ],
   "source": [
    "linear_model.weight"
   ]
  },
  {
   "cell_type": "code",
   "execution_count": 44,
   "id": "ded277f4-8790-401a-9a66-278787a44b95",
   "metadata": {},
   "outputs": [
    {
     "data": {
      "text/plain": [
       "Parameter containing:\n",
       "tensor([-0.0023], requires_grad=True)"
      ]
     },
     "execution_count": 44,
     "metadata": {},
     "output_type": "execute_result"
    }
   ],
   "source": [
    "linear_model.bias"
   ]
  },
  {
   "cell_type": "markdown",
   "id": "5dbca632-e9a1-4830-8896-4fd068cf9db9",
   "metadata": {},
   "source": [
    "##### 6.3 Finally a Neural Network"
   ]
  },
  {
   "cell_type": "code",
   "execution_count": 53,
   "id": "c9e18b9c-0dcc-4a01-bf5a-17c6078b5340",
   "metadata": {},
   "outputs": [],
   "source": [
    "seq_model = nn.Sequential(\n",
    "nn.Linear(1,13), # linear model with 1. input and 13 out\n",
    "nn.Tanh(), # activation\n",
    "nn.Linear(13,1)) # 13 inputs to single output combined linearly "
   ]
  },
  {
   "cell_type": "code",
   "execution_count": 46,
   "id": "ec20475a-43d4-4e19-82f8-25748b5ec8f5",
   "metadata": {},
   "outputs": [
    {
     "data": {
      "text/plain": [
       "Sequential(\n",
       "  (0): Linear(in_features=1, out_features=13, bias=True)\n",
       "  (1): Tanh()\n",
       "  (2): Linear(in_features=13, out_features=1, bias=True)\n",
       ")"
      ]
     },
     "execution_count": 46,
     "metadata": {},
     "output_type": "execute_result"
    }
   ],
   "source": [
    "seq_model"
   ]
  },
  {
   "cell_type": "code",
   "execution_count": 47,
   "id": "b3e416ae-78ea-4dd4-b914-31fdef5815e2",
   "metadata": {},
   "outputs": [
    {
     "data": {
      "text/plain": [
       "[torch.Size([13, 1]), torch.Size([13]), torch.Size([1, 13]), torch.Size([1])]"
      ]
     },
     "execution_count": 47,
     "metadata": {},
     "output_type": "execute_result"
    }
   ],
   "source": [
    "[param.shape for param in seq_model.parameters()]"
   ]
  },
  {
   "cell_type": "code",
   "execution_count": 69,
   "id": "b00ec615-d276-4f9c-8b37-96ee8666be5b",
   "metadata": {},
   "outputs": [
    {
     "name": "stdout",
     "output_type": "stream",
     "text": [
      "Epoch 1, Training loss 0.0021, Validation loss 0.0027\n",
      "Epoch 2, Training loss 0.0021, Validation loss 0.0027\n",
      "Epoch 3, Training loss 0.0021, Validation loss 0.0027\n",
      "Epoch 4, Training loss 0.0021, Validation loss 0.0027\n",
      "Epoch 1000, Training loss 0.0021, Validation loss 0.0027\n",
      "Epoch 2000, Training loss 0.0021, Validation loss 0.0027\n",
      "Epoch 3000, Training loss 0.0021, Validation loss 0.0027\n",
      "Epoch 4000, Training loss 0.0021, Validation loss 0.0027\n",
      "Epoch 5000, Training loss 0.0021, Validation loss 0.0027\n"
     ]
    }
   ],
   "source": [
    "optimizer = optim.SGD(seq_model.parameters(), lr=1e-5)\n",
    "\n",
    "training_loop(\n",
    "n_epochs=5000,\n",
    "optimizer=optimizer,\n",
    "model=seq_model,\n",
    "loss_fn=nn.MSELoss(),\n",
    "t_u_train=t_un_train,\n",
    "t_u_val=t_un_val,\n",
    "t_c_train=t_c_train,\n",
    "t_c_val=t_c_val)"
   ]
  },
  {
   "cell_type": "code",
   "execution_count": 70,
   "id": "c0ca65d2-08c2-445c-922a-7db1c66344c9",
   "metadata": {},
   "outputs": [
    {
     "name": "stdout",
     "output_type": "stream",
     "text": [
      "0.weight torch.Size([13, 1])\n",
      "0.bias torch.Size([13])\n",
      "2.weight torch.Size([1, 13])\n",
      "2.bias torch.Size([1])\n"
     ]
    }
   ],
   "source": [
    "for name,param in seq_model.named_parameters():\n",
    "    print(name, param.shape)"
   ]
  },
  {
   "cell_type": "markdown",
   "id": "0dbb1e88-2658-4154-ab1c-f5bb1241eca4",
   "metadata": {},
   "source": [
    "##### Visualizing the results"
   ]
  },
  {
   "cell_type": "code",
   "execution_count": 71,
   "id": "ed528bee-492b-415a-a3ee-ce2ffd089029",
   "metadata": {},
   "outputs": [],
   "source": [
    "import matplotlib.pyplot as plt"
   ]
  },
  {
   "cell_type": "code",
   "execution_count": 72,
   "id": "1071c1e5-2dee-4f9e-8bd3-8e514605e58e",
   "metadata": {},
   "outputs": [],
   "source": [
    "t_range = torch.arange(20., 90.).unsqueeze(1)\n",
    "#t_range"
   ]
  },
  {
   "cell_type": "code",
   "execution_count": 77,
   "id": "fa939087-ac28-4626-8098-b2c4eb7ec59b",
   "metadata": {},
   "outputs": [
    {
     "data": {
      "text/plain": [
       "[<matplotlib.lines.Line2D at 0x7f6a800d3320>]"
      ]
     },
     "execution_count": 77,
     "metadata": {},
     "output_type": "execute_result"
    },
    {
     "data": {
      "image/png": "[encoded data removed]",
      "text/plain": [
       "<Figure size 432x288 with 1 Axes>"
      ]
     },
     "metadata": {
      "needs_background": "light"
     },
     "output_type": "display_data"
    }
   ],
   "source": [
    "plt.plot(t_u.numpy(), 0.1*t_u.numpy(), 'o')\n",
    "plt.plot(t_range.numpy(), seq_model(0.1*t_range).detach().numpy(), 'c-')\n",
    "plt.plot(t_u.numpy(), seq_model(0.1 * t_u).detach().numpy(),'kx')"
   ]
  },
  {
   "cell_type": "code",
   "execution_count": null,
   "id": "0660e9a4-96a2-44d1-9ba4-8b5e16c824c4",
   "metadata": {},
   "outputs": [],
   "source": []
  },
  {
   "cell_type": "code",
   "execution_count": null,
   "id": "44e8fbf8-2b41-4b11-becc-eea959d31288",
   "metadata": {},
   "outputs": [],
   "source": []
  }
 ],
 "metadata": {
  "kernelspec": {
   "display_name": "k_dlwpt",
   "language": "python",
   "name": "conda-env-k_dlwpt-py"
  },
  "language_info": {
   "codemirror_mode": {
    "name": "ipython",
    "version": 3
   },
   "file_extension": ".py",
   "mimetype": "text/x-python",
   "name": "python",
   "nbconvert_exporter": "python",
   "pygments_lexer": "ipython3",
   "version": "3.6.8"
  }
 },
 "nbformat": 4,
 "nbformat_minor": 5
}

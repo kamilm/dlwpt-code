{
 "cells": [
  {
   "cell_type": "markdown",
   "id": "514ee66e-2fda-4a5d-b7e9-372018b1f062",
   "metadata": {},
   "source": [
    "# Chapter 7 - Notes"
   ]
  },
  {
   "cell_type": "markdown",
   "id": "f93ebaa9-8f23-49aa-9d26-df42355c652a",
   "metadata": {},
   "source": [
    "#### 7.1"
   ]
  },
  {
   "cell_type": "code",
   "execution_count": 1,
   "id": "a0f0f6a7-b0aa-4437-aaf0-55482d055b84",
   "metadata": {},
   "outputs": [
    {
     "data": {
      "text/plain": [
       "<torch._C.Generator at 0x7fe9f00a8cf0>"
      ]
     },
     "execution_count": 1,
     "metadata": {},
     "output_type": "execute_result"
    }
   ],
   "source": [
    "%matplotlib inline\n",
    "from matplotlib import pyplot as plt\n",
    "import numpy as np\n",
    "import torch\n",
    "\n",
    "torch.set_printoptions(edgeitems=2, linewidth=75)\n",
    "torch.manual_seed(123)"
   ]
  },
  {
   "cell_type": "code",
   "execution_count": 2,
   "id": "274fe603-f1be-4536-80f4-0b6ba8fd2570",
   "metadata": {},
   "outputs": [],
   "source": [
    "from torchvision import datasets"
   ]
  },
  {
   "cell_type": "code",
   "execution_count": 3,
   "id": "bc65f9d3-e512-42e1-bda3-b78bd6f8af5c",
   "metadata": {},
   "outputs": [],
   "source": [
    "data_path = 'data_unversioned/chapter07/'"
   ]
  },
  {
   "cell_type": "code",
   "execution_count": 4,
   "id": "3f688509-62db-4250-b2bd-00c15af92e09",
   "metadata": {},
   "outputs": [
    {
     "name": "stdout",
     "output_type": "stream",
     "text": [
      "Files already downloaded and verified\n"
     ]
    }
   ],
   "source": [
    "cifar10 = datasets.CIFAR10(data_path, train=True, download=True)"
   ]
  },
  {
   "cell_type": "code",
   "execution_count": 5,
   "id": "98fa679e-17e9-49bc-9565-fadfcd4f5535",
   "metadata": {},
   "outputs": [
    {
     "name": "stdout",
     "output_type": "stream",
     "text": [
      "Files already downloaded and verified\n"
     ]
    }
   ],
   "source": [
    "cifar10_val = datasets.CIFAR10(data_path, train=False, download=True)"
   ]
  },
  {
   "cell_type": "code",
   "execution_count": 6,
   "id": "b9673235-93f5-43b3-9111-cc340c952d72",
   "metadata": {},
   "outputs": [],
   "source": [
    "# taken from another notebook\n",
    "class_names = ['airplane','automobile','bird','cat','deer',\n",
    "               'dog','frog','horse','ship','truck']"
   ]
  },
  {
   "cell_type": "code",
   "execution_count": 7,
   "id": "856e87fd-f4bd-47cc-9fdd-1eed0c1dd832",
   "metadata": {},
   "outputs": [
    {
     "data": {
      "text/plain": [
       "10000"
      ]
     },
     "execution_count": 7,
     "metadata": {},
     "output_type": "execute_result"
    }
   ],
   "source": [
    "len(cifar10_val)"
   ]
  },
  {
   "cell_type": "code",
   "execution_count": 8,
   "id": "469657d9-70ee-4f63-ab8d-9e71dac691a3",
   "metadata": {},
   "outputs": [
    {
     "data": {
      "text/plain": [
       "50000"
      ]
     },
     "execution_count": 8,
     "metadata": {},
     "output_type": "execute_result"
    }
   ],
   "source": [
    "len(cifar10)"
   ]
  },
  {
   "cell_type": "code",
   "execution_count": 9,
   "id": "b0947d5b-a97c-406d-9397-1eca213b7f54",
   "metadata": {},
   "outputs": [
    {
     "data": {
      "text/plain": [
       "(<PIL.Image.Image image mode=RGB size=32x32 at 0x7FE9EF434128>,\n",
       " 1,\n",
       " 'automobile')"
      ]
     },
     "execution_count": 9,
     "metadata": {},
     "output_type": "execute_result"
    }
   ],
   "source": [
    "img, label = cifar10[99]\n",
    "img, label, class_names[label]"
   ]
  },
  {
   "cell_type": "code",
   "execution_count": 10,
   "id": "fde00e3e-b435-4fd8-aa54-63c611a78f01",
   "metadata": {},
   "outputs": [
    {
     "data": {
      "image/png": "[encoded data removed]",
      "text/plain": [
       "<Figure size 432x288 with 1 Axes>"
      ]
     },
     "metadata": {
      "needs_background": "light"
     },
     "output_type": "display_data"
    }
   ],
   "source": [
    "plt.imshow(img)\n",
    "plt.show()"
   ]
  },
  {
   "cell_type": "code",
   "execution_count": 11,
   "id": "bf872e7f-87a8-4c5d-8cce-717e2ece3d47",
   "metadata": {},
   "outputs": [],
   "source": [
    "from torchvision import transforms"
   ]
  },
  {
   "cell_type": "code",
   "execution_count": 12,
   "id": "b047613f-6580-4351-aa1e-19036d8d52c9",
   "metadata": {},
   "outputs": [
    {
     "data": {
      "text/plain": [
       "['CenterCrop',\n",
       " 'ColorJitter',\n",
       " 'Compose',\n",
       " 'FiveCrop',\n",
       " 'Grayscale',\n",
       " 'Lambda',\n",
       " 'LinearTransformation',\n",
       " 'Normalize',\n",
       " 'Pad',\n",
       " 'RandomAffine',\n",
       " 'RandomApply',\n",
       " 'RandomChoice',\n",
       " 'RandomCrop',\n",
       " 'RandomErasing',\n",
       " 'RandomGrayscale',\n",
       " 'RandomHorizontalFlip',\n",
       " 'RandomOrder',\n",
       " 'RandomPerspective',\n",
       " 'RandomResizedCrop',\n",
       " 'RandomRotation',\n",
       " 'RandomSizedCrop',\n",
       " 'RandomVerticalFlip',\n",
       " 'Resize',\n",
       " 'Scale',\n",
       " 'TenCrop',\n",
       " 'ToPILImage',\n",
       " 'ToTensor',\n",
       " '__builtins__',\n",
       " '__cached__',\n",
       " '__doc__',\n",
       " '__file__',\n",
       " '__loader__',\n",
       " '__name__',\n",
       " '__package__',\n",
       " '__path__',\n",
       " '__spec__',\n",
       " 'functional',\n",
       " 'transforms']"
      ]
     },
     "execution_count": 12,
     "metadata": {},
     "output_type": "execute_result"
    }
   ],
   "source": [
    "dir(transforms)"
   ]
  },
  {
   "cell_type": "code",
   "execution_count": 13,
   "id": "ab4dc730-9fa3-48a5-8e9d-762dd89b141f",
   "metadata": {},
   "outputs": [],
   "source": [
    "to_tensor = transforms.ToTensor()"
   ]
  },
  {
   "cell_type": "code",
   "execution_count": 14,
   "id": "223a1f74-9bb6-414a-aeed-35792faae6ff",
   "metadata": {},
   "outputs": [],
   "source": [
    "img_t = to_tensor(img)"
   ]
  },
  {
   "cell_type": "code",
   "execution_count": 15,
   "id": "f7c124af-93d2-4c33-8a97-b843d2830a03",
   "metadata": {},
   "outputs": [
    {
     "data": {
      "text/plain": [
       "torch.Size([3, 32, 32])"
      ]
     },
     "execution_count": 15,
     "metadata": {},
     "output_type": "execute_result"
    }
   ],
   "source": [
    "img_t.shape"
   ]
  },
  {
   "cell_type": "code",
   "execution_count": 16,
   "id": "fb043bac-a021-42a2-89a0-0f451453c12e",
   "metadata": {},
   "outputs": [
    {
     "data": {
      "text/plain": [
       "(tensor(0.), tensor(1.))"
      ]
     },
     "execution_count": 16,
     "metadata": {},
     "output_type": "execute_result"
    }
   ],
   "source": [
    "img_t.min(), img_t.max()"
   ]
  },
  {
   "cell_type": "code",
   "execution_count": 17,
   "id": "697b5989-a28c-426a-acff-65890a19139a",
   "metadata": {},
   "outputs": [
    {
     "data": {
      "image/png": "[encoded data removed]",
      "text/plain": [
       "<Figure size 432x288 with 1 Axes>"
      ]
     },
     "metadata": {
      "needs_background": "light"
     },
     "output_type": "display_data"
    }
   ],
   "source": [
    "plt.imshow(img_t.permute(1,2,0)) # permute changes the order of the layers: index=1 to 0 position, index=2 to 1 position and index=0 to 2 position\n",
    "plt.show()"
   ]
  },
  {
   "cell_type": "code",
   "execution_count": 18,
   "id": "3ab7dcc9-c4c0-447f-9d4b-74b2b99acf30",
   "metadata": {},
   "outputs": [
    {
     "data": {
      "text/plain": [
       "torch.Size([3, 32, 32, 50000])"
      ]
     },
     "execution_count": 18,
     "metadata": {},
     "output_type": "execute_result"
    }
   ],
   "source": [
    "# normalization\n",
    "\n",
    "imgs = torch.stack([to_tensor(img_t) for img_t, _ in cifar10], dim=3) # this should add an additional layer: 3chan, rows, widths, images\n",
    "imgs.shape"
   ]
  },
  {
   "cell_type": "code",
   "execution_count": 19,
   "id": "0fe2f821-b129-49ed-b8fc-1e9b8cf546e4",
   "metadata": {},
   "outputs": [
    {
     "data": {
      "text/plain": [
       "torch.Size([3, 51200000])"
      ]
     },
     "execution_count": 19,
     "metadata": {},
     "output_type": "execute_result"
    }
   ],
   "source": [
    "imgs.view(3,-1).shape"
   ]
  },
  {
   "cell_type": "code",
   "execution_count": 20,
   "id": "283026db-1a6a-42e1-99fe-389061f6652e",
   "metadata": {},
   "outputs": [
    {
     "data": {
      "text/plain": [
       "array([0.49147   , 0.48226798, 0.44678035], dtype=float32)"
      ]
     },
     "execution_count": 20,
     "metadata": {},
     "output_type": "execute_result"
    }
   ],
   "source": [
    "means_np = imgs.view(3,-1).mean(dim=1).numpy() # keep the first dimension\n",
    "means_np"
   ]
  },
  {
   "cell_type": "code",
   "execution_count": 21,
   "id": "27f9bc5c-0e1b-4afc-9838-95cfbac82d4a",
   "metadata": {},
   "outputs": [
    {
     "data": {
      "text/plain": [
       "array([0.24703224, 0.24348514, 0.26158786], dtype=float32)"
      ]
     },
     "execution_count": 21,
     "metadata": {},
     "output_type": "execute_result"
    }
   ],
   "source": [
    "stds_np = imgs.view(3,-1).std(dim=1).numpy() # keep the first dimension\n",
    "stds_np"
   ]
  },
  {
   "cell_type": "code",
   "execution_count": 22,
   "id": "97e39d61-d4b0-4937-b740-e5052007a447",
   "metadata": {},
   "outputs": [
    {
     "data": {
      "text/plain": [
       "Normalize(mean=[0.49147    0.48226798 0.44678035], std=[0.24703224 0.24348514 0.26158786])"
      ]
     },
     "execution_count": 22,
     "metadata": {},
     "output_type": "execute_result"
    }
   ],
   "source": [
    "# now we can normalize our images\n",
    "transforms.Normalize(mean=means_np, std=stds_np)"
   ]
  },
  {
   "cell_type": "code",
   "execution_count": 23,
   "id": "feabb628-ff49-4fc5-b397-e24661d053cd",
   "metadata": {},
   "outputs": [
    {
     "name": "stdout",
     "output_type": "stream",
     "text": [
      "Files already downloaded and verified\n",
      "Files already downloaded and verified\n"
     ]
    }
   ],
   "source": [
    "# we can combine everything: downloading, converting to tensors, normalizing in a single command\n",
    "transformed_cifar10 = datasets.CIFAR10(data_path, train=True, download=True,\n",
    "                                    transform=transforms.Compose([transforms.ToTensor(),\n",
    "                                                                transforms.Normalize(mean=means_np, std=stds_np)]))\n",
    "\n",
    "transformed_cifar10_val = datasets.CIFAR10(data_path, train=False, download=True,\n",
    "                                    transform=transforms.Compose([transforms.ToTensor(),\n",
    "                                                                transforms.Normalize(mean=means_np, std=stds_np)]))"
   ]
  },
  {
   "cell_type": "code",
   "execution_count": 24,
   "id": "fa3030ea-0012-47ed-ab52-13e210560b12",
   "metadata": {},
   "outputs": [
    {
     "name": "stderr",
     "output_type": "stream",
     "text": [
      "Clipping input data to the valid range for imshow with RGB data ([0..1] for floats or [0..255] for integers).\n"
     ]
    },
    {
     "data": {
      "image/png": "[encoded data removed]",
      "text/plain": [
       "<Figure size 432x288 with 1 Axes>"
      ]
     },
     "metadata": {
      "needs_background": "light"
     },
     "output_type": "display_data"
    }
   ],
   "source": [
    "img_t, _ = transformed_cifar10[99]\n",
    "plt.imshow(img_t.permute(1,2,0))\n",
    "plt.show()"
   ]
  },
  {
   "cell_type": "markdown",
   "id": "a139cdb1-3c45-40c3-aed7-4287f42b786d",
   "metadata": {},
   "source": [
    "#### 7.2 Birds from Planes"
   ]
  },
  {
   "cell_type": "code",
   "execution_count": 25,
   "id": "8a56b301-6205-416f-bf98-377a7cdb82d1",
   "metadata": {},
   "outputs": [
    {
     "data": {
      "text/plain": [
       "10000"
      ]
     },
     "execution_count": 25,
     "metadata": {},
     "output_type": "execute_result"
    }
   ],
   "source": [
    "# get only birds and planes\n",
    "label_map = {0:0, 2:1}\n",
    "class_names = ['airplane', 'bird']\n",
    "\n",
    "# build a list of tuples with (image, class_name)\n",
    "cifar2 = [(img, label_map[label]) for img, label in transformed_cifar10 if label in label_map.keys()]\n",
    "cifar2_val = [(img, label_map[label]) for img, label in transformed_cifar10_val if label in label_map.keys()]\n",
    "len(cifar2)"
   ]
  },
  {
   "cell_type": "code",
   "execution_count": 26,
   "id": "69403d83-9897-4d18-ba73-21eaa417ab73",
   "metadata": {},
   "outputs": [],
   "source": [
    "# build a simple model\n",
    "import torch.nn as nn\n",
    "\n",
    "n_out = 2 # number of classes\n",
    "\n",
    "model = nn.Sequential( \n",
    "    nn.Linear( 3072, 512), # 3color-channels x 32 pixels h x 32 pixels w\n",
    "    nn.Tanh(), # activation\n",
    "    nn.Linear( 512, n_out) # inout of previous layer, output is number of classes\n",
    ")"
   ]
  },
  {
   "cell_type": "code",
   "execution_count": 27,
   "id": "8def0d7d-47cc-4004-8e91-340819330a05",
   "metadata": {},
   "outputs": [],
   "source": [
    "# add softmax to our model\n",
    "n_out = 2 # number of classes\n",
    "\n",
    "model = nn.Sequential( \n",
    "    nn.Linear( 3072, 512), # 3color-channels x 32 pixels h x 32 pixels w\n",
    "    nn.Tanh(), # activation\n",
    "    nn.Linear( 512, n_out), # inout of previous layer, output is number of classes\n",
    "    nn.Softmax(dim=1), # constrain the output to probabilities\n",
    ")"
   ]
  },
  {
   "cell_type": "markdown",
   "id": "f83b220c-4c7b-4ee3-8e86-2ed168c10788",
   "metadata": {},
   "source": [
    "##### try it all out"
   ]
  },
  {
   "cell_type": "code",
   "execution_count": 28,
   "id": "cfe7207e-7b90-46fa-b709-894525075a89",
   "metadata": {},
   "outputs": [
    {
     "data": {
      "text/plain": [
       "torch.Tensor"
      ]
     },
     "execution_count": 28,
     "metadata": {},
     "output_type": "execute_result"
    }
   ],
   "source": [
    "type(cifar2[0][0])"
   ]
  },
  {
   "cell_type": "code",
   "execution_count": 29,
   "id": "037698b9-9ed4-43ad-9f6d-b14a2a19952f",
   "metadata": {},
   "outputs": [
    {
     "name": "stderr",
     "output_type": "stream",
     "text": [
      "Clipping input data to the valid range for imshow with RGB data ([0..1] for floats or [0..255] for integers).\n"
     ]
    },
    {
     "data": {
      "image/png": "[encoded data removed]",
      "text/plain": [
       "<Figure size 432x288 with 1 Axes>"
      ]
     },
     "metadata": {
      "needs_background": "light"
     },
     "output_type": "display_data"
    }
   ],
   "source": [
    "img, _ = cifar2[0]\n",
    "plt.imshow(img.permute(1,2,0))\n",
    "plt.show()"
   ]
  },
  {
   "cell_type": "code",
   "execution_count": 30,
   "id": "609e3dba-54c6-480d-a0dd-fe00f89fa2c4",
   "metadata": {},
   "outputs": [
    {
     "data": {
      "text/plain": [
       "torch.Size([3, 32, 32])"
      ]
     },
     "execution_count": 30,
     "metadata": {},
     "output_type": "execute_result"
    }
   ],
   "source": [
    "img.shape"
   ]
  },
  {
   "cell_type": "code",
   "execution_count": 31,
   "id": "d6480ca8-2a4d-433e-9933-e80f90414e31",
   "metadata": {},
   "outputs": [
    {
     "data": {
      "text/plain": [
       "torch.Size([1, 3072])"
      ]
     },
     "execution_count": 31,
     "metadata": {},
     "output_type": "execute_result"
    }
   ],
   "source": [
    "img_batch = img.view(-1).unsqueeze(0)\n",
    "img_batch.shape"
   ]
  },
  {
   "cell_type": "code",
   "execution_count": 32,
   "id": "58fdd444-d3c9-48d2-a377-ccbfcb0c6ce3",
   "metadata": {},
   "outputs": [
    {
     "data": {
      "text/plain": [
       "tensor([[0.4784, 0.5216]], grad_fn=<SoftmaxBackward>)"
      ]
     },
     "execution_count": 32,
     "metadata": {},
     "output_type": "execute_result"
    }
   ],
   "source": [
    "out = model(img_batch)\n",
    "out"
   ]
  },
  {
   "cell_type": "code",
   "execution_count": 33,
   "id": "ff4d41f6-939f-433b-a91e-8957aa29f74e",
   "metadata": {},
   "outputs": [
    {
     "data": {
      "text/plain": [
       "tensor(1., grad_fn=<SumBackward0>)"
      ]
     },
     "execution_count": 33,
     "metadata": {},
     "output_type": "execute_result"
    }
   ],
   "source": [
    "out.sum()"
   ]
  },
  {
   "cell_type": "code",
   "execution_count": 34,
   "id": "b142282e-3cc9-4ec4-a35f-df469dabf044",
   "metadata": {},
   "outputs": [],
   "source": [
    "# rebuild model with logsoftmax\n",
    "\n",
    "model = nn.Sequential(\n",
    "    nn.Linear(3072, 512),\n",
    "    nn.Tanh(),\n",
    "    nn.Linear(512, 2),\n",
    "    nn.LogSoftmax(dim=1))\n",
    "\n",
    "loss = nn.NLLLoss()"
   ]
  },
  {
   "cell_type": "code",
   "execution_count": 35,
   "id": "6a70d31b-e0d3-4910-ba73-217191bb2cf4",
   "metadata": {},
   "outputs": [
    {
     "data": {
      "text/plain": [
       "tensor([[-0.9210, -0.5077]], grad_fn=<LogSoftmaxBackward>)"
      ]
     },
     "execution_count": 35,
     "metadata": {},
     "output_type": "execute_result"
    }
   ],
   "source": [
    "img, label = cifar2[0]\n",
    "\n",
    "out = model(img.view(-1).unsqueeze(0))\n",
    "out"
   ]
  },
  {
   "cell_type": "code",
   "execution_count": 36,
   "id": "e41ae4f5-065c-41a5-9d20-8773eef446b9",
   "metadata": {},
   "outputs": [
    {
     "data": {
      "text/plain": [
       "tensor(0.5077, grad_fn=<NllLossBackward>)"
      ]
     },
     "execution_count": 36,
     "metadata": {},
     "output_type": "execute_result"
    }
   ],
   "source": [
    "loss(out, torch.tensor([label]))"
   ]
  },
  {
   "cell_type": "markdown",
   "id": "20b5e142-62ab-4108-9084-c42aac1455c3",
   "metadata": {},
   "source": [
    "##### 7.2.6 TRAINING"
   ]
  },
  {
   "cell_type": "code",
   "execution_count": 37,
   "id": "dcbb3ff6-0e57-4960-9eab-9a55a0f85e89",
   "metadata": {},
   "outputs": [],
   "source": [
    "model = nn.Sequential(\n",
    "    nn.Linear(3072, 512),\n",
    "    nn.Tanh(),\n",
    "    nn.Linear(512, 2),\n",
    "    nn.LogSoftmax(dim=1))"
   ]
  },
  {
   "cell_type": "code",
   "execution_count": 38,
   "id": "fc96d8d5-c874-4179-a2af-2e1f75085815",
   "metadata": {},
   "outputs": [],
   "source": [
    "learning_rate = 1e-2\n",
    "\n",
    "n_epochs = 10"
   ]
  },
  {
   "cell_type": "code",
   "execution_count": 39,
   "id": "135a3019-f0f7-46cd-9b3c-c473d811e766",
   "metadata": {},
   "outputs": [],
   "source": [
    "import torch.optim as optim"
   ]
  },
  {
   "cell_type": "code",
   "execution_count": 40,
   "id": "81aad317-b001-4c05-bdcd-6f15bcf0a69c",
   "metadata": {},
   "outputs": [],
   "source": [
    "optimizer = optim.SGD(model.parameters(), lr=learning_rate)"
   ]
  },
  {
   "cell_type": "code",
   "execution_count": 41,
   "id": "b9dc821f-2c35-43be-bb42-ccfe87212a07",
   "metadata": {},
   "outputs": [],
   "source": [
    "loss_fn = nn.NLLLoss()"
   ]
  },
  {
   "cell_type": "code",
   "execution_count": 42,
   "id": "52aace1a-3132-43ef-8728-1901ba80b650",
   "metadata": {},
   "outputs": [
    {
     "name": "stdout",
     "output_type": "stream",
     "text": [
      "Epoch: 0, Loss: 3.620951\n",
      "Epoch: 1, Loss: 8.930984\n",
      "Epoch: 2, Loss: 3.748525\n",
      "Epoch: 3, Loss: 9.138787\n",
      "Epoch: 4, Loss: 8.081260\n",
      "Epoch: 5, Loss: 8.360019\n",
      "Epoch: 6, Loss: 5.469048\n",
      "Epoch: 7, Loss: 4.914627\n",
      "Epoch: 8, Loss: 0.491294\n",
      "Epoch: 9, Loss: 8.249778\n"
     ]
    }
   ],
   "source": [
    "# training loop \n",
    "for epoch in range(n_epochs):\n",
    "    for img, label in cifar2:\n",
    "        out = model(img.view(-1).unsqueeze(0))\n",
    "        loss = loss_fn(out, torch.tensor([label]))\n",
    "        \n",
    "        optimizer.zero_grad()\n",
    "        loss.backward()\n",
    "        optimizer.step()\n",
    "    \n",
    "    print(\"Epoch: %d, Loss: %f\" % (epoch, float(loss)))"
   ]
  },
  {
   "cell_type": "code",
   "execution_count": 43,
   "id": "94498730-0dba-4d21-9d17-e26102d9eeec",
   "metadata": {},
   "outputs": [],
   "source": [
    "# training loop with dataloader and minibatching\n",
    "\n",
    "train_loader = torch.utils.data.DataLoader(cifar2, \n",
    "                                          batch_size=64,\n",
    "                                          shuffle=True)"
   ]
  },
  {
   "cell_type": "code",
   "execution_count": 44,
   "id": "1433197c-bcfa-4afb-9fa7-dd2908a7bcdf",
   "metadata": {},
   "outputs": [],
   "source": [
    "model = nn.Sequential(\n",
    "    nn.Linear(3072, 512),\n",
    "    nn.Tanh(),\n",
    "    nn.Linear(512, 2),\n",
    "    nn.LogSoftmax(dim=1))"
   ]
  },
  {
   "cell_type": "code",
   "execution_count": 45,
   "id": "98423c43-f772-462f-b32f-c9565d08852f",
   "metadata": {},
   "outputs": [],
   "source": [
    "learning_rate = 1e-2\n",
    "\n",
    "n_epochs = 100"
   ]
  },
  {
   "cell_type": "code",
   "execution_count": 46,
   "id": "c748b621-d34f-44ba-a1c9-51e75721f475",
   "metadata": {},
   "outputs": [],
   "source": [
    "optimizer = optim.SGD(model.parameters(), lr=learning_rate)"
   ]
  },
  {
   "cell_type": "code",
   "execution_count": 47,
   "id": "8e1fca87-1c3b-4f78-982b-8e0c1eb56366",
   "metadata": {},
   "outputs": [],
   "source": [
    "loss_fn = nn.NLLLoss()"
   ]
  },
  {
   "cell_type": "code",
   "execution_count": 48,
   "id": "19c9286a-3df5-42fc-a22f-4bf9be2b73aa",
   "metadata": {},
   "outputs": [
    {
     "name": "stdout",
     "output_type": "stream",
     "text": [
      "Epoch: 0, Loss: 0.481771\n",
      "Epoch: 1, Loss: 0.501275\n",
      "Epoch: 2, Loss: 0.390120\n",
      "Epoch: 3, Loss: 0.386306\n",
      "Epoch: 4, Loss: 0.282170\n",
      "Epoch: 5, Loss: 0.464191\n",
      "Epoch: 6, Loss: 0.247053\n",
      "Epoch: 7, Loss: 0.129157\n",
      "Epoch: 8, Loss: 0.727424\n",
      "Epoch: 9, Loss: 0.633602\n",
      "Epoch: 10, Loss: 0.197042\n",
      "Epoch: 11, Loss: 0.264321\n",
      "Epoch: 12, Loss: 0.609003\n",
      "Epoch: 13, Loss: 0.313753\n",
      "Epoch: 14, Loss: 0.511905\n",
      "Epoch: 15, Loss: 0.529331\n",
      "Epoch: 16, Loss: 0.330996\n",
      "Epoch: 17, Loss: 0.259470\n",
      "Epoch: 18, Loss: 0.430758\n",
      "Epoch: 19, Loss: 0.215577\n",
      "Epoch: 20, Loss: 0.186790\n",
      "Epoch: 21, Loss: 0.223844\n",
      "Epoch: 22, Loss: 0.277760\n",
      "Epoch: 23, Loss: 0.231305\n",
      "Epoch: 24, Loss: 0.268665\n",
      "Epoch: 25, Loss: 0.313870\n",
      "Epoch: 26, Loss: 0.405688\n",
      "Epoch: 27, Loss: 0.156327\n",
      "Epoch: 28, Loss: 0.309119\n",
      "Epoch: 29, Loss: 0.368717\n",
      "Epoch: 30, Loss: 0.275559\n",
      "Epoch: 31, Loss: 0.056792\n",
      "Epoch: 32, Loss: 0.228569\n",
      "Epoch: 33, Loss: 0.237882\n",
      "Epoch: 34, Loss: 0.119111\n",
      "Epoch: 35, Loss: 0.222088\n",
      "Epoch: 36, Loss: 0.302887\n",
      "Epoch: 37, Loss: 0.219976\n",
      "Epoch: 38, Loss: 0.087882\n",
      "Epoch: 39, Loss: 0.050719\n",
      "Epoch: 40, Loss: 0.122640\n",
      "Epoch: 41, Loss: 0.161473\n",
      "Epoch: 42, Loss: 0.072948\n",
      "Epoch: 43, Loss: 0.115788\n",
      "Epoch: 44, Loss: 0.056136\n",
      "Epoch: 45, Loss: 0.167811\n",
      "Epoch: 46, Loss: 0.093316\n",
      "Epoch: 47, Loss: 0.058554\n",
      "Epoch: 48, Loss: 0.110268\n",
      "Epoch: 49, Loss: 0.036172\n",
      "Epoch: 50, Loss: 0.108986\n",
      "Epoch: 51, Loss: 0.248453\n",
      "Epoch: 52, Loss: 0.143438\n",
      "Epoch: 53, Loss: 0.190428\n",
      "Epoch: 54, Loss: 0.097233\n",
      "Epoch: 55, Loss: 0.061965\n",
      "Epoch: 56, Loss: 0.041059\n",
      "Epoch: 57, Loss: 0.029629\n",
      "Epoch: 58, Loss: 0.108245\n",
      "Epoch: 59, Loss: 0.060606\n",
      "Epoch: 60, Loss: 0.105874\n",
      "Epoch: 61, Loss: 0.030591\n",
      "Epoch: 62, Loss: 0.048913\n",
      "Epoch: 63, Loss: 0.036611\n",
      "Epoch: 64, Loss: 0.014709\n",
      "Epoch: 65, Loss: 0.015344\n",
      "Epoch: 66, Loss: 0.018813\n",
      "Epoch: 67, Loss: 0.044923\n",
      "Epoch: 68, Loss: 0.072091\n",
      "Epoch: 69, Loss: 0.038664\n",
      "Epoch: 70, Loss: 0.022781\n",
      "Epoch: 71, Loss: 0.024654\n",
      "Epoch: 72, Loss: 0.023819\n",
      "Epoch: 73, Loss: 0.031698\n",
      "Epoch: 74, Loss: 0.043545\n",
      "Epoch: 75, Loss: 0.016557\n",
      "Epoch: 76, Loss: 0.041216\n",
      "Epoch: 77, Loss: 0.045284\n",
      "Epoch: 78, Loss: 0.033785\n",
      "Epoch: 79, Loss: 0.022794\n",
      "Epoch: 80, Loss: 0.021580\n",
      "Epoch: 81, Loss: 0.019293\n",
      "Epoch: 82, Loss: 0.019788\n",
      "Epoch: 83, Loss: 0.031733\n",
      "Epoch: 84, Loss: 0.011183\n",
      "Epoch: 85, Loss: 0.019757\n",
      "Epoch: 86, Loss: 0.033610\n",
      "Epoch: 87, Loss: 0.013708\n",
      "Epoch: 88, Loss: 0.014674\n",
      "Epoch: 89, Loss: 0.017112\n",
      "Epoch: 90, Loss: 0.010825\n",
      "Epoch: 91, Loss: 0.038412\n",
      "Epoch: 92, Loss: 0.004992\n",
      "Epoch: 93, Loss: 0.006473\n",
      "Epoch: 94, Loss: 0.010366\n",
      "Epoch: 95, Loss: 0.013101\n",
      "Epoch: 96, Loss: 0.011861\n",
      "Epoch: 97, Loss: 0.016499\n",
      "Epoch: 98, Loss: 0.006146\n",
      "Epoch: 99, Loss: 0.026224\n"
     ]
    }
   ],
   "source": [
    "# training loop \n",
    "for epoch in range(n_epochs):\n",
    "    #for img, label in cifar2:\n",
    "    for imgs, labels in train_loader:\n",
    "        batch_size = imgs.shape[0]\n",
    "        outputs = model(imgs.view(batch_size, -1)) # keep the batch size shape and combine other dimensions, should be 64, 3072\n",
    "        loss = loss_fn(outputs, labels)\n",
    "        \n",
    "        optimizer.zero_grad()\n",
    "        loss.backward()\n",
    "        optimizer.step()\n",
    "    \n",
    "    print(\"Epoch: %d, Loss: %f\" % (epoch, float(loss)))"
   ]
  },
  {
   "cell_type": "code",
   "execution_count": 49,
   "id": "89a1101a-dff7-455d-83cb-5a113bd87e53",
   "metadata": {},
   "outputs": [
    {
     "data": {
      "text/plain": [
       "16"
      ]
     },
     "execution_count": 49,
     "metadata": {},
     "output_type": "execute_result"
    }
   ],
   "source": [
    "batch_size"
   ]
  },
  {
   "cell_type": "code",
   "execution_count": 50,
   "id": "322d584c-e4ea-484c-8104-dac98ae2b97c",
   "metadata": {},
   "outputs": [
    {
     "name": "stdout",
     "output_type": "stream",
     "text": [
      "Accuracy: 0.822000\n"
     ]
    }
   ],
   "source": [
    "# evaluation of model\n",
    "\n",
    "val_loader = torch.utils.data.DataLoader(cifar2_val, \n",
    "                                        batch_size=64,\n",
    "                                        shuffle=False)\n",
    "\n",
    "correct, total = 0, 0\n",
    "\n",
    "with torch.no_grad(): # do not update the gradient graph\n",
    "    for imgs, labels in val_loader:\n",
    "        batch_size = imgs.shape[0]\n",
    "        outputs = model(imgs.view(batch_size, -1))\n",
    "        _ , predicted = torch.max(outputs,dim=1) # get the index of the predicted value, which is also the class label\n",
    "        total += predicted.shape[0]\n",
    "        correct += int((predicted == labels).sum())\n",
    "\n",
    "print(\"Accuracy: %f\" % (correct/total))"
   ]
  },
  {
   "cell_type": "markdown",
   "id": "17ea4830-6a10-46e4-a2e6-59c546a88f72",
   "metadata": {},
   "source": [
    "##### Update the model capacity/complexity"
   ]
  },
  {
   "cell_type": "code",
   "execution_count": 51,
   "id": "f72d29ac-9f7d-4f23-8602-5ae02f76a219",
   "metadata": {},
   "outputs": [],
   "source": [
    "# training loop with dataloader and minibatching\n",
    "\n",
    "train_loader = torch.utils.data.DataLoader(cifar2, \n",
    "                                          batch_size=64,\n",
    "                                          shuffle=True)"
   ]
  },
  {
   "cell_type": "code",
   "execution_count": 52,
   "id": "3d3cec7e-e027-4ad3-a037-b77d5e0e8648",
   "metadata": {},
   "outputs": [],
   "source": [
    "model = nn.Sequential(\n",
    "    nn.Linear(3072, 1024),\n",
    "    nn.Tanh(),\n",
    "    nn.Linear(1024, 512),\n",
    "    nn.Tanh(),\n",
    "    nn.Linear(512, 128),\n",
    "    nn.Tanh(),\n",
    "    nn.Linear(128, 2),\n",
    ") # remove nn.LogSoftMax --> this will be combined with NLLLoss to form nn.CrossEntropyLoss"
   ]
  },
  {
   "cell_type": "code",
   "execution_count": 53,
   "id": "44737903-eccb-4e76-a850-96be34c87aaa",
   "metadata": {},
   "outputs": [],
   "source": [
    "learning_rate = 1e-2\n",
    "\n",
    "n_epochs = 100"
   ]
  },
  {
   "cell_type": "code",
   "execution_count": 54,
   "id": "6358f8f8-83e4-45fc-ad78-14ceb7d92234",
   "metadata": {},
   "outputs": [],
   "source": [
    "optimizer = optim.SGD(model.parameters(), lr=learning_rate)"
   ]
  },
  {
   "cell_type": "code",
   "execution_count": 55,
   "id": "37016efd-a570-4018-9295-85e094d71551",
   "metadata": {},
   "outputs": [],
   "source": [
    "loss_fn = nn.CrossEntropyLoss() # nn.NLLLoss() combined with nn.LogSoftMax()"
   ]
  },
  {
   "cell_type": "code",
   "execution_count": 56,
   "id": "ef44dbb4-5ab2-42ea-8837-feb931075b32",
   "metadata": {},
   "outputs": [
    {
     "name": "stdout",
     "output_type": "stream",
     "text": [
      "Epoch: 0, Loss: 0.643236\n",
      "Epoch: 1, Loss: 0.392587\n",
      "Epoch: 2, Loss: 0.483444\n",
      "Epoch: 3, Loss: 0.737715\n",
      "Epoch: 4, Loss: 0.332684\n",
      "Epoch: 5, Loss: 0.261721\n",
      "Epoch: 6, Loss: 0.482505\n",
      "Epoch: 7, Loss: 0.630774\n",
      "Epoch: 8, Loss: 0.353518\n",
      "Epoch: 9, Loss: 0.243654\n",
      "Epoch: 10, Loss: 0.414934\n",
      "Epoch: 11, Loss: 0.543494\n",
      "Epoch: 12, Loss: 0.168706\n",
      "Epoch: 13, Loss: 0.211954\n",
      "Epoch: 14, Loss: 0.302980\n",
      "Epoch: 15, Loss: 0.247812\n",
      "Epoch: 16, Loss: 0.258206\n",
      "Epoch: 17, Loss: 0.485112\n",
      "Epoch: 18, Loss: 0.444749\n",
      "Epoch: 19, Loss: 0.332640\n",
      "Epoch: 20, Loss: 0.840817\n",
      "Epoch: 21, Loss: 0.283946\n",
      "Epoch: 22, Loss: 0.287798\n",
      "Epoch: 23, Loss: 0.314825\n",
      "Epoch: 24, Loss: 0.225453\n",
      "Epoch: 25, Loss: 0.520396\n",
      "Epoch: 26, Loss: 0.201925\n",
      "Epoch: 27, Loss: 0.182423\n",
      "Epoch: 28, Loss: 0.302123\n",
      "Epoch: 29, Loss: 0.203261\n",
      "Epoch: 30, Loss: 0.194028\n",
      "Epoch: 31, Loss: 0.317247\n",
      "Epoch: 32, Loss: 0.126305\n",
      "Epoch: 33, Loss: 0.537732\n",
      "Epoch: 34, Loss: 0.236388\n",
      "Epoch: 35, Loss: 0.125635\n",
      "Epoch: 36, Loss: 0.017851\n",
      "Epoch: 37, Loss: 0.219599\n",
      "Epoch: 38, Loss: 0.220246\n",
      "Epoch: 39, Loss: 0.232644\n",
      "Epoch: 40, Loss: 0.018075\n",
      "Epoch: 41, Loss: 0.079640\n",
      "Epoch: 42, Loss: 0.064204\n",
      "Epoch: 43, Loss: 0.078366\n",
      "Epoch: 44, Loss: 0.023402\n",
      "Epoch: 45, Loss: 0.098399\n",
      "Epoch: 46, Loss: 0.082855\n",
      "Epoch: 47, Loss: 0.019496\n",
      "Epoch: 48, Loss: 0.010446\n",
      "Epoch: 49, Loss: 0.095174\n",
      "Epoch: 50, Loss: 0.075351\n",
      "Epoch: 51, Loss: 0.176810\n",
      "Epoch: 52, Loss: 0.063317\n",
      "Epoch: 53, Loss: 0.028836\n",
      "Epoch: 54, Loss: 0.025357\n",
      "Epoch: 55, Loss: 0.019482\n",
      "Epoch: 56, Loss: 0.023928\n",
      "Epoch: 57, Loss: 0.424293\n",
      "Epoch: 58, Loss: 0.006689\n",
      "Epoch: 59, Loss: 0.003821\n",
      "Epoch: 60, Loss: 0.000925\n",
      "Epoch: 61, Loss: 0.007660\n",
      "Epoch: 62, Loss: 0.048415\n",
      "Epoch: 63, Loss: 0.582866\n",
      "Epoch: 64, Loss: 0.003996\n",
      "Epoch: 65, Loss: 0.003099\n",
      "Epoch: 66, Loss: 0.008407\n",
      "Epoch: 67, Loss: 0.021340\n",
      "Epoch: 68, Loss: 0.008682\n",
      "Epoch: 69, Loss: 0.018860\n",
      "Epoch: 70, Loss: 0.128631\n",
      "Epoch: 71, Loss: 0.001015\n",
      "Epoch: 72, Loss: 0.007250\n",
      "Epoch: 73, Loss: 0.002860\n",
      "Epoch: 74, Loss: 0.002505\n",
      "Epoch: 75, Loss: 0.007297\n",
      "Epoch: 76, Loss: 0.033300\n",
      "Epoch: 77, Loss: 0.011182\n",
      "Epoch: 78, Loss: 0.001815\n",
      "Epoch: 79, Loss: 0.005404\n",
      "Epoch: 80, Loss: 0.006285\n",
      "Epoch: 81, Loss: 0.029200\n",
      "Epoch: 82, Loss: 0.015267\n",
      "Epoch: 83, Loss: 0.000768\n",
      "Epoch: 84, Loss: 0.004247\n",
      "Epoch: 85, Loss: 0.001166\n",
      "Epoch: 86, Loss: 0.003280\n",
      "Epoch: 87, Loss: 0.011571\n",
      "Epoch: 88, Loss: 0.002526\n",
      "Epoch: 89, Loss: 0.001200\n",
      "Epoch: 90, Loss: 0.002485\n",
      "Epoch: 91, Loss: 0.000610\n",
      "Epoch: 92, Loss: 0.002738\n",
      "Epoch: 93, Loss: 0.001401\n",
      "Epoch: 94, Loss: 0.001530\n",
      "Epoch: 95, Loss: 0.000851\n",
      "Epoch: 96, Loss: 0.000176\n",
      "Epoch: 97, Loss: 0.000158\n",
      "Epoch: 98, Loss: 0.000969\n",
      "Epoch: 99, Loss: 0.000744\n"
     ]
    }
   ],
   "source": [
    "# training loop \n",
    "for epoch in range(n_epochs):\n",
    "    #for img, label in cifar2:\n",
    "    for imgs, labels in train_loader:\n",
    "        batch_size = imgs.shape[0]\n",
    "        outputs = model(imgs.view(batch_size, -1)) # keep the batch size shape and combine other dimensions, should be 64, 3072\n",
    "        loss = loss_fn(outputs, labels)\n",
    "        \n",
    "        optimizer.zero_grad()\n",
    "        loss.backward()\n",
    "        optimizer.step()\n",
    "    \n",
    "    print(\"Epoch: %d, Loss: %f\" % (epoch, float(loss)))"
   ]
  },
  {
   "cell_type": "code",
   "execution_count": 57,
   "id": "50df959b-4598-4beb-8b0d-502e4c50dae1",
   "metadata": {},
   "outputs": [
    {
     "name": "stdout",
     "output_type": "stream",
     "text": [
      "Accuracy: 0.814000\n"
     ]
    }
   ],
   "source": [
    "# evaluation of model\n",
    "\n",
    "val_loader = torch.utils.data.DataLoader(cifar2_val, \n",
    "                                        batch_size=64,\n",
    "                                        shuffle=False)\n",
    "\n",
    "correct, total = 0, 0\n",
    "\n",
    "with torch.no_grad(): # do not update the gradient graph\n",
    "    for imgs, labels in val_loader:\n",
    "        batch_size = imgs.shape[0]\n",
    "        outputs = model(imgs.view(batch_size, -1))\n",
    "        _ , predicted = torch.max(outputs,dim=1) # get the index of the predicted value, which is also the class label\n",
    "        total += predicted.shape[0]\n",
    "        correct += int((predicted == labels).sum())\n",
    "\n",
    "print(\"Accuracy: %f\" % (correct/total))"
   ]
  },
  {
   "cell_type": "code",
   "execution_count": 58,
   "id": "dd1401e3-3e60-41a4-a648-d481d1858885",
   "metadata": {},
   "outputs": [
    {
     "data": {
      "text/plain": [
       "(3737474, [3145728, 1024, 524288, 512, 65536, 128, 256, 2])"
      ]
     },
     "execution_count": 58,
     "metadata": {},
     "output_type": "execute_result"
    }
   ],
   "source": [
    "# Parameter count\n",
    "\n",
    "parameter_count = [p.numel() for p in model.parameters() if p.requires_grad == True]\n",
    "sum(parameter_count), parameter_count"
   ]
  },
  {
   "cell_type": "code",
   "execution_count": null,
   "id": "0c3bbca1-1ffd-40ab-a14d-dfd8b1b433e7",
   "metadata": {},
   "outputs": [],
   "source": []
  }
 ],
 "metadata": {
  "kernelspec": {
   "display_name": "k_dlwpt",
   "language": "python",
   "name": "conda-env-k_dlwpt-py"
  },
  "language_info": {
   "codemirror_mode": {
    "name": "ipython",
    "version": 3
   },
   "file_extension": ".py",
   "mimetype": "text/x-python",
   "name": "python",
   "nbconvert_exporter": "python",
   "pygments_lexer": "ipython3",
   "version": "3.6.8"
  }
 },
 "nbformat": 4,
 "nbformat_minor": 5
}

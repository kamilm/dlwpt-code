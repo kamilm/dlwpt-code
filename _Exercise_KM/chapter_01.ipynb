{
 "cells": [
  {
   "cell_type": "markdown",
   "id": "6841aabb-5ddd-480b-98f8-d99e96d7a119",
   "metadata": {
    "tags": []
   },
   "source": [
    "# Chapter 1 Exercise"
   ]
  },
  {
   "cell_type": "markdown",
   "id": "81d6a966-8f65-46ba-b452-140b2b2b78c5",
   "metadata": {},
   "source": [
    "1. a) python version"
   ]
  },
  {
   "cell_type": "code",
   "execution_count": 1,
   "id": "327fbe1a-bfc6-4799-ac73-c9b3300bb1d4",
   "metadata": {},
   "outputs": [
    {
     "data": {
      "text/plain": [
       "sys.version_info(major=3, minor=6, micro=8, releaselevel='final', serial=0)"
      ]
     },
     "execution_count": 1,
     "metadata": {},
     "output_type": "execute_result"
    }
   ],
   "source": [
    "import sys\n",
    "sys.version_info"
   ]
  },
  {
   "cell_type": "markdown",
   "id": "1155a2a4-a11c-463e-adc5-198d5b094b16",
   "metadata": {},
   "source": [
    "1. b) Torch and version"
   ]
  },
  {
   "cell_type": "code",
   "execution_count": 2,
   "id": "80e9ace0-e47e-4914-8bef-4ac85220919d",
   "metadata": {},
   "outputs": [],
   "source": [
    "import torch"
   ]
  },
  {
   "cell_type": "code",
   "execution_count": 3,
   "id": "bcaa853b-51a3-4936-b3c8-6b0022994f4c",
   "metadata": {},
   "outputs": [
    {
     "data": {
      "text/plain": [
       "'1.5.0'"
      ]
     },
     "execution_count": 3,
     "metadata": {},
     "output_type": "execute_result"
    }
   ],
   "source": [
    "torch.__version__"
   ]
  },
  {
   "cell_type": "markdown",
   "id": "bd176efd-c8b1-4240-af3f-0b1d0d016f51",
   "metadata": {},
   "source": [
    "1. c) CUDA Available?"
   ]
  },
  {
   "cell_type": "code",
   "execution_count": 4,
   "id": "b7ed979b-f0b5-4082-93a6-973a0f979f0b",
   "metadata": {},
   "outputs": [
    {
     "data": {
      "text/plain": [
       "True"
      ]
     },
     "execution_count": 4,
     "metadata": {},
     "output_type": "execute_result"
    }
   ],
   "source": [
    "torch.cuda.is_available()"
   ]
  },
  {
   "cell_type": "markdown",
   "id": "6df2b6c6-c885-411b-943a-241ea8673720",
   "metadata": {},
   "source": [
    "2. Jupyter"
   ]
  },
  {
   "cell_type": "markdown",
   "id": "24632d4b-f0dc-49a7-a08b-52f4dcf30028",
   "metadata": {},
   "source": [
    "Ok. All tests from within jupyter. :)"
   ]
  },
  {
   "cell_type": "code",
   "execution_count": null,
   "id": "06e8c73c-e7aa-404e-bee2-7a6046e87689",
   "metadata": {},
   "outputs": [],
   "source": []
  }
 ],
 "metadata": {
  "kernelspec": {
   "display_name": "k_dlwpt",
   "language": "python",
   "name": "conda-env-k_dlwpt-py"
  },
  "language_info": {
   "codemirror_mode": {
    "name": "ipython",
    "version": 3
   },
   "file_extension": ".py",
   "mimetype": "text/x-python",
   "name": "python",
   "nbconvert_exporter": "python",
   "pygments_lexer": "ipython3",
   "version": "3.6.8"
  }
 },
 "nbformat": 4,
 "nbformat_minor": 5
}

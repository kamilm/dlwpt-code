{
 "cells": [
  {
   "cell_type": "markdown",
   "id": "c0be4e39-5373-42f8-bad6-6c6d90901357",
   "metadata": {
    "tags": []
   },
   "source": [
    "# Chapter 3"
   ]
  },
  {
   "cell_type": "markdown",
   "id": "dddba35b-3d5c-44b3-a355-d4089bbfcd48",
   "metadata": {},
   "source": [
    "1. "
   ]
  },
  {
   "cell_type": "code",
   "execution_count": 2,
   "id": "3cef0be4-5cb7-4af4-80c2-1ce0fa9667c5",
   "metadata": {},
   "outputs": [],
   "source": [
    "import torch"
   ]
  },
  {
   "cell_type": "code",
   "execution_count": 3,
   "id": "bbab4a52-8f22-4e09-b20c-ceda2b474214",
   "metadata": {},
   "outputs": [
    {
     "data": {
      "text/plain": [
       "tensor([0, 1, 2, 3, 4, 5, 6, 7, 8])"
      ]
     },
     "execution_count": 3,
     "metadata": {},
     "output_type": "execute_result"
    }
   ],
   "source": [
    "pts = torch.tensor(list(range(9)))\n",
    "pts"
   ]
  },
  {
   "cell_type": "code",
   "execution_count": 10,
   "id": "441116d5-87b9-4ca2-947a-190a6de5ea3a",
   "metadata": {},
   "outputs": [
    {
     "data": {
      "text/plain": [
       " 0\n",
       " 1\n",
       " 2\n",
       " 3\n",
       " 4\n",
       " 5\n",
       " 6\n",
       " 7\n",
       " 8\n",
       "[torch.LongStorage of size 9]"
      ]
     },
     "execution_count": 10,
     "metadata": {},
     "output_type": "execute_result"
    }
   ],
   "source": [
    "pts.storage()"
   ]
  },
  {
   "cell_type": "code",
   "execution_count": 11,
   "id": "477e8958-cbf7-48c7-bc43-5db308b11b53",
   "metadata": {},
   "outputs": [
    {
     "data": {
      "text/plain": [
       "torch.Size([9])"
      ]
     },
     "execution_count": 11,
     "metadata": {},
     "output_type": "execute_result"
    }
   ],
   "source": [
    "pts.shape"
   ]
  },
  {
   "cell_type": "code",
   "execution_count": 12,
   "id": "555702b2-dbc9-4e31-ba24-66c7b8c55ea6",
   "metadata": {},
   "outputs": [
    {
     "data": {
      "text/plain": [
       "(1,)"
      ]
     },
     "execution_count": 12,
     "metadata": {},
     "output_type": "execute_result"
    }
   ],
   "source": [
    "pts.stride()"
   ]
  },
  {
   "cell_type": "markdown",
   "id": "15b253de-ec88-4faf-9b86-24a8810f9403",
   "metadata": {},
   "source": [
    "1a)"
   ]
  },
  {
   "cell_type": "code",
   "execution_count": 14,
   "id": "eacdc24f-231b-4baf-bdb8-0347a8183749",
   "metadata": {},
   "outputs": [],
   "source": [
    "b = pts.view(3,3) \n",
    "# view will create a reference to a, with changes to offset and stride, but not the \n",
    "# object in memory"
   ]
  },
  {
   "cell_type": "code",
   "execution_count": 15,
   "id": "c2389081-1be6-4f0e-8daa-7336a8d22975",
   "metadata": {},
   "outputs": [
    {
     "data": {
      "text/plain": [
       "tensor([[0, 1, 2],\n",
       "        [3, 4, 5],\n",
       "        [6, 7, 8]])"
      ]
     },
     "execution_count": 15,
     "metadata": {},
     "output_type": "execute_result"
    }
   ],
   "source": [
    "b"
   ]
  },
  {
   "cell_type": "code",
   "execution_count": 16,
   "id": "0893acce-6911-4e0a-a9f9-204605b05abb",
   "metadata": {},
   "outputs": [
    {
     "data": {
      "text/plain": [
       " 0\n",
       " 1\n",
       " 2\n",
       " 3\n",
       " 4\n",
       " 5\n",
       " 6\n",
       " 7\n",
       " 8\n",
       "[torch.LongStorage of size 9]"
      ]
     },
     "execution_count": 16,
     "metadata": {},
     "output_type": "execute_result"
    }
   ],
   "source": [
    "b.storage()"
   ]
  },
  {
   "cell_type": "code",
   "execution_count": 17,
   "id": "d49b9e51-1d29-4950-b3c3-5286d5ae412e",
   "metadata": {},
   "outputs": [
    {
     "data": {
      "text/plain": [
       "(3, 1)"
      ]
     },
     "execution_count": 17,
     "metadata": {},
     "output_type": "execute_result"
    }
   ],
   "source": [
    "b.stride()"
   ]
  },
  {
   "cell_type": "code",
   "execution_count": 18,
   "id": "c4e20abe-d18f-4ad3-8063-ce84c6e7afe0",
   "metadata": {},
   "outputs": [
    {
     "data": {
      "text/plain": [
       "0"
      ]
     },
     "execution_count": 18,
     "metadata": {},
     "output_type": "execute_result"
    }
   ],
   "source": [
    "b.storage_offset()"
   ]
  },
  {
   "cell_type": "code",
   "execution_count": 19,
   "id": "1b733d2c-f84b-438b-a84e-931a3d216167",
   "metadata": {},
   "outputs": [
    {
     "data": {
      "text/plain": [
       "torch.LongStorage"
      ]
     },
     "execution_count": 19,
     "metadata": {},
     "output_type": "execute_result"
    }
   ],
   "source": [
    "b.storage_type()"
   ]
  },
  {
   "cell_type": "markdown",
   "id": "51cd84a8-9e4e-4563-9385-6e08ec98757c",
   "metadata": {},
   "source": [
    "1b)"
   ]
  },
  {
   "cell_type": "code",
   "execution_count": 20,
   "id": "0dabe8a3-548a-4423-8389-6d1f49bb275a",
   "metadata": {},
   "outputs": [],
   "source": [
    "c = b[1:, 1:]"
   ]
  },
  {
   "cell_type": "code",
   "execution_count": 21,
   "id": "fac13e4f-71f4-4ee6-a156-f032eda95e9b",
   "metadata": {},
   "outputs": [],
   "source": [
    "# c will be a 2x2 matrix, with contents: [4,5],[7,8]"
   ]
  },
  {
   "cell_type": "code",
   "execution_count": 22,
   "id": "08133eec-9512-4268-b717-cb414e15e9aa",
   "metadata": {},
   "outputs": [
    {
     "data": {
      "text/plain": [
       "tensor([[4, 5],\n",
       "        [7, 8]])"
      ]
     },
     "execution_count": 22,
     "metadata": {},
     "output_type": "execute_result"
    }
   ],
   "source": [
    "c"
   ]
  },
  {
   "cell_type": "code",
   "execution_count": 28,
   "id": "acb3b2b4-4b7c-4f25-b99e-0de70dbdc3f5",
   "metadata": {},
   "outputs": [],
   "source": [
    "# what will the size be? size will be 9. WRONG! Size will be [2,2], i was thinking of storage. \n",
    "# since c is a view on b, and b is a view on pts, and pts is 9."
   ]
  },
  {
   "cell_type": "code",
   "execution_count": 36,
   "id": "924de2bd-d226-4ebd-a546-cc31d59e396f",
   "metadata": {},
   "outputs": [],
   "source": [
    "# note : .size and .shape are the samething"
   ]
  },
  {
   "cell_type": "code",
   "execution_count": 29,
   "id": "48714cae-4f05-42c2-b6a4-d6336d7d3241",
   "metadata": {},
   "outputs": [
    {
     "data": {
      "text/plain": [
       "torch.Size([2, 2])"
      ]
     },
     "execution_count": 29,
     "metadata": {},
     "output_type": "execute_result"
    }
   ],
   "source": [
    "c.size()"
   ]
  },
  {
   "cell_type": "code",
   "execution_count": 35,
   "id": "64be6b30-c3a5-438c-a473-2479fefd1a9f",
   "metadata": {},
   "outputs": [
    {
     "data": {
      "text/plain": [
       "torch.Size([2, 2])"
      ]
     },
     "execution_count": 35,
     "metadata": {},
     "output_type": "execute_result"
    }
   ],
   "source": [
    "c.shape"
   ]
  },
  {
   "cell_type": "code",
   "execution_count": 30,
   "id": "9b1482d2-8414-4a6b-8fcf-d39180b79d82",
   "metadata": {},
   "outputs": [
    {
     "data": {
      "text/plain": [
       " 0\n",
       " 1\n",
       " 2\n",
       " 3\n",
       " 4\n",
       " 5\n",
       " 6\n",
       " 7\n",
       " 8\n",
       "[torch.LongStorage of size 9]"
      ]
     },
     "execution_count": 30,
     "metadata": {},
     "output_type": "execute_result"
    }
   ],
   "source": [
    "c.storage()"
   ]
  },
  {
   "cell_type": "code",
   "execution_count": 31,
   "id": "acbf08bb-55c2-49f9-97a2-76e4623ae5fd",
   "metadata": {},
   "outputs": [],
   "source": [
    "# what will the stride and offset be? stride will be 2,1 and offset will be 4(?)"
   ]
  },
  {
   "cell_type": "code",
   "execution_count": 32,
   "id": "534b1c4b-e1e5-4ed7-8dbd-12479fada136",
   "metadata": {},
   "outputs": [
    {
     "data": {
      "text/plain": [
       "(3, 1)"
      ]
     },
     "execution_count": 32,
     "metadata": {},
     "output_type": "execute_result"
    }
   ],
   "source": [
    "c.stride()"
   ]
  },
  {
   "cell_type": "code",
   "execution_count": 37,
   "id": "55578b6c-efdb-4b15-8c64-81f3938c8f32",
   "metadata": {},
   "outputs": [],
   "source": [
    "# is the stride still from the 3x3 array we made?"
   ]
  },
  {
   "cell_type": "code",
   "execution_count": 34,
   "id": "3de07bac-da20-41f9-ba32-aaf97844aff7",
   "metadata": {},
   "outputs": [
    {
     "data": {
      "text/plain": [
       "4"
      ]
     },
     "execution_count": 34,
     "metadata": {},
     "output_type": "execute_result"
    }
   ],
   "source": [
    "c.storage_offset()"
   ]
  },
  {
   "cell_type": "markdown",
   "id": "ea30c9be-a6b1-426c-928e-bf9be1a5ece8",
   "metadata": {},
   "source": [
    "---"
   ]
  },
  {
   "cell_type": "code",
   "execution_count": 38,
   "id": "362cfc27-cf46-4f08-ad8f-642c557f709d",
   "metadata": {},
   "outputs": [
    {
     "data": {
      "text/plain": [
       "tensor([0, 1, 2, 3, 4, 5, 6, 7, 8])"
      ]
     },
     "execution_count": 38,
     "metadata": {},
     "output_type": "execute_result"
    }
   ],
   "source": [
    "a = torch.tensor(list(range(9)))\n",
    "a"
   ]
  },
  {
   "cell_type": "code",
   "execution_count": 39,
   "id": "f9e7ea97-46b3-4c88-8610-fd08581c9c4d",
   "metadata": {},
   "outputs": [
    {
     "data": {
      "text/plain": [
       "(torch.Size([9]),\n",
       "  0\n",
       "  1\n",
       "  2\n",
       "  3\n",
       "  4\n",
       "  5\n",
       "  6\n",
       "  7\n",
       "  8\n",
       " [torch.LongStorage of size 9],\n",
       " 0,\n",
       " (1,))"
      ]
     },
     "execution_count": 39,
     "metadata": {},
     "output_type": "execute_result"
    }
   ],
   "source": [
    "# size: 9x1 , storage: 0...9, offset: 0, stride: 1,\n",
    "a.size(), a.storage(), a.storage_offset(), a.stride()"
   ]
  },
  {
   "cell_type": "code",
   "execution_count": 41,
   "id": "5a71f713-5ce3-4357-ba7f-dbc159677ee0",
   "metadata": {},
   "outputs": [
    {
     "data": {
      "text/plain": [
       "tensor([[0, 1, 2],\n",
       "        [3, 4, 5],\n",
       "        [6, 7, 8]])"
      ]
     },
     "execution_count": 41,
     "metadata": {},
     "output_type": "execute_result"
    }
   ],
   "source": [
    "b = a.view(3,3)\n",
    "# b = [[0,1,2], [3,4,5], [6,7,8]]\n",
    "b"
   ]
  },
  {
   "cell_type": "code",
   "execution_count": 42,
   "id": "64ee2f7d-228f-4525-9a86-155a5eb54c4c",
   "metadata": {},
   "outputs": [
    {
     "data": {
      "text/plain": [
       "(torch.Size([3, 3]),\n",
       "  0\n",
       "  1\n",
       "  2\n",
       "  3\n",
       "  4\n",
       "  5\n",
       "  6\n",
       "  7\n",
       "  8\n",
       " [torch.LongStorage of size 9],\n",
       " 0,\n",
       " (3, 1))"
      ]
     },
     "execution_count": 42,
     "metadata": {},
     "output_type": "execute_result"
    }
   ],
   "source": [
    "# size = [3,3]\n",
    "# storage = 0,...,8\n",
    "# offset = 0\n",
    "# stride = 3,1\n",
    "b.size(), b.storage(), b.storage_offset(), b.stride()"
   ]
  },
  {
   "cell_type": "code",
   "execution_count": 43,
   "id": "2a8e90a6-4cfe-435d-b55f-817144f38db3",
   "metadata": {},
   "outputs": [
    {
     "data": {
      "text/plain": [
       "tensor([[4, 5],\n",
       "        [7, 8]])"
      ]
     },
     "execution_count": 43,
     "metadata": {},
     "output_type": "execute_result"
    }
   ],
   "source": [
    "c = b[1:, 1:]\n",
    "# c = [ [4,5], [7,8]]\n",
    "c"
   ]
  },
  {
   "cell_type": "code",
   "execution_count": 45,
   "id": "27a3af29-475e-4011-bc0f-a4aeb407b6fb",
   "metadata": {},
   "outputs": [
    {
     "data": {
      "text/plain": [
       "(torch.Size([2, 2]),\n",
       "  0\n",
       "  1\n",
       "  2\n",
       "  3\n",
       "  4\n",
       "  5\n",
       "  6\n",
       "  7\n",
       "  8\n",
       " [torch.LongStorage of size 9],\n",
       " 4,\n",
       " (3, 1))"
      ]
     },
     "execution_count": 45,
     "metadata": {},
     "output_type": "execute_result"
    }
   ],
   "source": [
    "# size = 2x2\n",
    "# storage = 0,...,8 b/c reference/view back to a\n",
    "# offset = 3 --> it is 4 b/c: offset of 0 is starting, so offset of 4 will be the 4th entry as our start\n",
    "# stride = 2,1 --> it's 3,1 b/c: I don't know. is it because the parent was 3,1?\n",
    "c.size(), c.storage(), c.storage_offset(), c.stride()"
   ]
  },
  {
   "cell_type": "code",
   "execution_count": null,
   "id": "ab283775-984d-4e7f-8d32-f07ba87e9f8e",
   "metadata": {},
   "outputs": [],
   "source": [
    "import torch\n",
    "a = torch.tensor(list(range(9)))\n",
    "b = a.view(3,3)\n",
    "c = b[1:, 1:]\n",
    "c.size(), c.storage(), c.storage_offset(), c.stride()\n",
    "# why is stride 3,1?"
   ]
  },
  {
   "cell_type": "code",
   "execution_count": 46,
   "id": "34cd3501-af03-4fae-b5b5-7c0cec7cb7d6",
   "metadata": {},
   "outputs": [
    {
     "data": {
      "text/plain": [
       "tensor([[0, 1, 2],\n",
       "        [3, 4, 5],\n",
       "        [6, 7, 8]])"
      ]
     },
     "execution_count": 46,
     "metadata": {},
     "output_type": "execute_result"
    }
   ],
   "source": [
    "q = a.view(3,3)[:,:]\n",
    "q"
   ]
  },
  {
   "cell_type": "code",
   "execution_count": 47,
   "id": "f8454762-21c7-44f7-9323-a48248fed19d",
   "metadata": {},
   "outputs": [
    {
     "data": {
      "text/plain": [
       "(torch.Size([3, 3]),\n",
       "  0\n",
       "  1\n",
       "  2\n",
       "  3\n",
       "  4\n",
       "  5\n",
       "  6\n",
       "  7\n",
       "  8\n",
       " [torch.LongStorage of size 9],\n",
       " 0,\n",
       " (3, 1))"
      ]
     },
     "execution_count": 47,
     "metadata": {},
     "output_type": "execute_result"
    }
   ],
   "source": [
    "q.size(), q.storage(), q.storage_offset(), q.stride()"
   ]
  },
  {
   "cell_type": "code",
   "execution_count": 48,
   "id": "b7977dbd-5b51-4389-9255-f415488fdc63",
   "metadata": {},
   "outputs": [
    {
     "data": {
      "text/plain": [
       "2.0"
      ]
     },
     "execution_count": 48,
     "metadata": {},
     "output_type": "execute_result"
    }
   ],
   "source": [
    "2."
   ]
  },
  {
   "cell_type": "code",
   "execution_count": 53,
   "id": "38b1c6b8-b352-4ae8-a10f-834dcf6fb6cf",
   "metadata": {},
   "outputs": [
    {
     "data": {
      "text/plain": [
       "tensor([0, 1, 2, 3, 4, 5, 6, 7, 8])"
      ]
     },
     "execution_count": 53,
     "metadata": {},
     "output_type": "execute_result"
    }
   ],
   "source": [
    "a"
   ]
  },
  {
   "cell_type": "code",
   "execution_count": 55,
   "id": "0c2729da-fc7d-4870-8cd1-79e3e172b3a1",
   "metadata": {},
   "outputs": [
    {
     "ename": "RuntimeError",
     "evalue": "sqrt_vml_cpu not implemented for 'Long'",
     "output_type": "error",
     "traceback": [
      "\u001b[0;31m---------------------------------------------------------------------------\u001b[0m",
      "\u001b[0;31mRuntimeError\u001b[0m                              Traceback (most recent call last)",
      "\u001b[0;32m<ipython-input-55-d9e1497ded4c>\u001b[0m in \u001b[0;36m<module>\u001b[0;34m\u001b[0m\n\u001b[0;32m----> 1\u001b[0;31m \u001b[0mtorch\u001b[0m\u001b[0;34m.\u001b[0m\u001b[0msqrt\u001b[0m\u001b[0;34m(\u001b[0m\u001b[0ma\u001b[0m\u001b[0;34m)\u001b[0m\u001b[0;34m\u001b[0m\u001b[0;34m\u001b[0m\u001b[0m\n\u001b[0m",
      "\u001b[0;31mRuntimeError\u001b[0m: sqrt_vml_cpu not implemented for 'Long'"
     ]
    }
   ],
   "source": [
    "torch.sqrt(a)"
   ]
  },
  {
   "cell_type": "code",
   "execution_count": 58,
   "id": "36bcef79-8747-4aab-a6cd-4412abc9a61f",
   "metadata": {},
   "outputs": [
    {
     "data": {
      "text/plain": [
       "tensor([[1.0731, 3.0432, 1.2113],\n",
       "        [1.8180, 1.4600, 1.0140],\n",
       "        [1.0341, 1.1899, 1.2153]])"
      ]
     },
     "execution_count": 58,
     "metadata": {},
     "output_type": "execute_result"
    }
   ],
   "source": [
    "torch.cosh(torch.randn(3,3))"
   ]
  },
  {
   "cell_type": "code",
   "execution_count": 65,
   "id": "23b631bd-7e6c-4ec5-b634-2b94323d4e64",
   "metadata": {},
   "outputs": [
    {
     "data": {
      "text/plain": [
       "torch.int64"
      ]
     },
     "execution_count": 65,
     "metadata": {},
     "output_type": "execute_result"
    }
   ],
   "source": [
    "a.dtype"
   ]
  },
  {
   "cell_type": "code",
   "execution_count": 67,
   "id": "3cff48e0-df15-48a4-a6a9-ffbdc87d84b6",
   "metadata": {},
   "outputs": [],
   "source": [
    "a = a.type(torch.float)"
   ]
  },
  {
   "cell_type": "code",
   "execution_count": 68,
   "id": "53a34225-c110-41f8-94b5-5f6b68c858b4",
   "metadata": {},
   "outputs": [
    {
     "data": {
      "text/plain": [
       "tensor([1.0000e+00, 1.5431e+00, 3.7622e+00, 1.0068e+01, 2.7308e+01, 7.4210e+01,\n",
       "        2.0172e+02, 5.4832e+02, 1.4905e+03])"
      ]
     },
     "execution_count": 68,
     "metadata": {},
     "output_type": "execute_result"
    }
   ],
   "source": [
    "a.cosh()"
   ]
  },
  {
   "cell_type": "code",
   "execution_count": 69,
   "id": "5633d103-37f4-47cf-96c6-8d9b6d2a4b45",
   "metadata": {},
   "outputs": [
    {
     "data": {
      "text/plain": [
       "tensor([0., 1., 2., 3., 4., 5., 6., 7., 8.])"
      ]
     },
     "execution_count": 69,
     "metadata": {},
     "output_type": "execute_result"
    }
   ],
   "source": [
    "a"
   ]
  },
  {
   "cell_type": "code",
   "execution_count": 70,
   "id": "5a999cfa-c9ea-4ed2-9854-3d9dd64a2fe1",
   "metadata": {},
   "outputs": [],
   "source": [
    "for i,ent in enumerate(a):\n",
    "    a[i] = torch.cosh(a[i])"
   ]
  },
  {
   "cell_type": "code",
   "execution_count": 71,
   "id": "9dfca090-770c-4103-8193-cf74ccc9c209",
   "metadata": {},
   "outputs": [
    {
     "data": {
      "text/plain": [
       "tensor([1.0000e+00, 1.5431e+00, 3.7622e+00, 1.0068e+01, 2.7308e+01, 7.4210e+01,\n",
       "        2.0172e+02, 5.4832e+02, 1.4905e+03])"
      ]
     },
     "execution_count": 71,
     "metadata": {},
     "output_type": "execute_result"
    }
   ],
   "source": [
    "a"
   ]
  },
  {
   "cell_type": "code",
   "execution_count": 72,
   "id": "3949e2bf-78be-4ba6-9ce7-4f86256b6bd6",
   "metadata": {},
   "outputs": [
    {
     "data": {
      "text/plain": [
       "tensor([1.5431e+00, 2.4464e+00, 2.1533e+01, 1.1784e+04, 3.6206e+11, 8.4712e+31,\n",
       "               inf,        inf,        inf])"
      ]
     },
     "execution_count": 72,
     "metadata": {},
     "output_type": "execute_result"
    }
   ],
   "source": [
    "torch.cosh_(a)"
   ]
  },
  {
   "cell_type": "code",
   "execution_count": 73,
   "id": "e2504e8a-3499-4fb8-96b5-524805afc674",
   "metadata": {},
   "outputs": [
    {
     "data": {
      "text/plain": [
       "tensor([[ 0.3228,  0.5700, -0.3029],\n",
       "        [-1.2365,  0.2564,  3.1068],\n",
       "        [-0.8374, -0.7515, -0.0875]])"
      ]
     },
     "execution_count": 73,
     "metadata": {},
     "output_type": "execute_result"
    }
   ],
   "source": [
    "a = torch.randn(3,3)\n",
    "a"
   ]
  },
  {
   "cell_type": "code",
   "execution_count": 74,
   "id": "daa05fbb-63f7-4eb1-b2ce-92a99e1b1e86",
   "metadata": {},
   "outputs": [
    {
     "data": {
      "text/plain": [
       "tensor([[0.5681, 0.7550,    nan],\n",
       "        [   nan, 0.5063, 1.7626],\n",
       "        [   nan,    nan,    nan]])"
      ]
     },
     "execution_count": 74,
     "metadata": {},
     "output_type": "execute_result"
    }
   ],
   "source": [
    "a.sqrt()"
   ]
  },
  {
   "cell_type": "code",
   "execution_count": 75,
   "id": "e1d5fa14-52fb-4b1b-a14f-d36a3769348a",
   "metadata": {},
   "outputs": [
    {
     "data": {
      "text/plain": [
       "tensor([[ 0.3228,  0.5700, -0.3029],\n",
       "        [-1.2365,  0.2564,  3.1068],\n",
       "        [-0.8374, -0.7515, -0.0875]])"
      ]
     },
     "execution_count": 75,
     "metadata": {},
     "output_type": "execute_result"
    }
   ],
   "source": [
    "a"
   ]
  },
  {
   "cell_type": "code",
   "execution_count": 76,
   "id": "c17ea65f-713a-4de6-acf9-8b3c7e33a6fe",
   "metadata": {},
   "outputs": [
    {
     "data": {
      "text/plain": [
       "tensor([[0.5681, 0.7550,    nan],\n",
       "        [   nan, 0.5063, 1.7626],\n",
       "        [   nan,    nan,    nan]])"
      ]
     },
     "execution_count": 76,
     "metadata": {},
     "output_type": "execute_result"
    }
   ],
   "source": [
    "a.sqrt_()"
   ]
  },
  {
   "cell_type": "code",
   "execution_count": 77,
   "id": "cb725bdf-2d6b-4213-a91a-0c9c02106edd",
   "metadata": {},
   "outputs": [
    {
     "data": {
      "text/plain": [
       "tensor([[0.5681, 0.7550,    nan],\n",
       "        [   nan, 0.5063, 1.7626],\n",
       "        [   nan,    nan,    nan]])"
      ]
     },
     "execution_count": 77,
     "metadata": {},
     "output_type": "execute_result"
    }
   ],
   "source": [
    "a"
   ]
  },
  {
   "cell_type": "code",
   "execution_count": null,
   "id": "5e919acc-5039-42c6-a61f-a478afcf509f",
   "metadata": {},
   "outputs": [],
   "source": []
  }
 ],
 "metadata": {
  "kernelspec": {
   "display_name": "k_dlwpt",
   "language": "python",
   "name": "conda-env-k_dlwpt-py"
  },
  "language_info": {
   "codemirror_mode": {
    "name": "ipython",
    "version": 3
   },
   "file_extension": ".py",
   "mimetype": "text/x-python",
   "name": "python",
   "nbconvert_exporter": "python",
   "pygments_lexer": "ipython3",
   "version": "3.6.8"
  }
 },
 "nbformat": 4,
 "nbformat_minor": 5
}

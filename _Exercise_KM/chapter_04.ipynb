{
 "cells": [
  {
   "cell_type": "markdown",
   "id": "31b58eda-9645-4a78-9e9b-375dce82db20",
   "metadata": {
    "tags": []
   },
   "source": [
    "# Chapter 4 - Exercises "
   ]
  },
  {
   "cell_type": "code",
   "execution_count": null,
   "id": "ff525473-5cf8-46f3-98ee-e0e2417efdf1",
   "metadata": {},
   "outputs": [],
   "source": []
  }
 ],
 "metadata": {
  "kernelspec": {
   "display_name": "k_dlwpt",
   "language": "python",
   "name": "conda-env-k_dlwpt-py"
  },
  "language_info": {
   "codemirror_mode": {
    "name": "ipython",
    "version": 3
   },
   "file_extension": ".py",
   "mimetype": "text/x-python",
   "name": "python",
   "nbconvert_exporter": "python",
   "pygments_lexer": "ipython3",
   "version": "3.6.8"
  }
 },
 "nbformat": 4,
 "nbformat_minor": 5
}

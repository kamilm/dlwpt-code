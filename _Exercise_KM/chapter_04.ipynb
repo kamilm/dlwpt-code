{
 "cells": [
  {
   "cell_type": "markdown",
   "id": "31b58eda-9645-4a78-9e9b-375dce82db20",
   "metadata": {
    "tags": []
   },
   "source": [
    "# Chapter 4 - Exercises "
   ]
  },
  {
   "cell_type": "markdown",
   "id": "71f67d3b-09b4-4e86-bc71-b843a838bb60",
   "metadata": {},
   "source": [
    "taking a pass on these exercises, I think I have a good enough handle on what the problems are asking for. "
   ]
  },
  {
   "cell_type": "code",
   "execution_count": null,
   "id": "e23f0896-0f95-446d-ae2f-38ebb9b666dc",
   "metadata": {},
   "outputs": [],
   "source": []
  }
 ],
 "metadata": {
  "kernelspec": {
   "display_name": "k_dlwpt",
   "language": "python",
   "name": "conda-env-k_dlwpt-py"
  },
  "language_info": {
   "codemirror_mode": {
    "name": "ipython",
    "version": 3
   },
   "file_extension": ".py",
   "mimetype": "text/x-python",
   "name": "python",
   "nbconvert_exporter": "python",
   "pygments_lexer": "ipython3",
   "version": "3.6.8"
  }
 },
 "nbformat": 4,
 "nbformat_minor": 5
}

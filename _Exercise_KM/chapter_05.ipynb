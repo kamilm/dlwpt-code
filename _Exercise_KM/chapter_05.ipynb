{
 "cells": [
  {
   "cell_type": "markdown",
   "id": "7388cdfb-510b-41bc-8f43-4c7ae67ce247",
   "metadata": {},
   "source": [
    "# Chapter 5: Exercises"
   ]
  },
  {
   "cell_type": "markdown",
   "id": "95c53aa6-bad0-45ff-80b8-af9f1fae8874",
   "metadata": {},
   "source": [
    "1. Redefine the model to be w2 * tu **2 + w1 * t_u + b"
   ]
  },
  {
   "cell_type": "code",
   "execution_count": 94,
   "id": "c61356c2-f772-4b5f-90f4-aa05f999e336",
   "metadata": {},
   "outputs": [],
   "source": [
    "import torch\n",
    "import numpy as np"
   ]
  },
  {
   "cell_type": "code",
   "execution_count": 95,
   "id": "e02acf92-8e91-4f6f-b6e5-4db6c35df33f",
   "metadata": {},
   "outputs": [],
   "source": [
    "t_c = [0.5,  14.0, 15.0, 28.0, 11.0,  8.0,  3.0, -4.0,  6.0, 13.0, 21.0]\n",
    "t_u = [35.7, 55.9, 58.2, 81.9, 56.3, 48.9, 33.9, 21.8, 48.4, 60.4, 68.4]\n",
    "t_c = torch.tensor(t_c)\n",
    "t_u = torch.tensor(t_u)"
   ]
  },
  {
   "cell_type": "code",
   "execution_count": 96,
   "id": "0555a144-346f-47ac-b534-735260fb2975",
   "metadata": {},
   "outputs": [],
   "source": [
    "import matplotlib.pyplot as plt"
   ]
  },
  {
   "cell_type": "code",
   "execution_count": 97,
   "id": "e0a3f4b3-d172-4fa8-b176-68bc96a0c984",
   "metadata": {},
   "outputs": [],
   "source": [
    "t_unorm = t_u * 0.1"
   ]
  },
  {
   "cell_type": "markdown",
   "id": "7ea09226-9c05-4257-933d-359c3fdaa644",
   "metadata": {},
   "source": [
    "a) what parts of the training loop, and so on, need to be changed to accommodate the new model?"
   ]
  },
  {
   "cell_type": "code",
   "execution_count": 98,
   "id": "04dcc396-0c74-4438-84b6-b2374138377d",
   "metadata": {},
   "outputs": [],
   "source": [
    "# i believe only the params part needs to be changed, let's rewrite our model from \n",
    "# increasing to decreasing order\n",
    "# model = w0 + w1 * tu + w2 * tu^2\n",
    "# our parameters are [w0, w1, w2]\n",
    "# we can initialized them as [0.0, 1.0, 1.0]\n",
    "# we will also redifine our model"
   ]
  },
  {
   "cell_type": "code",
   "execution_count": 109,
   "id": "8985a5ac-51d4-4a66-a2df-31aaca39d3c1",
   "metadata": {},
   "outputs": [],
   "source": [
    "def model(t_u, w0, w1, w2):\n",
    "    return w0 + (w1 * t_u) + (w2 * t_u**2)"
   ]
  },
  {
   "cell_type": "code",
   "execution_count": 110,
   "id": "d198c39d-0be9-42d1-8132-2edfd1256d4c",
   "metadata": {},
   "outputs": [],
   "source": [
    "def loss_fn(t_p, t_c):\n",
    "    \"\"\"\n",
    "    take the mean of all the squared difference, i.e. mean squared error\n",
    "    \n",
    "    t_p = prediction\n",
    "    t_c = target / ground truth\n",
    "    \"\"\"\n",
    "    squared_diffs = (t_p - t_c)**2\n",
    "    return squared_diffs.mean()"
   ]
  },
  {
   "cell_type": "code",
   "execution_count": 142,
   "id": "a3778f52-d86b-49b1-8ac7-068dc48e1c12",
   "metadata": {},
   "outputs": [],
   "source": [
    "# update training with optimizer\n",
    "def training_optim(n_epochs, optimizer, params, t_u, t_c, print_params=True):\n",
    "    \"\"\"\n",
    "    \"\"\"\n",
    "    for epoch in range(1, n_epochs+1):\n",
    "        t_p = model(t_u, *params)\n",
    "        loss = loss_fn(t_p, t_c)\n",
    "        optimizer.zero_grad() # clear gradients\n",
    "        loss.backward() # calculate gradient and propogate through network\n",
    "        optimizer.step() # update all params\n",
    "        \n",
    "        if print_params==True and epoch % 500 == 0:\n",
    "            print('epoch %d, loss %f' % (epoch, float(loss)))\n",
    "    return params"
   ]
  },
  {
   "cell_type": "code",
   "execution_count": 143,
   "id": "6593dd00-e30d-4f1d-b9f5-1256be2a4c88",
   "metadata": {},
   "outputs": [],
   "source": [
    "import torch.optim as optim"
   ]
  },
  {
   "cell_type": "code",
   "execution_count": 144,
   "id": "5db36664-1728-4021-9699-8fd036a76c8c",
   "metadata": {},
   "outputs": [],
   "source": [
    "params = torch.tensor([0.5, 0.2, 0.1], requires_grad=True) # w0, w1, w2\n",
    "learning_rate = 1e-2\n",
    "optimimzer = optim.Adam([params], lr=learning_rate)"
   ]
  },
  {
   "cell_type": "code",
   "execution_count": 145,
   "id": "f37b0780-27b9-4910-9024-280f9d88a6fd",
   "metadata": {},
   "outputs": [
    {
     "name": "stdout",
     "output_type": "stream",
     "text": [
      "epoch 500, loss 3.565741\n",
      "epoch 1000, loss 3.042868\n",
      "epoch 1500, loss 2.902088\n",
      "epoch 2000, loss 2.742264\n",
      "epoch 2500, loss 2.577302\n",
      "epoch 3000, loss 2.422961\n",
      "epoch 3500, loss 2.293494\n",
      "epoch 4000, loss 2.198092\n",
      "epoch 4500, loss 2.138147\n",
      "epoch 5000, loss 2.107311\n",
      "epoch 5500, loss 2.095014\n",
      "epoch 6000, loss 2.091472\n",
      "epoch 6500, loss 2.090801\n",
      "epoch 7000, loss 2.090726\n",
      "epoch 7500, loss 2.090721\n",
      "epoch 8000, loss 2.090721\n",
      "epoch 8500, loss 2.090721\n",
      "epoch 9000, loss 2.090721\n",
      "epoch 9500, loss 2.090721\n",
      "epoch 10000, loss 2.090721\n"
     ]
    },
    {
     "data": {
      "text/plain": [
       "tensor([-10.6496,   2.4760,   0.2830], requires_grad=True)"
      ]
     },
     "execution_count": 145,
     "metadata": {},
     "output_type": "execute_result"
    }
   ],
   "source": [
    "training_optim(10000, optimizer=optimimzer, params=params, t_u=t_unorm, t_c=t_c)"
   ]
  },
  {
   "cell_type": "code",
   "execution_count": 146,
   "id": "c1851c2d-38c8-407b-b186-e7a3c5ed6e9f",
   "metadata": {},
   "outputs": [
    {
     "data": {
      "text/plain": [
       "tensor([-10.6496,   2.4760,   0.2830], requires_grad=True)"
      ]
     },
     "execution_count": 146,
     "metadata": {},
     "output_type": "execute_result"
    }
   ],
   "source": [
    "params"
   ]
  },
  {
   "cell_type": "code",
   "execution_count": 147,
   "id": "61ea0adb-41c2-4458-a091-ff8cb9c281f5",
   "metadata": {},
   "outputs": [
    {
     "data": {
      "text/plain": [
       "tensor([ 0.5000, 14.0000, 15.0000, 28.0000, 11.0000,  8.0000,  3.0000, -4.0000,\n",
       "         6.0000, 13.0000, 21.0000])"
      ]
     },
     "execution_count": 147,
     "metadata": {},
     "output_type": "execute_result"
    }
   ],
   "source": [
    "t_c"
   ]
  },
  {
   "cell_type": "code",
   "execution_count": 148,
   "id": "eca9d01c-9fa5-427f-adea-51094fc90068",
   "metadata": {},
   "outputs": [
    {
     "data": {
      "text/plain": [
       "tensor([ 1.7972, 12.0360, 13.3483, 28.6146, 12.2621,  8.2264,  0.9969, -3.9067,\n",
       "         7.9649, 14.6315, 19.5288], grad_fn=<AddBackward0>)"
      ]
     },
     "execution_count": 148,
     "metadata": {},
     "output_type": "execute_result"
    }
   ],
   "source": [
    "model(t_unorm, *params)"
   ]
  },
  {
   "cell_type": "markdown",
   "id": "0929ac6d-6a2d-4190-b623-e5b4633a3922",
   "metadata": {},
   "source": [
    "b) what parts are agnostic to swapping out?"
   ]
  },
  {
   "cell_type": "code",
   "execution_count": 93,
   "id": "5e58d654-2a5b-4897-97b5-e66d4dac228e",
   "metadata": {},
   "outputs": [],
   "source": [
    "# the training loop and other parts remain the same, only the params and model definition change"
   ]
  },
  {
   "cell_type": "markdown",
   "id": "dbf015ff-4197-47a6-a6b6-5b0ac695991d",
   "metadata": {},
   "source": [
    "c) is the resulting loss better or worse"
   ]
  },
  {
   "cell_type": "code",
   "execution_count": 151,
   "id": "71861ad2-59cb-4c03-b0c7-60bce775be2f",
   "metadata": {},
   "outputs": [],
   "source": [
    "# the error looks much worse when I use SGD, but using Adam seems to make it converge a bit but the result is still higher than the best result with a linear model"
   ]
  },
  {
   "cell_type": "markdown",
   "id": "73ddb9ea-792c-404e-afe0-beb4882167cc",
   "metadata": {},
   "source": [
    "d) is the actual result better or worse"
   ]
  },
  {
   "cell_type": "code",
   "execution_count": 152,
   "id": "84580f92-b2ab-4d1e-bd3f-3a892fa8e346",
   "metadata": {},
   "outputs": [],
   "source": [
    "# worse. "
   ]
  },
  {
   "cell_type": "code",
   "execution_count": null,
   "id": "6fe03839-6cdf-43bd-a634-94b401a8dff5",
   "metadata": {},
   "outputs": [],
   "source": []
  }
 ],
 "metadata": {
  "kernelspec": {
   "display_name": "k_dlwpt",
   "language": "python",
   "name": "conda-env-k_dlwpt-py"
  },
  "language_info": {
   "codemirror_mode": {
    "name": "ipython",
    "version": 3
   },
   "file_extension": ".py",
   "mimetype": "text/x-python",
   "name": "python",
   "nbconvert_exporter": "python",
   "pygments_lexer": "ipython3",
   "version": "3.6.8"
  }
 },
 "nbformat": 4,
 "nbformat_minor": 5
}

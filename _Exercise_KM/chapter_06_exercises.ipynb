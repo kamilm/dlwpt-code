{
 "cells": [
  {
   "cell_type": "markdown",
   "id": "e5f948c4-6cc6-4137-940b-883571f88243",
   "metadata": {},
   "source": [
    "# Chapter 6 - Exercises"
   ]
  },
  {
   "cell_type": "markdown",
   "id": "435840ab-bdcd-48e7-b267-b226fee8a774",
   "metadata": {},
   "source": [
    "2) Load the wind data from ch4 and create a new model with appropriate number of inputs and outputs."
   ]
  },
  {
   "cell_type": "code",
   "execution_count": 116,
   "id": "1143b06b-286d-4c16-ac76-4659efbf7576",
   "metadata": {},
   "outputs": [],
   "source": [
    "import torch\n",
    "import torch.nn as nn\n",
    "import torch.optim as optim\n",
    "import numpy as np\n",
    "import pandas as pd\n",
    "from pathlib import Path"
   ]
  },
  {
   "cell_type": "code",
   "execution_count": 117,
   "id": "7f17852a-90c7-4e3a-a615-d03ae52adc8b",
   "metadata": {},
   "outputs": [],
   "source": [
    "# try to build a regression model for now"
   ]
  },
  {
   "cell_type": "code",
   "execution_count": 118,
   "id": "931d7b33-9ca8-4464-9944-b7ddeb3d5146",
   "metadata": {},
   "outputs": [],
   "source": [
    "wine_data = Path('/home/kamil/_LEARNING/dlwpt-code/data/p1ch4/tabular-wine/winequality-white.csv')\n",
    "df = pd.read_csv(wine_data, sep=';')"
   ]
  },
  {
   "cell_type": "code",
   "execution_count": 119,
   "id": "f8126b5f-be6d-4536-b17e-6d8bba6bb0fe",
   "metadata": {},
   "outputs": [
    {
     "data": {
      "text/html": [
       "<div>\n",
       "<style scoped>\n",
       "    .dataframe tbody tr th:only-of-type {\n",
       "        vertical-align: middle;\n",
       "    }\n",
       "\n",
       "    .dataframe tbody tr th {\n",
       "        vertical-align: top;\n",
       "    }\n",
       "\n",
       "    .dataframe thead th {\n",
       "        text-align: right;\n",
       "    }\n",
       "</style>\n",
       "<table border=\"1\" class=\"dataframe\">\n",
       "  <thead>\n",
       "    <tr style=\"text-align: right;\">\n",
       "      <th></th>\n",
       "      <th>fixed_acidity</th>\n",
       "      <th>volatile_acidity</th>\n",
       "      <th>citric_acid</th>\n",
       "      <th>residual_sugar</th>\n",
       "      <th>chlorides</th>\n",
       "      <th>free_sulfur_dioxide</th>\n",
       "      <th>total_sulfur_dioxide</th>\n",
       "      <th>density</th>\n",
       "      <th>ph</th>\n",
       "      <th>sulphates</th>\n",
       "      <th>alcohol</th>\n",
       "      <th>quality</th>\n",
       "    </tr>\n",
       "  </thead>\n",
       "  <tbody>\n",
       "    <tr>\n",
       "      <th>0</th>\n",
       "      <td>7.0</td>\n",
       "      <td>0.27</td>\n",
       "      <td>0.36</td>\n",
       "      <td>20.7</td>\n",
       "      <td>0.045</td>\n",
       "      <td>45.0</td>\n",
       "      <td>170.0</td>\n",
       "      <td>1.0010</td>\n",
       "      <td>3.00</td>\n",
       "      <td>0.45</td>\n",
       "      <td>8.8</td>\n",
       "      <td>6</td>\n",
       "    </tr>\n",
       "    <tr>\n",
       "      <th>1</th>\n",
       "      <td>6.3</td>\n",
       "      <td>0.30</td>\n",
       "      <td>0.34</td>\n",
       "      <td>1.6</td>\n",
       "      <td>0.049</td>\n",
       "      <td>14.0</td>\n",
       "      <td>132.0</td>\n",
       "      <td>0.9940</td>\n",
       "      <td>3.30</td>\n",
       "      <td>0.49</td>\n",
       "      <td>9.5</td>\n",
       "      <td>6</td>\n",
       "    </tr>\n",
       "    <tr>\n",
       "      <th>2</th>\n",
       "      <td>8.1</td>\n",
       "      <td>0.28</td>\n",
       "      <td>0.40</td>\n",
       "      <td>6.9</td>\n",
       "      <td>0.050</td>\n",
       "      <td>30.0</td>\n",
       "      <td>97.0</td>\n",
       "      <td>0.9951</td>\n",
       "      <td>3.26</td>\n",
       "      <td>0.44</td>\n",
       "      <td>10.1</td>\n",
       "      <td>6</td>\n",
       "    </tr>\n",
       "    <tr>\n",
       "      <th>3</th>\n",
       "      <td>7.2</td>\n",
       "      <td>0.23</td>\n",
       "      <td>0.32</td>\n",
       "      <td>8.5</td>\n",
       "      <td>0.058</td>\n",
       "      <td>47.0</td>\n",
       "      <td>186.0</td>\n",
       "      <td>0.9956</td>\n",
       "      <td>3.19</td>\n",
       "      <td>0.40</td>\n",
       "      <td>9.9</td>\n",
       "      <td>6</td>\n",
       "    </tr>\n",
       "    <tr>\n",
       "      <th>4</th>\n",
       "      <td>7.2</td>\n",
       "      <td>0.23</td>\n",
       "      <td>0.32</td>\n",
       "      <td>8.5</td>\n",
       "      <td>0.058</td>\n",
       "      <td>47.0</td>\n",
       "      <td>186.0</td>\n",
       "      <td>0.9956</td>\n",
       "      <td>3.19</td>\n",
       "      <td>0.40</td>\n",
       "      <td>9.9</td>\n",
       "      <td>6</td>\n",
       "    </tr>\n",
       "  </tbody>\n",
       "</table>\n",
       "</div>"
      ],
      "text/plain": [
       "   fixed_acidity  volatile_acidity  citric_acid  residual_sugar  chlorides  \\\n",
       "0            7.0              0.27         0.36            20.7      0.045   \n",
       "1            6.3              0.30         0.34             1.6      0.049   \n",
       "2            8.1              0.28         0.40             6.9      0.050   \n",
       "3            7.2              0.23         0.32             8.5      0.058   \n",
       "4            7.2              0.23         0.32             8.5      0.058   \n",
       "\n",
       "   free_sulfur_dioxide  total_sulfur_dioxide  density    ph  sulphates  \\\n",
       "0                 45.0                 170.0   1.0010  3.00       0.45   \n",
       "1                 14.0                 132.0   0.9940  3.30       0.49   \n",
       "2                 30.0                  97.0   0.9951  3.26       0.44   \n",
       "3                 47.0                 186.0   0.9956  3.19       0.40   \n",
       "4                 47.0                 186.0   0.9956  3.19       0.40   \n",
       "\n",
       "   alcohol  quality  \n",
       "0      8.8        6  \n",
       "1      9.5        6  \n",
       "2     10.1        6  \n",
       "3      9.9        6  \n",
       "4      9.9        6  "
      ]
     },
     "execution_count": 119,
     "metadata": {},
     "output_type": "execute_result"
    }
   ],
   "source": [
    "# fix columns\n",
    "df.columns = [col.lower().replace(' ','_') for col in df.columns]\n",
    "df.head()"
   ]
  },
  {
   "cell_type": "code",
   "execution_count": 120,
   "id": "96bac42d-66d6-4d02-b693-c28437ae0143",
   "metadata": {},
   "outputs": [],
   "source": [
    "df_backup = df.copy(deep=True)"
   ]
  },
  {
   "cell_type": "code",
   "execution_count": 121,
   "id": "90f7cf4c-84a2-4185-897e-f2079aa4f8d0",
   "metadata": {},
   "outputs": [],
   "source": [
    "# normalize data"
   ]
  },
  {
   "cell_type": "code",
   "execution_count": 122,
   "id": "af8be248-3df0-4242-b1d4-a9841f04bf08",
   "metadata": {},
   "outputs": [
    {
     "data": {
      "text/html": [
       "<div>\n",
       "<style scoped>\n",
       "    .dataframe tbody tr th:only-of-type {\n",
       "        vertical-align: middle;\n",
       "    }\n",
       "\n",
       "    .dataframe tbody tr th {\n",
       "        vertical-align: top;\n",
       "    }\n",
       "\n",
       "    .dataframe thead th {\n",
       "        text-align: right;\n",
       "    }\n",
       "</style>\n",
       "<table border=\"1\" class=\"dataframe\">\n",
       "  <thead>\n",
       "    <tr style=\"text-align: right;\">\n",
       "      <th></th>\n",
       "      <th>fixed_acidity</th>\n",
       "      <th>volatile_acidity</th>\n",
       "      <th>citric_acid</th>\n",
       "      <th>residual_sugar</th>\n",
       "      <th>chlorides</th>\n",
       "      <th>free_sulfur_dioxide</th>\n",
       "      <th>total_sulfur_dioxide</th>\n",
       "      <th>density</th>\n",
       "      <th>ph</th>\n",
       "      <th>sulphates</th>\n",
       "      <th>alcohol</th>\n",
       "      <th>quality</th>\n",
       "    </tr>\n",
       "  </thead>\n",
       "  <tbody>\n",
       "    <tr>\n",
       "      <th>0</th>\n",
       "      <td>0.492958</td>\n",
       "      <td>0.245455</td>\n",
       "      <td>0.216867</td>\n",
       "      <td>0.314590</td>\n",
       "      <td>0.130058</td>\n",
       "      <td>0.155709</td>\n",
       "      <td>0.386364</td>\n",
       "      <td>0.963445</td>\n",
       "      <td>0.785340</td>\n",
       "      <td>0.416667</td>\n",
       "      <td>0.619718</td>\n",
       "      <td>0.666667</td>\n",
       "    </tr>\n",
       "    <tr>\n",
       "      <th>1</th>\n",
       "      <td>0.443662</td>\n",
       "      <td>0.272727</td>\n",
       "      <td>0.204819</td>\n",
       "      <td>0.024316</td>\n",
       "      <td>0.141618</td>\n",
       "      <td>0.048443</td>\n",
       "      <td>0.300000</td>\n",
       "      <td>0.956708</td>\n",
       "      <td>0.863874</td>\n",
       "      <td>0.453704</td>\n",
       "      <td>0.669014</td>\n",
       "      <td>0.666667</td>\n",
       "    </tr>\n",
       "    <tr>\n",
       "      <th>2</th>\n",
       "      <td>0.570423</td>\n",
       "      <td>0.254545</td>\n",
       "      <td>0.240964</td>\n",
       "      <td>0.104863</td>\n",
       "      <td>0.144509</td>\n",
       "      <td>0.103806</td>\n",
       "      <td>0.220455</td>\n",
       "      <td>0.957766</td>\n",
       "      <td>0.853403</td>\n",
       "      <td>0.407407</td>\n",
       "      <td>0.711268</td>\n",
       "      <td>0.666667</td>\n",
       "    </tr>\n",
       "    <tr>\n",
       "      <th>3</th>\n",
       "      <td>0.507042</td>\n",
       "      <td>0.209091</td>\n",
       "      <td>0.192771</td>\n",
       "      <td>0.129179</td>\n",
       "      <td>0.167630</td>\n",
       "      <td>0.162630</td>\n",
       "      <td>0.422727</td>\n",
       "      <td>0.958248</td>\n",
       "      <td>0.835079</td>\n",
       "      <td>0.370370</td>\n",
       "      <td>0.697183</td>\n",
       "      <td>0.666667</td>\n",
       "    </tr>\n",
       "    <tr>\n",
       "      <th>4</th>\n",
       "      <td>0.507042</td>\n",
       "      <td>0.209091</td>\n",
       "      <td>0.192771</td>\n",
       "      <td>0.129179</td>\n",
       "      <td>0.167630</td>\n",
       "      <td>0.162630</td>\n",
       "      <td>0.422727</td>\n",
       "      <td>0.958248</td>\n",
       "      <td>0.835079</td>\n",
       "      <td>0.370370</td>\n",
       "      <td>0.697183</td>\n",
       "      <td>0.666667</td>\n",
       "    </tr>\n",
       "  </tbody>\n",
       "</table>\n",
       "</div>"
      ],
      "text/plain": [
       "   fixed_acidity  volatile_acidity  citric_acid  residual_sugar  chlorides  \\\n",
       "0       0.492958          0.245455     0.216867        0.314590   0.130058   \n",
       "1       0.443662          0.272727     0.204819        0.024316   0.141618   \n",
       "2       0.570423          0.254545     0.240964        0.104863   0.144509   \n",
       "3       0.507042          0.209091     0.192771        0.129179   0.167630   \n",
       "4       0.507042          0.209091     0.192771        0.129179   0.167630   \n",
       "\n",
       "   free_sulfur_dioxide  total_sulfur_dioxide   density        ph  sulphates  \\\n",
       "0             0.155709              0.386364  0.963445  0.785340   0.416667   \n",
       "1             0.048443              0.300000  0.956708  0.863874   0.453704   \n",
       "2             0.103806              0.220455  0.957766  0.853403   0.407407   \n",
       "3             0.162630              0.422727  0.958248  0.835079   0.370370   \n",
       "4             0.162630              0.422727  0.958248  0.835079   0.370370   \n",
       "\n",
       "    alcohol   quality  \n",
       "0  0.619718  0.666667  \n",
       "1  0.669014  0.666667  \n",
       "2  0.711268  0.666667  \n",
       "3  0.697183  0.666667  \n",
       "4  0.697183  0.666667  "
      ]
     },
     "execution_count": 122,
     "metadata": {},
     "output_type": "execute_result"
    }
   ],
   "source": [
    "for col in df.columns:\n",
    "    df.loc[:,col] = df[col]/df[col].max()\n",
    "df.head()"
   ]
  },
  {
   "cell_type": "code",
   "execution_count": 123,
   "id": "f138d6cb-68de-4ca6-93a2-430aa231deb1",
   "metadata": {},
   "outputs": [
    {
     "data": {
      "text/plain": [
       "((3918, 12), (980, 12), (4898, 12))"
      ]
     },
     "execution_count": 123,
     "metadata": {},
     "output_type": "execute_result"
    }
   ],
   "source": [
    "df_train = df.sample(frac=0.8).sample(frac=1)\n",
    "valid_index = [ind for ind in df.index if ind not in df_train.index]\n",
    "df_valid = df.loc[valid_index,:]\n",
    "df_train.shape, df_valid.shape, df.shape"
   ]
  },
  {
   "cell_type": "code",
   "execution_count": 124,
   "id": "20bedabd-9d9a-4c48-8655-5d73612db746",
   "metadata": {},
   "outputs": [],
   "source": [
    "TARGET_INDEX = -1\n",
    "y_train = df_train.iloc[:,TARGET_INDEX:].copy(deep=True).reset_index(drop=True)\n",
    "X_train = df_train.iloc[:,:TARGET_INDEX].copy(deep=True).reset_index(drop=True)\n",
    "\n",
    "y_test = df_valid.iloc[:,TARGET_INDEX:].copy(deep=True).reset_index(drop=True)\n",
    "X_test = df_valid.iloc[:,:TARGET_INDEX].copy(deep=True).reset_index(drop=True)"
   ]
  },
  {
   "cell_type": "code",
   "execution_count": 127,
   "id": "9835c88d-9b83-487e-b26a-69fc3a5faec2",
   "metadata": {},
   "outputs": [
    {
     "name": "stdout",
     "output_type": "stream",
     "text": [
      "<class 'pandas.core.frame.DataFrame'>\n",
      "RangeIndex: 3918 entries, 0 to 3917\n",
      "Data columns (total 11 columns):\n",
      " #   Column                Non-Null Count  Dtype  \n",
      "---  ------                --------------  -----  \n",
      " 0   fixed_acidity         3918 non-null   float64\n",
      " 1   volatile_acidity      3918 non-null   float64\n",
      " 2   citric_acid           3918 non-null   float64\n",
      " 3   residual_sugar        3918 non-null   float64\n",
      " 4   chlorides             3918 non-null   float64\n",
      " 5   free_sulfur_dioxide   3918 non-null   float64\n",
      " 6   total_sulfur_dioxide  3918 non-null   float64\n",
      " 7   density               3918 non-null   float64\n",
      " 8   ph                    3918 non-null   float64\n",
      " 9   sulphates             3918 non-null   float64\n",
      " 10  alcohol               3918 non-null   float64\n",
      "dtypes: float64(11)\n",
      "memory usage: 336.8 KB\n"
     ]
    }
   ],
   "source": [
    "X_train.info()"
   ]
  },
  {
   "cell_type": "code",
   "execution_count": 128,
   "id": "6d25efbb-3f73-4622-9122-85b020159858",
   "metadata": {},
   "outputs": [],
   "source": [
    "X_train = X_train.astype(np.float32)\n",
    "y_train = y_train.astype(np.float32)\n",
    "\n",
    "X_test = X_test.astype(np.float32)\n",
    "y_test = y_test.astype(np.float32)"
   ]
  },
  {
   "cell_type": "code",
   "execution_count": 129,
   "id": "6d105f6a-bd69-479b-865e-1405113059dd",
   "metadata": {},
   "outputs": [],
   "source": [
    "X_train_np = X_train.to_numpy()\n",
    "y_train_np = y_train.to_numpy()\n",
    "\n",
    "X_test_np = X_test.to_numpy()\n",
    "y_test_np = y_test.to_numpy()"
   ]
  },
  {
   "cell_type": "code",
   "execution_count": 130,
   "id": "b4647e1c-f352-451d-9bcc-ff908f8c5447",
   "metadata": {},
   "outputs": [
    {
     "data": {
      "text/plain": [
       "'torch.FloatTensor'"
      ]
     },
     "execution_count": 130,
     "metadata": {},
     "output_type": "execute_result"
    }
   ],
   "source": [
    "X_train_t = torch.from_numpy(X_train_np)\n",
    "X_train_t.type()"
   ]
  },
  {
   "cell_type": "code",
   "execution_count": 131,
   "id": "3457a0b1-b1b5-4656-b967-9e2da7bd8f54",
   "metadata": {},
   "outputs": [
    {
     "data": {
      "text/plain": [
       "'torch.FloatTensor'"
      ]
     },
     "execution_count": 131,
     "metadata": {},
     "output_type": "execute_result"
    }
   ],
   "source": [
    "X_test_t = torch.from_numpy(X_test_np)\n",
    "X_test_t.type()"
   ]
  },
  {
   "cell_type": "code",
   "execution_count": 132,
   "id": "b0334056-3970-428f-823f-d1c75e40682a",
   "metadata": {},
   "outputs": [
    {
     "data": {
      "text/plain": [
       "'torch.FloatTensor'"
      ]
     },
     "execution_count": 132,
     "metadata": {},
     "output_type": "execute_result"
    }
   ],
   "source": [
    "y_train_t = torch.from_numpy(y_train_np)\n",
    "y_train_t.type()"
   ]
  },
  {
   "cell_type": "code",
   "execution_count": 133,
   "id": "cecf3ed3-8d6d-4512-be31-6b34d8b677ba",
   "metadata": {},
   "outputs": [
    {
     "data": {
      "text/plain": [
       "'torch.FloatTensor'"
      ]
     },
     "execution_count": 133,
     "metadata": {},
     "output_type": "execute_result"
    }
   ],
   "source": [
    "y_test_t = torch.from_numpy(y_test_np)\n",
    "y_test_t.type()"
   ]
  },
  {
   "cell_type": "code",
   "execution_count": 134,
   "id": "bf8889de-2ebc-4cad-a110-b5996c2230a1",
   "metadata": {},
   "outputs": [
    {
     "data": {
      "text/plain": [
       "torch.Size([3918, 11])"
      ]
     },
     "execution_count": 134,
     "metadata": {},
     "output_type": "execute_result"
    }
   ],
   "source": [
    "X_train_t.shape"
   ]
  },
  {
   "cell_type": "code",
   "execution_count": 135,
   "id": "4341061b-2970-4834-8857-8bffd1413178",
   "metadata": {},
   "outputs": [
    {
     "data": {
      "text/plain": [
       "torch.Size([3918, 1])"
      ]
     },
     "execution_count": 135,
     "metadata": {},
     "output_type": "execute_result"
    }
   ],
   "source": [
    "y_train_t.shape"
   ]
  },
  {
   "cell_type": "code",
   "execution_count": 155,
   "id": "77bb685c-9bef-4e8b-b742-f568fd5e58f4",
   "metadata": {},
   "outputs": [],
   "source": [
    "model = nn.Sequential(\n",
    "    nn.Linear(11,22),\n",
    "    nn.ReLU(),\n",
    "    nn.Linear(22,44),\n",
    "    nn.ReLU(),\n",
    "    nn.Linear(44,22),\n",
    "    nn.ReLU(),\n",
    "    nn.Linear(22,11),\n",
    "    nn.ReLU(),\n",
    "    nn.Linear(11,1)\n",
    ")"
   ]
  },
  {
   "cell_type": "code",
   "execution_count": 156,
   "id": "e2aff852-3511-46e5-aab9-67fa4057e543",
   "metadata": {},
   "outputs": [],
   "source": [
    "def training_loop(n_epochs, optimizer, model, loss_fn, X_train, X_test, y_train, y_test):\n",
    "    \"\"\"\n",
    "    \"\"\"\n",
    "    for epoch in range(1,n_epochs+1):\n",
    "        # get predictions and loss on training\n",
    "        pred = model(X_train)\n",
    "        loss_train = loss_fn(pred, X_train)\n",
    "        \n",
    "        # validation\n",
    "        pred_val = model(X_test)\n",
    "        loss_val = loss_fn(pred_val, X_test)\n",
    "        \n",
    "        # make updates\n",
    "        optimizer.zero_grad() # reset\n",
    "        loss_train.backward() # calculate grad\n",
    "        optimizer.step() # apply changes to parameters\n",
    "        \n",
    "        if epoch < 11 or epoch % 250 == 0:\n",
    "            print(f\"Epoch {epoch}, Training loss {loss_train.item():.4f},\"\n",
    "                  f\" Validation loss {loss_val.item():.4f}\")\n",
    "    return"
   ]
  },
  {
   "cell_type": "code",
   "execution_count": 157,
   "id": "5089c9ff-78f5-4a13-ac0d-f3293f084e73",
   "metadata": {},
   "outputs": [],
   "source": [
    "optimizer = optim.SGD(model.parameters(), lr=1e-4)"
   ]
  },
  {
   "cell_type": "code",
   "execution_count": 158,
   "id": "77e1cfdd-c05c-428e-8bbe-dc98568064fa",
   "metadata": {},
   "outputs": [
    {
     "name": "stdout",
     "output_type": "stream",
     "text": [
      "Epoch 1, Training loss 0.1323, Validation loss 0.1328\n",
      "Epoch 2, Training loss 0.1323, Validation loss 0.1327\n",
      "Epoch 3, Training loss 0.1323, Validation loss 0.1327\n",
      "Epoch 4, Training loss 0.1322, Validation loss 0.1327\n",
      "Epoch 5, Training loss 0.1322, Validation loss 0.1327\n",
      "Epoch 6, Training loss 0.1322, Validation loss 0.1327\n",
      "Epoch 7, Training loss 0.1322, Validation loss 0.1326\n",
      "Epoch 8, Training loss 0.1322, Validation loss 0.1326\n",
      "Epoch 9, Training loss 0.1321, Validation loss 0.1326\n",
      "Epoch 10, Training loss 0.1321, Validation loss 0.1326\n",
      "Epoch 250, Training loss 0.1272, Validation loss 0.1276\n",
      "Epoch 500, Training loss 0.1227, Validation loss 0.1230\n",
      "Epoch 750, Training loss 0.1186, Validation loss 0.1190\n",
      "Epoch 1000, Training loss 0.1151, Validation loss 0.1154\n",
      "Epoch 1250, Training loss 0.1120, Validation loss 0.1123\n",
      "Epoch 1500, Training loss 0.1093, Validation loss 0.1095\n",
      "Epoch 1750, Training loss 0.1069, Validation loss 0.1071\n",
      "Epoch 2000, Training loss 0.1048, Validation loss 0.1050\n",
      "Epoch 2250, Training loss 0.1030, Validation loss 0.1031\n",
      "Epoch 2500, Training loss 0.1013, Validation loss 0.1015\n",
      "Epoch 2750, Training loss 0.0999, Validation loss 0.1000\n",
      "Epoch 3000, Training loss 0.0987, Validation loss 0.0988\n"
     ]
    }
   ],
   "source": [
    "training_loop(\n",
    "n_epochs=3000,\n",
    "optimizer=optimizer,\n",
    "model=model,\n",
    "loss_fn=nn.MSELoss(),\n",
    "X_train=X_train_t,\n",
    "X_test=X_test_t,\n",
    "y_train=y_train_t,\n",
    "y_test=y_test_t)"
   ]
  },
  {
   "cell_type": "markdown",
   "id": "7ab75bd1-f5cd-4883-b455-62e7df44157c",
   "metadata": {},
   "source": [
    "a) how long does it take to train compared to the temperature data set?"
   ]
  },
  {
   "cell_type": "code",
   "execution_count": 145,
   "id": "30196a56-eff5-4145-9d19-14ecd27e48aa",
   "metadata": {},
   "outputs": [],
   "source": [
    "# it takes longer"
   ]
  },
  {
   "cell_type": "markdown",
   "id": "ec8fb164-e391-40ac-a38a-4d9dd729ea61",
   "metadata": {},
   "source": [
    "b) can you explain what factors contribute to the training times?"
   ]
  },
  {
   "cell_type": "code",
   "execution_count": 146,
   "id": "e00dd303-f684-44e9-ac84-2174133cf1c0",
   "metadata": {},
   "outputs": [],
   "source": [
    "# the dimensionality of the space is much higher, so we have more free paramaters that need optimization"
   ]
  },
  {
   "cell_type": "markdown",
   "id": "811cbf54-4358-4950-bcad-33aed99076b0",
   "metadata": {},
   "source": [
    "c) can you get the loss to decrease while training on this dataset?"
   ]
  },
  {
   "cell_type": "code",
   "execution_count": null,
   "id": "e3a8f42c-e235-4614-93b1-03b8ed114ca9",
   "metadata": {},
   "outputs": [],
   "source": [
    "# yes, I needed to add capacity to the model inorder for error to go down in both training and validation"
   ]
  },
  {
   "cell_type": "markdown",
   "id": "01bd7b4e-496e-45ca-9dff-c01d57964255",
   "metadata": {},
   "source": [
    "d) how would you go about graphing this dataset?"
   ]
  },
  {
   "cell_type": "code",
   "execution_count": 159,
   "id": "9325e8d5-5aca-47bf-8a5c-7b10f841ff89",
   "metadata": {},
   "outputs": [],
   "source": [
    "# i would look at something like x=truth, y=pred and see how broad the spread is , like a heatmap almost"
   ]
  },
  {
   "cell_type": "code",
   "execution_count": 163,
   "id": "9261f705-4469-4c09-a7f0-53018fa7eca1",
   "metadata": {},
   "outputs": [],
   "source": [
    "truth = y_test_t.detach().numpy()\n",
    "pred = model(X_test_t).detach().numpy()"
   ]
  },
  {
   "cell_type": "code",
   "execution_count": 164,
   "id": "3aa5e8fc-783a-4b48-a53f-251e037e9e87",
   "metadata": {},
   "outputs": [],
   "source": [
    "import matplotlib.pyplot as plt"
   ]
  },
  {
   "cell_type": "code",
   "execution_count": 165,
   "id": "4100913d-b142-4ca5-97a6-b3611661377c",
   "metadata": {},
   "outputs": [
    {
     "data": {
      "text/plain": [
       "<matplotlib.collections.PathCollection at 0x7fdf3026a438>"
      ]
     },
     "execution_count": 165,
     "metadata": {},
     "output_type": "execute_result"
    },
    {
     "data": {
      "image/png": "[encoded data removed]",
      "text/plain": [
       "<Figure size 432x288 with 1 Axes>"
      ]
     },
     "metadata": {
      "needs_background": "light"
     },
     "output_type": "display_data"
    }
   ],
   "source": [
    "plt.scatter(x=truth, y=pred, alpha=0.1)"
   ]
  },
  {
   "cell_type": "code",
   "execution_count": null,
   "id": "5929fea1-0964-4f8f-b65a-e3721516d599",
   "metadata": {},
   "outputs": [],
   "source": []
  }
 ],
 "metadata": {
  "kernelspec": {
   "display_name": "k_dlwpt",
   "language": "python",
   "name": "conda-env-k_dlwpt-py"
  },
  "language_info": {
   "codemirror_mode": {
    "name": "ipython",
    "version": 3
   },
   "file_extension": ".py",
   "mimetype": "text/x-python",
   "name": "python",
   "nbconvert_exporter": "python",
   "pygments_lexer": "ipython3",
   "version": "3.6.8"
  }
 },
 "nbformat": 4,
 "nbformat_minor": 5
}

{
 "cells": [
  {
   "cell_type": "markdown",
   "id": "dcb585c7-60aa-4023-b435-7041dfc81147",
   "metadata": {},
   "source": [
    "# Chapter 7 - Exercises "
   ]
  },
  {
   "cell_type": "markdown",
   "id": "6bfc2650-d6e7-496e-802f-f342766a9e37",
   "metadata": {},
   "source": [
    "1. Use `torchvision` to implement random cropping of the data."
   ]
  },
  {
   "cell_type": "code",
   "execution_count": 1,
   "id": "15f08944-da2d-4957-87a3-c26185ad42f2",
   "metadata": {},
   "outputs": [
    {
     "data": {
      "text/plain": [
       "<torch._C.Generator at 0x7fc1c80230d0>"
      ]
     },
     "execution_count": 1,
     "metadata": {},
     "output_type": "execute_result"
    }
   ],
   "source": [
    "import torch\n",
    "import torch.nn as nn\n",
    "import torch.optim as optim\n",
    "import torchvision as tv\n",
    "from torchvision import transforms\n",
    "from torchvision import datasets\n",
    "\n",
    "import numpy as np\n",
    "\n",
    "%matplotlib inline\n",
    "from matplotlib import pyplot as plt\n",
    "\n",
    "torch.set_printoptions(edgeitems=2, linewidth=75)\n",
    "torch.manual_seed(123)"
   ]
  },
  {
   "cell_type": "code",
   "execution_count": 2,
   "id": "2eb4b5ce-3abe-451f-a622-e7b8f769e43e",
   "metadata": {},
   "outputs": [],
   "source": [
    "# some of this is copied from the notes workbook"
   ]
  },
  {
   "cell_type": "code",
   "execution_count": 3,
   "id": "665638bf-5775-4c8c-be01-b517f9e30060",
   "metadata": {},
   "outputs": [],
   "source": [
    "data_path = 'data_unversioned/chapter07/'"
   ]
  },
  {
   "cell_type": "code",
   "execution_count": 4,
   "id": "add52d1b-fbce-4b6d-8c56-f1165b931bdb",
   "metadata": {},
   "outputs": [],
   "source": [
    "means = np.array([0.49147, 0.48226798, 0.44678035], dtype=np.float32)\n",
    "stds = np.array([0.24703224, 0.24348514, 0.26158786], dtype=np.float32)"
   ]
  },
  {
   "cell_type": "code",
   "execution_count": 5,
   "id": "5024d07e-f3bc-464b-80e0-530d52eeb1e1",
   "metadata": {},
   "outputs": [
    {
     "name": "stdout",
     "output_type": "stream",
     "text": [
      "Files already downloaded and verified\n",
      "Files already downloaded and verified\n"
     ]
    }
   ],
   "source": [
    "transformed_cifar10 = datasets.CIFAR10(data_path, train=True, download=True,\n",
    "                                    transform=transforms.Compose([\n",
    "                                        transforms.RandomCrop(24, pad_if_needed=True, padding=8, fill=(0,0,0)),\n",
    "                                        transforms.ToTensor(),\n",
    "                                        transforms.Normalize(mean=means, std=stds),]))\n",
    "\n",
    "transformed_cifar10_val = datasets.CIFAR10(data_path, train=False, download=True,\n",
    "                                    transform=transforms.Compose([\n",
    "                                        transforms.RandomCrop(24, pad_if_needed=True, padding=8, fill=(0,0,0)),\n",
    "                                        transforms.ToTensor(),\n",
    "                                        transforms.Normalize(mean=means, std=stds),]))"
   ]
  },
  {
   "cell_type": "code",
   "execution_count": 6,
   "id": "13db21e6-39ab-407f-b3be-abdd3fbbe2fd",
   "metadata": {},
   "outputs": [],
   "source": [
    "# taken from another notebook\n",
    "class_names = ['airplane','automobile','bird','cat','deer',\n",
    "               'dog','frog','horse','ship','truck']"
   ]
  },
  {
   "cell_type": "markdown",
   "id": "25d83a9f-c206-4304-aea4-1956bddbf343",
   "metadata": {},
   "source": [
    "a) how are the resulting images different from the uncropped?"
   ]
  },
  {
   "cell_type": "markdown",
   "id": "3a7204b2-986a-4f85-ac15-96a807f09f37",
   "metadata": {},
   "source": [
    "> they are smaller, if i don't specify additional parameters\n",
    "> \n",
    "> they are padded otherwise"
   ]
  },
  {
   "cell_type": "markdown",
   "id": "6051bae4-6a0a-40ee-b382-3929c0e1790b",
   "metadata": {},
   "source": [
    "b) what happens when you request the same image a second time?"
   ]
  },
  {
   "cell_type": "markdown",
   "id": "be2206b1-1497-45c9-bdd2-755302f82d19",
   "metadata": {},
   "source": [
    "> note: the order does matter\n",
    "> \n",
    "> each time the image is called the cropping is randomized"
   ]
  },
  {
   "cell_type": "code",
   "execution_count": 7,
   "id": "721839d8-f158-4aba-85ec-f8d73235c0e1",
   "metadata": {},
   "outputs": [
    {
     "name": "stderr",
     "output_type": "stream",
     "text": [
      "Clipping input data to the valid range for imshow with RGB data ([0..1] for floats or [0..255] for integers).\n"
     ]
    },
    {
     "data": {
      "image/png": "[encoded data removed]",
      "text/plain": [
       "<Figure size 432x288 with 1 Axes>"
      ]
     },
     "metadata": {
      "needs_background": "light"
     },
     "output_type": "display_data"
    }
   ],
   "source": [
    "img, label = transformed_cifar10[99]\n",
    "img, label, class_names[label]\n",
    "plt.imshow(img.permute(1,2,0))\n",
    "plt.show()"
   ]
  },
  {
   "cell_type": "code",
   "execution_count": 8,
   "id": "99f2c939-74d4-49f0-a138-6194b3d42314",
   "metadata": {},
   "outputs": [
    {
     "name": "stderr",
     "output_type": "stream",
     "text": [
      "Clipping input data to the valid range for imshow with RGB data ([0..1] for floats or [0..255] for integers).\n"
     ]
    },
    {
     "data": {
      "image/png": "[encoded data removed]",
      "text/plain": [
       "<Figure size 432x288 with 1 Axes>"
      ]
     },
     "metadata": {
      "needs_background": "light"
     },
     "output_type": "display_data"
    }
   ],
   "source": [
    "img, label = transformed_cifar10[99]\n",
    "img, label, class_names[label]\n",
    "plt.imshow(img.permute(1,2,0))\n",
    "plt.show()"
   ]
  },
  {
   "cell_type": "code",
   "execution_count": 9,
   "id": "3705b788-6d25-40dc-93d8-91290e7f4652",
   "metadata": {},
   "outputs": [
    {
     "name": "stderr",
     "output_type": "stream",
     "text": [
      "Clipping input data to the valid range for imshow with RGB data ([0..1] for floats or [0..255] for integers).\n"
     ]
    },
    {
     "data": {
      "image/png": "[encoded data removed]",
      "text/plain": [
       "<Figure size 432x288 with 1 Axes>"
      ]
     },
     "metadata": {
      "needs_background": "light"
     },
     "output_type": "display_data"
    }
   ],
   "source": [
    "img, label = transformed_cifar10[99]\n",
    "img, label, class_names[label]\n",
    "plt.imshow(img.permute(1,2,0))\n",
    "plt.show()"
   ]
  },
  {
   "cell_type": "markdown",
   "id": "58f01222-b72d-4142-8f35-677f7c8f8616",
   "metadata": {},
   "source": [
    "c) what is the result of training using randomly cropped images?"
   ]
  },
  {
   "cell_type": "markdown",
   "id": "293b9b17-6821-4d80-8ade-ebde2e5b1b67",
   "metadata": {},
   "source": [
    "2. Switch Loss functions (perhaps MSE)."
   ]
  },
  {
   "cell_type": "code",
   "execution_count": 10,
   "id": "f778105d-1291-41b1-a930-e351d1a7819a",
   "metadata": {},
   "outputs": [
    {
     "data": {
      "text/plain": [
       "10000"
      ]
     },
     "execution_count": 10,
     "metadata": {},
     "output_type": "execute_result"
    }
   ],
   "source": [
    "# get only birds and planes\n",
    "label_map = {0:0, 2:1}\n",
    "class_names = ['airplane', 'bird']\n",
    "\n",
    "# build a list of tuples with (image, class_name)\n",
    "cifar2 = [(img, label_map[label]) for img, label in transformed_cifar10 if label in label_map.keys()]\n",
    "cifar2_val = [(img, label_map[label]) for img, label in transformed_cifar10_val if label in label_map.keys()]\n",
    "len(cifar2)"
   ]
  },
  {
   "cell_type": "code",
   "execution_count": 11,
   "id": "64bc0951-09cc-48f1-8249-36ff4b1eb4a4",
   "metadata": {},
   "outputs": [],
   "source": [
    "# training loop with dataloader and minibatching\n",
    "train_loader = torch.utils.data.DataLoader(cifar2, \n",
    "                                          batch_size=64,\n",
    "                                          shuffle=True)"
   ]
  },
  {
   "cell_type": "code",
   "execution_count": 12,
   "id": "d85a151f-2944-4b4a-a510-d660a9ab74ce",
   "metadata": {},
   "outputs": [],
   "source": [
    "INPUT_SIZE = 3 * 24 * 24"
   ]
  },
  {
   "cell_type": "code",
   "execution_count": 13,
   "id": "75240ed6-929e-4791-a3d8-a0a5bcdaadb5",
   "metadata": {},
   "outputs": [],
   "source": [
    "\n",
    "\n",
    "model = nn.Sequential(\n",
    "    nn.Linear(INPUT_SIZE, 1024),\n",
    "    nn.Tanh(),\n",
    "    nn.Linear(1024, 512),\n",
    "    nn.Tanh(),\n",
    "    nn.Linear(512, 128),\n",
    "    nn.Tanh(),\n",
    "    nn.Linear(128, 2),\n",
    ") # remove nn.LogSoftMax --> this will be combined with NLLLoss to form nn.CrossEntropyLoss"
   ]
  },
  {
   "cell_type": "code",
   "execution_count": 14,
   "id": "c4396d39-eb07-4885-a673-3eea022c1b42",
   "metadata": {},
   "outputs": [],
   "source": [
    "learning_rate = 1e-2\n",
    "\n",
    "n_epochs = 25"
   ]
  },
  {
   "cell_type": "code",
   "execution_count": 15,
   "id": "4edc64a2-d5a3-4a2d-b34d-d1465aace33c",
   "metadata": {},
   "outputs": [],
   "source": [
    "optimizer = optim.SGD(model.parameters(), lr=learning_rate)"
   ]
  },
  {
   "cell_type": "code",
   "execution_count": 16,
   "id": "24e15579-c5f8-4043-91ce-f861ef4f4f2a",
   "metadata": {},
   "outputs": [],
   "source": [
    "loss_fn = nn.CrossEntropyLoss() # nn.NLLLoss() combined with nn.LogSoftMax()"
   ]
  },
  {
   "cell_type": "code",
   "execution_count": 17,
   "id": "876c0dd2-3722-48a5-8214-64d8337e2255",
   "metadata": {},
   "outputs": [
    {
     "name": "stdout",
     "output_type": "stream",
     "text": [
      "Epoch: 0, Loss: 0.501965\n",
      "Epoch: 1, Loss: 0.711007\n",
      "Epoch: 2, Loss: 0.408938\n",
      "Epoch: 3, Loss: 0.401662\n",
      "Epoch: 4, Loss: 0.331118\n",
      "Epoch: 5, Loss: 0.474196\n",
      "Epoch: 6, Loss: 0.312507\n",
      "Epoch: 7, Loss: 0.509518\n",
      "Epoch: 8, Loss: 0.490111\n",
      "Epoch: 9, Loss: 0.462842\n",
      "Epoch: 10, Loss: 0.490125\n",
      "Epoch: 11, Loss: 0.917483\n",
      "Epoch: 12, Loss: 0.288216\n",
      "Epoch: 13, Loss: 0.301163\n",
      "Epoch: 14, Loss: 0.529121\n",
      "Epoch: 15, Loss: 0.427207\n",
      "Epoch: 16, Loss: 0.444040\n",
      "Epoch: 17, Loss: 0.515681\n",
      "Epoch: 18, Loss: 0.575398\n",
      "Epoch: 19, Loss: 0.278662\n",
      "Epoch: 20, Loss: 0.375976\n",
      "Epoch: 21, Loss: 0.243204\n",
      "Epoch: 22, Loss: 0.420740\n",
      "Epoch: 23, Loss: 0.724973\n",
      "Epoch: 24, Loss: 0.452918\n"
     ]
    }
   ],
   "source": [
    "# training loop \n",
    "for epoch in range(n_epochs):\n",
    "    #for img, label in cifar2:\n",
    "    for imgs, labels in train_loader:\n",
    "        batch_size = imgs.shape[0]\n",
    "        outputs = model(imgs.view(batch_size, -1)) # keep the batch size shape and combine other dimensions, should be 64, 3072\n",
    "        loss = loss_fn(outputs, labels)\n",
    "        \n",
    "        optimizer.zero_grad()\n",
    "        loss.backward()\n",
    "        optimizer.step()\n",
    "    \n",
    "    print(\"Epoch: %d, Loss: %f\" % (epoch, float(loss)))"
   ]
  },
  {
   "cell_type": "markdown",
   "id": "35dc5067-d536-479a-8d21-e4dca647ce4e",
   "metadata": {},
   "source": [
    "> now with alternative loss function"
   ]
  },
  {
   "cell_type": "code",
   "execution_count": 86,
   "id": "50c9758a-47da-4c3d-83c8-25578c61584a",
   "metadata": {},
   "outputs": [],
   "source": [
    "INPUT_SIZE = 3 * 24 * 24"
   ]
  },
  {
   "cell_type": "code",
   "execution_count": 87,
   "id": "0924c3dd-e6b4-43fb-a67d-652660986f86",
   "metadata": {},
   "outputs": [],
   "source": [
    "model = nn.Sequential(\n",
    "    nn.Linear(INPUT_SIZE, 1024),\n",
    "    nn.Tanh(),\n",
    "    nn.Linear(1024, 512),\n",
    "    nn.Tanh(),\n",
    "    nn.Linear(512, 128),\n",
    "    nn.Tanh(),\n",
    "    nn.Linear(128, 2),\n",
    "    nn.LogSoftmax(dim=1),\n",
    ") # remove nn.LogSoftMax --> this will be combined with NLLLoss to form nn.CrossEntropyLoss"
   ]
  },
  {
   "cell_type": "code",
   "execution_count": 88,
   "id": "807b604a-b847-4948-bb7d-c736ce3ac592",
   "metadata": {},
   "outputs": [],
   "source": [
    "# training loop with dataloader and minibatching\n",
    "train_loader = torch.utils.data.DataLoader(cifar2, \n",
    "                                          batch_size=64,\n",
    "                                          shuffle=True)"
   ]
  },
  {
   "cell_type": "code",
   "execution_count": 89,
   "id": "cbab031a-bda0-4053-98c3-d4fa67b1d28c",
   "metadata": {},
   "outputs": [],
   "source": [
    "learning_rate = 1e-2\n",
    "\n",
    "n_epochs = 25"
   ]
  },
  {
   "cell_type": "code",
   "execution_count": 90,
   "id": "f381a2bf-600e-4ef4-afc1-b73176b361f2",
   "metadata": {},
   "outputs": [],
   "source": [
    "optimizer = optim.SGD(model.parameters(), lr=learning_rate)"
   ]
  },
  {
   "cell_type": "code",
   "execution_count": 91,
   "id": "21f78fd2-390f-441d-9df8-3171fccfc0ed",
   "metadata": {},
   "outputs": [],
   "source": [
    "loss_fn = nn.MSELoss() # nn.CrossEntropyLoss() # nn.NLLLoss() combined with nn.LogSoftMax()"
   ]
  },
  {
   "cell_type": "code",
   "execution_count": 92,
   "id": "14c24fff-27d8-422c-ad28-18e638ff17db",
   "metadata": {},
   "outputs": [
    {
     "name": "stdout",
     "output_type": "stream",
     "text": [
      "Epoch: 0, Loss: 1.041519\n",
      "Epoch: 1, Loss: 1.013459\n",
      "Epoch: 2, Loss: 1.010017\n",
      "Epoch: 3, Loss: 1.021184\n",
      "Epoch: 4, Loss: 1.004538\n",
      "Epoch: 5, Loss: 1.000258\n",
      "Epoch: 6, Loss: 1.002477\n",
      "Epoch: 7, Loss: 1.002236\n",
      "Epoch: 8, Loss: 1.000155\n",
      "Epoch: 9, Loss: 1.000086\n",
      "Epoch: 10, Loss: 1.000085\n",
      "Epoch: 11, Loss: 1.000082\n",
      "Epoch: 12, Loss: 1.001884\n",
      "Epoch: 13, Loss: 1.000407\n",
      "Epoch: 14, Loss: 1.000112\n",
      "Epoch: 15, Loss: 1.000000\n",
      "Epoch: 16, Loss: 1.000001\n",
      "Epoch: 17, Loss: 1.000045\n",
      "Epoch: 18, Loss: 1.000030\n",
      "Epoch: 19, Loss: 1.000084\n",
      "Epoch: 20, Loss: 1.000003\n",
      "Epoch: 21, Loss: 1.003764\n",
      "Epoch: 22, Loss: 1.000000\n",
      "Epoch: 23, Loss: 1.000149\n",
      "Epoch: 24, Loss: 1.000000\n"
     ]
    }
   ],
   "source": [
    "# training loop \n",
    "for epoch in range(n_epochs):\n",
    "    #for img, label in cifar2:\n",
    "    for imgs, labels in train_loader:\n",
    "        batch_size = imgs.shape[0]\n",
    "        outputs = model(imgs.view(batch_size, -1)) # keep the batch size shape and combine other dimensions, should be 64, 3072\n",
    "        loss = loss_fn(outputs.max(dim=1)[0], torch.ones(outputs.shape[0]))\n",
    "        \n",
    "        optimizer.zero_grad()\n",
    "        loss.backward()\n",
    "        optimizer.step()\n",
    "    \n",
    "    print(\"Epoch: %d, Loss: %f\" % (epoch, float(loss)))"
   ]
  },
  {
   "cell_type": "markdown",
   "id": "a903cc39-b5cd-4138-bf3b-b3ac26f9c0b0",
   "metadata": {},
   "source": [
    "a) Does training behavior change?"
   ]
  },
  {
   "cell_type": "markdown",
   "id": "3c33ba38-7c57-473b-8bf6-33a75020d13f",
   "metadata": {},
   "source": [
    "> yes, also, the methodology changes."
   ]
  },
  {
   "cell_type": "markdown",
   "id": "8d783b52-7c75-4f5b-8bd2-cc3fde65a671",
   "metadata": {},
   "source": [
    "3. Is it possible to reduce the capacity of the network that it stops overfitting?"
   ]
  },
  {
   "cell_type": "markdown",
   "id": "931c81c7-48be-49f7-a117-6a509f102251",
   "metadata": {},
   "source": [
    "> one method is to reduce the amount of epochs, for 25 epochs my validation/training accuracy is\n",
    "> `74%/81%`, while for 100 epochs the same model achieved `74%/99%`\n",
    ">\n",
    "> let's try reducing the capacity of the network. \n",
    "> with a reduced capacity, we have `75%/99%` over 100 epochs for one network, \n",
    "> reducing the capacity to INPUT_DIM -> 512 -> 16 -> 2 over 100 epochs had `73%/91%` accuracy \n",
    "> for the validation/test datasets. \n",
    "> \n",
    "> it seems to me that the amount of epochs has more of an effect on overfitting for these models, they have too \n",
    "> many free parameters. \n",
    "> \n",
    "> Reducing further, INPUT -> 8 -> 2 over 100 epochs results in : `72%/83%` accuracy. "
   ]
  },
  {
   "cell_type": "code",
   "execution_count": 93,
   "id": "4834eb5e-dc61-41ab-815c-e36f26e02057",
   "metadata": {},
   "outputs": [],
   "source": [
    "# let's revert to the original loss and check"
   ]
  },
  {
   "cell_type": "code",
   "execution_count": 100,
   "id": "e04fb840-3ff0-467d-94d1-f36a849cf79f",
   "metadata": {},
   "outputs": [],
   "source": [
    "# training loop with dataloader and minibatching\n",
    "train_loader = torch.utils.data.DataLoader(cifar2, \n",
    "                                          batch_size=64,\n",
    "                                          shuffle=True)\n",
    "\n",
    "INPUT_SIZE = 3 * 24 * 24"
   ]
  },
  {
   "cell_type": "code",
   "execution_count": 101,
   "id": "cf8f53d2-86c6-4bad-a9ca-86698d24dd94",
   "metadata": {},
   "outputs": [],
   "source": [
    "model = nn.Sequential(\n",
    "    nn.Linear(INPUT_SIZE, 1024),\n",
    "    nn.Tanh(),\n",
    "    nn.Linear(1024, 512),\n",
    "    nn.Tanh(),\n",
    "    nn.Linear(512, 128),\n",
    "    nn.Tanh(),\n",
    "    nn.Linear(128, 2),\n",
    ")"
   ]
  },
  {
   "cell_type": "code",
   "execution_count": 102,
   "id": "124360eb-790a-45d0-a5c7-09c5c5437321",
   "metadata": {},
   "outputs": [],
   "source": [
    "learning_rate = 1e-2\n",
    "\n",
    "n_epochs = 100\n",
    "\n",
    "optimizer = optim.SGD(model.parameters(), lr=learning_rate)\n",
    "\n",
    "loss_fn = nn.CrossEntropyLoss() # nn.NLLLoss() combined with nn.LogSoftMax()"
   ]
  },
  {
   "cell_type": "code",
   "execution_count": 103,
   "id": "2c6a0dd3-a0da-45b3-8c54-75038a29cd4f",
   "metadata": {},
   "outputs": [
    {
     "name": "stdout",
     "output_type": "stream",
     "text": [
      "Epoch: 0, Loss: 0.519897\n",
      "Epoch: 1, Loss: 0.611425\n",
      "Epoch: 2, Loss: 0.788594\n",
      "Epoch: 3, Loss: 0.613695\n",
      "Epoch: 4, Loss: 0.539989\n",
      "Epoch: 5, Loss: 0.418417\n",
      "Epoch: 6, Loss: 0.382884\n",
      "Epoch: 7, Loss: 0.531942\n",
      "Epoch: 8, Loss: 0.534258\n",
      "Epoch: 9, Loss: 0.248048\n",
      "Epoch: 10, Loss: 0.387952\n",
      "Epoch: 11, Loss: 0.412126\n",
      "Epoch: 12, Loss: 0.282294\n",
      "Epoch: 13, Loss: 0.362842\n",
      "Epoch: 14, Loss: 0.711015\n",
      "Epoch: 15, Loss: 0.241886\n",
      "Epoch: 16, Loss: 0.402121\n",
      "Epoch: 17, Loss: 0.480363\n",
      "Epoch: 18, Loss: 0.377664\n",
      "Epoch: 19, Loss: 0.447423\n",
      "Epoch: 20, Loss: 0.513945\n",
      "Epoch: 21, Loss: 0.413584\n",
      "Epoch: 22, Loss: 0.506713\n",
      "Epoch: 23, Loss: 0.467818\n",
      "Epoch: 24, Loss: 0.310545\n",
      "Epoch: 25, Loss: 0.231747\n",
      "Epoch: 26, Loss: 0.450283\n",
      "Epoch: 27, Loss: 0.714523\n",
      "Epoch: 28, Loss: 0.240903\n",
      "Epoch: 29, Loss: 0.355954\n",
      "Epoch: 30, Loss: 0.356308\n",
      "Epoch: 31, Loss: 0.227571\n",
      "Epoch: 32, Loss: 0.374449\n",
      "Epoch: 33, Loss: 0.528598\n",
      "Epoch: 34, Loss: 0.448959\n",
      "Epoch: 35, Loss: 0.145492\n",
      "Epoch: 36, Loss: 0.377587\n",
      "Epoch: 37, Loss: 0.204144\n",
      "Epoch: 38, Loss: 0.209005\n",
      "Epoch: 39, Loss: 0.331352\n",
      "Epoch: 40, Loss: 0.277082\n",
      "Epoch: 41, Loss: 0.220391\n",
      "Epoch: 42, Loss: 0.283033\n",
      "Epoch: 43, Loss: 0.319306\n",
      "Epoch: 44, Loss: 0.359272\n",
      "Epoch: 45, Loss: 0.220289\n",
      "Epoch: 46, Loss: 0.166126\n",
      "Epoch: 47, Loss: 0.243272\n",
      "Epoch: 48, Loss: 0.076752\n",
      "Epoch: 49, Loss: 0.286544\n",
      "Epoch: 50, Loss: 0.042749\n",
      "Epoch: 51, Loss: 0.143785\n",
      "Epoch: 52, Loss: 0.113456\n",
      "Epoch: 53, Loss: 0.128200\n",
      "Epoch: 54, Loss: 0.187740\n",
      "Epoch: 55, Loss: 0.137948\n",
      "Epoch: 56, Loss: 0.030522\n",
      "Epoch: 57, Loss: 0.347212\n",
      "Epoch: 58, Loss: 0.162393\n",
      "Epoch: 59, Loss: 0.130354\n",
      "Epoch: 60, Loss: 0.157463\n",
      "Epoch: 61, Loss: 0.076666\n",
      "Epoch: 62, Loss: 0.117866\n",
      "Epoch: 63, Loss: 0.907739\n",
      "Epoch: 64, Loss: 0.008049\n",
      "Epoch: 65, Loss: 0.053233\n",
      "Epoch: 66, Loss: 0.269545\n",
      "Epoch: 67, Loss: 0.035288\n",
      "Epoch: 68, Loss: 0.009586\n",
      "Epoch: 69, Loss: 0.236636\n",
      "Epoch: 70, Loss: 0.017731\n",
      "Epoch: 71, Loss: 0.069951\n",
      "Epoch: 72, Loss: 0.024211\n",
      "Epoch: 73, Loss: 0.656974\n",
      "Epoch: 74, Loss: 0.015635\n",
      "Epoch: 75, Loss: 0.373488\n",
      "Epoch: 76, Loss: 0.086959\n",
      "Epoch: 77, Loss: 0.082706\n",
      "Epoch: 78, Loss: 0.002215\n",
      "Epoch: 79, Loss: 0.064778\n",
      "Epoch: 80, Loss: 0.079957\n",
      "Epoch: 81, Loss: 0.048371\n",
      "Epoch: 82, Loss: 0.008379\n",
      "Epoch: 83, Loss: 0.057615\n",
      "Epoch: 84, Loss: 0.008793\n",
      "Epoch: 85, Loss: 0.235239\n",
      "Epoch: 86, Loss: 0.023774\n",
      "Epoch: 87, Loss: 0.004142\n",
      "Epoch: 88, Loss: 1.451413\n",
      "Epoch: 89, Loss: 0.026735\n",
      "Epoch: 90, Loss: 0.039735\n",
      "Epoch: 91, Loss: 0.021081\n",
      "Epoch: 92, Loss: 0.013496\n",
      "Epoch: 93, Loss: 0.008294\n",
      "Epoch: 94, Loss: 0.024506\n",
      "Epoch: 95, Loss: 0.001966\n",
      "Epoch: 96, Loss: 1.441222\n",
      "Epoch: 97, Loss: 0.007887\n",
      "Epoch: 98, Loss: 0.005848\n",
      "Epoch: 99, Loss: 0.002262\n"
     ]
    }
   ],
   "source": [
    "# training loop \n",
    "for epoch in range(n_epochs):\n",
    "    #for img, label in cifar2:\n",
    "    for imgs, labels in train_loader:\n",
    "        batch_size = imgs.shape[0]\n",
    "        outputs = model(imgs.view(batch_size, -1)) # keep the batch size shape and combine other dimensions, should be 64, 3072\n",
    "        loss = loss_fn(outputs, labels)\n",
    "        \n",
    "        optimizer.zero_grad()\n",
    "        loss.backward()\n",
    "        optimizer.step()\n",
    "    \n",
    "    print(\"Epoch: %d, Loss: %f\" % (epoch, float(loss)))"
   ]
  },
  {
   "cell_type": "code",
   "execution_count": 104,
   "id": "6cce788f-ee5d-4266-9f6c-38461e996573",
   "metadata": {},
   "outputs": [
    {
     "name": "stdout",
     "output_type": "stream",
     "text": [
      "Validation Accuracy: 0.743000\n",
      "Training Accuracy: 0.999200\n"
     ]
    }
   ],
   "source": [
    "# validation perfromance\n",
    "\n",
    "# evaluation of model\n",
    "\n",
    "val_loader = torch.utils.data.DataLoader(cifar2_val, \n",
    "                                        batch_size=64,\n",
    "                                        shuffle=False)\n",
    "\n",
    "correct, total = 0, 0\n",
    "\n",
    "with torch.no_grad(): # do not update the gradient graph\n",
    "    for imgs, labels in val_loader:\n",
    "        batch_size = imgs.shape[0]\n",
    "        outputs = model(imgs.view(batch_size, -1))\n",
    "        _ , predicted = torch.max(outputs,dim=1) # get the index of the predicted value, which is also the class label\n",
    "        total += predicted.shape[0]\n",
    "        correct += int((predicted == labels).sum())\n",
    "\n",
    "print(\"Validation Accuracy: %f\" % (correct/total))\n",
    "\n",
    "# training performanceof model\n",
    "\n",
    "correct, total = 0, 0\n",
    "\n",
    "with torch.no_grad(): # do not update the gradient graph\n",
    "    for imgs, labels in train_loader:\n",
    "        batch_size = imgs.shape[0]\n",
    "        outputs = model(imgs.view(batch_size, -1))\n",
    "        _ , predicted = torch.max(outputs,dim=1) # get the index of the predicted value, which is also the class label\n",
    "        total += predicted.shape[0]\n",
    "        correct += int((predicted == labels).sum())\n",
    "\n",
    "print(\"Training Accuracy: %f\" % (correct/total))"
   ]
  },
  {
   "cell_type": "code",
   "execution_count": null,
   "id": "db35ca1f-c3d9-4929-9312-2700cda4907f",
   "metadata": {},
   "outputs": [],
   "source": []
  },
  {
   "cell_type": "code",
   "execution_count": 114,
   "id": "996a8f38-7200-47f9-b186-83a9896e1a23",
   "metadata": {},
   "outputs": [],
   "source": [
    "# training loop with dataloader and minibatching\n",
    "train_loader = torch.utils.data.DataLoader(cifar2, \n",
    "                                          batch_size=64,\n",
    "                                          shuffle=True)\n",
    "\n",
    "INPUT_SIZE = 3 * 24 * 24"
   ]
  },
  {
   "cell_type": "code",
   "execution_count": 115,
   "id": "3e86d96a-0058-45f5-b807-815b810e90fe",
   "metadata": {},
   "outputs": [],
   "source": [
    "model = nn.Sequential(\n",
    "    nn.Linear(INPUT_SIZE, 8),\n",
    "    nn.Tanh(),\n",
    "    nn.Linear(8, 2),\n",
    ")"
   ]
  },
  {
   "cell_type": "code",
   "execution_count": 116,
   "id": "f092ff78-6fb7-42fa-a6c1-6438fb15ec3b",
   "metadata": {},
   "outputs": [],
   "source": [
    "learning_rate = 1e-2\n",
    "\n",
    "n_epochs = 100\n",
    "\n",
    "optimizer = optim.SGD(model.parameters(), lr=learning_rate)\n",
    "\n",
    "loss_fn = nn.CrossEntropyLoss() # nn.NLLLoss() combined with nn.LogSoftMax()"
   ]
  },
  {
   "cell_type": "code",
   "execution_count": 117,
   "id": "8d6b2a4b-e3d0-4f0f-8b6e-04f16729a6d8",
   "metadata": {},
   "outputs": [
    {
     "name": "stdout",
     "output_type": "stream",
     "text": [
      "Epoch: 0, Loss: 0.538788\n",
      "Epoch: 1, Loss: 0.729645\n",
      "Epoch: 2, Loss: 0.590335\n",
      "Epoch: 3, Loss: 0.582860\n",
      "Epoch: 4, Loss: 0.700672\n",
      "Epoch: 5, Loss: 0.999565\n",
      "Epoch: 6, Loss: 0.417933\n",
      "Epoch: 7, Loss: 0.340043\n",
      "Epoch: 8, Loss: 0.617523\n",
      "Epoch: 9, Loss: 0.478795\n",
      "Epoch: 10, Loss: 0.506696\n",
      "Epoch: 11, Loss: 0.727054\n",
      "Epoch: 12, Loss: 0.467071\n",
      "Epoch: 13, Loss: 0.626050\n",
      "Epoch: 14, Loss: 0.452657\n",
      "Epoch: 15, Loss: 0.513229\n",
      "Epoch: 16, Loss: 0.442290\n",
      "Epoch: 17, Loss: 0.446441\n",
      "Epoch: 18, Loss: 0.549948\n",
      "Epoch: 19, Loss: 0.399162\n",
      "Epoch: 20, Loss: 0.498725\n",
      "Epoch: 21, Loss: 0.310425\n",
      "Epoch: 22, Loss: 0.499774\n",
      "Epoch: 23, Loss: 0.457645\n",
      "Epoch: 24, Loss: 0.429249\n",
      "Epoch: 25, Loss: 0.384295\n",
      "Epoch: 26, Loss: 0.574034\n",
      "Epoch: 27, Loss: 0.390759\n",
      "Epoch: 28, Loss: 0.383263\n",
      "Epoch: 29, Loss: 0.481402\n",
      "Epoch: 30, Loss: 0.530654\n",
      "Epoch: 31, Loss: 0.479161\n",
      "Epoch: 32, Loss: 0.323753\n",
      "Epoch: 33, Loss: 0.607643\n",
      "Epoch: 34, Loss: 0.507591\n",
      "Epoch: 35, Loss: 0.730358\n",
      "Epoch: 36, Loss: 0.337067\n",
      "Epoch: 37, Loss: 0.404658\n",
      "Epoch: 38, Loss: 0.400219\n",
      "Epoch: 39, Loss: 0.600317\n",
      "Epoch: 40, Loss: 0.582479\n",
      "Epoch: 41, Loss: 0.401524\n",
      "Epoch: 42, Loss: 0.609080\n",
      "Epoch: 43, Loss: 0.563153\n",
      "Epoch: 44, Loss: 0.502921\n",
      "Epoch: 45, Loss: 0.364263\n",
      "Epoch: 46, Loss: 0.228692\n",
      "Epoch: 47, Loss: 0.448262\n",
      "Epoch: 48, Loss: 0.420485\n",
      "Epoch: 49, Loss: 0.419675\n",
      "Epoch: 50, Loss: 0.353281\n",
      "Epoch: 51, Loss: 0.604164\n",
      "Epoch: 52, Loss: 0.331102\n",
      "Epoch: 53, Loss: 0.455461\n",
      "Epoch: 54, Loss: 0.551283\n",
      "Epoch: 55, Loss: 0.369532\n",
      "Epoch: 56, Loss: 0.459346\n",
      "Epoch: 57, Loss: 0.599236\n",
      "Epoch: 58, Loss: 0.512072\n",
      "Epoch: 59, Loss: 0.528658\n",
      "Epoch: 60, Loss: 0.235532\n",
      "Epoch: 61, Loss: 0.300316\n",
      "Epoch: 62, Loss: 0.619462\n",
      "Epoch: 63, Loss: 0.478431\n",
      "Epoch: 64, Loss: 0.624524\n",
      "Epoch: 65, Loss: 0.456366\n",
      "Epoch: 66, Loss: 0.414720\n",
      "Epoch: 67, Loss: 0.874123\n",
      "Epoch: 68, Loss: 0.429705\n",
      "Epoch: 69, Loss: 0.717389\n",
      "Epoch: 70, Loss: 0.248842\n",
      "Epoch: 71, Loss: 0.479017\n",
      "Epoch: 72, Loss: 0.540210\n",
      "Epoch: 73, Loss: 0.151973\n",
      "Epoch: 74, Loss: 0.435783\n",
      "Epoch: 75, Loss: 0.394300\n",
      "Epoch: 76, Loss: 0.433618\n",
      "Epoch: 77, Loss: 0.177653\n",
      "Epoch: 78, Loss: 0.550232\n",
      "Epoch: 79, Loss: 0.527741\n",
      "Epoch: 80, Loss: 0.256594\n",
      "Epoch: 81, Loss: 0.340849\n",
      "Epoch: 82, Loss: 0.307763\n",
      "Epoch: 83, Loss: 0.192736\n",
      "Epoch: 84, Loss: 0.223051\n",
      "Epoch: 85, Loss: 0.595126\n",
      "Epoch: 86, Loss: 0.468903\n",
      "Epoch: 87, Loss: 0.210396\n",
      "Epoch: 88, Loss: 0.310846\n",
      "Epoch: 89, Loss: 0.259827\n",
      "Epoch: 90, Loss: 0.276502\n",
      "Epoch: 91, Loss: 0.474682\n",
      "Epoch: 92, Loss: 0.280330\n",
      "Epoch: 93, Loss: 0.523536\n",
      "Epoch: 94, Loss: 0.403004\n",
      "Epoch: 95, Loss: 0.440438\n",
      "Epoch: 96, Loss: 0.489578\n",
      "Epoch: 97, Loss: 0.200861\n",
      "Epoch: 98, Loss: 0.305421\n",
      "Epoch: 99, Loss: 0.384812\n"
     ]
    }
   ],
   "source": [
    "# training loop \n",
    "for epoch in range(n_epochs):\n",
    "    #for img, label in cifar2:\n",
    "    for imgs, labels in train_loader:\n",
    "        batch_size = imgs.shape[0]\n",
    "        outputs = model(imgs.view(batch_size, -1)) # keep the batch size shape and combine other dimensions, should be 64, 3072\n",
    "        loss = loss_fn(outputs, labels)\n",
    "        \n",
    "        optimizer.zero_grad()\n",
    "        loss.backward()\n",
    "        optimizer.step()\n",
    "    \n",
    "    print(\"Epoch: %d, Loss: %f\" % (epoch, float(loss)))"
   ]
  },
  {
   "cell_type": "code",
   "execution_count": 119,
   "id": "aed5f78f-bbd1-47cb-84af-aa795bb6cedc",
   "metadata": {},
   "outputs": [
    {
     "name": "stdout",
     "output_type": "stream",
     "text": [
      "Validation Accuracy: 0.719500\n",
      "Training Accuracy: 0.831500\n"
     ]
    }
   ],
   "source": [
    "# validation perfromance\n",
    "\n",
    "# evaluation of model\n",
    "\n",
    "val_loader = torch.utils.data.DataLoader(cifar2_val, \n",
    "                                        batch_size=64,\n",
    "                                        shuffle=False)\n",
    "\n",
    "correct, total = 0, 0\n",
    "\n",
    "with torch.no_grad(): # do not update the gradient graph\n",
    "    for imgs, labels in val_loader:\n",
    "        batch_size = imgs.shape[0]\n",
    "        outputs = model(imgs.view(batch_size, -1))\n",
    "        _ , predicted = torch.max(outputs,dim=1) # get the index of the predicted value, which is also the class label\n",
    "        total += predicted.shape[0]\n",
    "        correct += int((predicted == labels).sum())\n",
    "\n",
    "print(\"Validation Accuracy: %f\" % (correct/total))\n",
    "\n",
    "# training performanceof model\n",
    "\n",
    "correct, total = 0, 0\n",
    "\n",
    "with torch.no_grad(): # do not update the gradient graph\n",
    "    for imgs, labels in train_loader:\n",
    "        batch_size = imgs.shape[0]\n",
    "        outputs = model(imgs.view(batch_size, -1))\n",
    "        _ , predicted = torch.max(outputs,dim=1) # get the index of the predicted value, which is also the class label\n",
    "        total += predicted.shape[0]\n",
    "        correct += int((predicted == labels).sum())\n",
    "\n",
    "print(\"Training Accuracy: %f\" % (correct/total))"
   ]
  },
  {
   "cell_type": "markdown",
   "id": "a338fe7b-5440-48cd-b95c-266cc3e38ab9",
   "metadata": {},
   "source": [
    "a) How does the model perform on the validation set when doing so?"
   ]
  },
  {
   "cell_type": "code",
   "execution_count": null,
   "id": "8f6af1ae-8801-4b58-b469-ce337a18fac1",
   "metadata": {},
   "outputs": [],
   "source": []
  }
 ],
 "metadata": {
  "kernelspec": {
   "display_name": "k_dlwpt",
   "language": "python",
   "name": "conda-env-k_dlwpt-py"
  },
  "language_info": {
   "codemirror_mode": {
    "name": "ipython",
    "version": 3
   },
   "file_extension": ".py",
   "mimetype": "text/x-python",
   "name": "python",
   "nbconvert_exporter": "python",
   "pygments_lexer": "ipython3",
   "version": "3.6.8"
  }
 },
 "nbformat": 4,
 "nbformat_minor": 5
}
